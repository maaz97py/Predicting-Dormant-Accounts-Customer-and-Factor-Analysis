{
  "nbformat": 4,
  "nbformat_minor": 0,
  "metadata": {
    "colab": {
      "name": "Bank_project_model",
      "provenance": [],
      "collapsed_sections": []
    },
    "kernelspec": {
      "name": "python3",
      "display_name": "Python 3"
    },
    "language_info": {
      "name": "python"
    }
  },
  "cells": [
    {
      "cell_type": "code",
      "metadata": {
        "id": "G2I-KTDqTNCW"
      },
      "source": [
        "import pandas as pd\n",
        "import numpy as np\n",
        "import matplotlib.pyplot as plt\n",
        "import seaborn as sns\n"
      ],
      "execution_count": null,
      "outputs": []
    },
    {
      "cell_type": "code",
      "metadata": {
        "id": "tjuy5wFpBpEe",
        "colab": {
          "resources": {
            "http://localhost:8080/nbextensions/google.colab/files.js": {
              "data": "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",
              "ok": true,
              "headers": [
                [
                  "content-type",
                  "application/javascript"
                ]
              ],
              "status": 200,
              "status_text": ""
            }
          },
          "base_uri": "https://localhost:8080/",
          "height": 73
        },
        "outputId": "2ff811df-4000-406c-ed0f-bdbef3cd9eb5"
      },
      "source": [
        "from google.colab import files\n",
        "uploaded = files.upload()"
      ],
      "execution_count": null,
      "outputs": [
        {
          "output_type": "display_data",
          "data": {
            "text/html": [
              "\n",
              "     <input type=\"file\" id=\"files-50497206-ecfc-4abc-82a8-7aa84fba6ad9\" name=\"files[]\" multiple disabled\n",
              "        style=\"border:none\" />\n",
              "     <output id=\"result-50497206-ecfc-4abc-82a8-7aa84fba6ad9\">\n",
              "      Upload widget is only available when the cell has been executed in the\n",
              "      current browser session. Please rerun this cell to enable.\n",
              "      </output>\n",
              "      <script src=\"/nbextensions/google.colab/files.js\"></script> "
            ],
            "text/plain": [
              "<IPython.core.display.HTML object>"
            ]
          },
          "metadata": {
            "tags": []
          }
        },
        {
          "output_type": "stream",
          "text": [
            "Saving bd_new.csv to bd_new (2).csv\n"
          ],
          "name": "stdout"
        }
      ]
    },
    {
      "cell_type": "code",
      "metadata": {
        "id": "TLx9qA8UBpAi"
      },
      "source": [
        "df = pd.read_csv(\"bd_new (2).csv\")"
      ],
      "execution_count": null,
      "outputs": []
    },
    {
      "cell_type": "code",
      "metadata": {
        "id": "OXy9RThOBo9M",
        "colab": {
          "base_uri": "https://localhost:8080/"
        },
        "outputId": "60b6d7a7-0d62-4b82-8402-b0e443d273d1"
      },
      "source": [
        "df.info()"
      ],
      "execution_count": null,
      "outputs": [
        {
          "output_type": "stream",
          "text": [
            "<class 'pandas.core.frame.DataFrame'>\n",
            "RangeIndex: 1091 entries, 0 to 1090\n",
            "Data columns (total 38 columns):\n",
            " #   Column                                                                                          Non-Null Count  Dtype  \n",
            "---  ------                                                                                          --------------  -----  \n",
            " 0   Timestamp                                                                                       1091 non-null   object \n",
            " 1   Score                                                                                           0 non-null      float64\n",
            " 2   Name                                                                                            1091 non-null   object \n",
            " 3   Gender                                                                                          1091 non-null   object \n",
            " 4   Age                                                                                             1091 non-null   int64  \n",
            " 5   Education qualification                                                                         1089 non-null   object \n",
            " 6   Occupation                                                                                      1089 non-null   object \n",
            " 7   If  Other  then Please Specify                                                                  141 non-null    object \n",
            " 8   Account NO(not manadatory to disclose)                                                          240 non-null    object \n",
            " 9   Account Type                                                                                    1089 non-null   object \n",
            " 10  City                                                                                            1090 non-null   object \n",
            " 11  Branch                                                                                          1085 non-null   object \n",
            " 12  Current City                                                                                    1088 non-null   object \n",
            " 13  House Distance from Bank(in KM)(Binning)(Near, Outskirts, Intercity, Abroad)                    1090 non-null   object \n",
            " 14  Opening Balance                                                                                 1091 non-null   object \n",
            " 15  Having Minimum Balance                                                                          1090 non-null   object \n",
            " 16  Current Balance                                                                                 1091 non-null   object \n",
            " 17  Month and year  when the last transaction was done in 24 month(for ex Jan -2021, Mar-2018 etc)  696 non-null    object \n",
            " 18  Quarterly Activity Rate(no of transaction in 3 month)                                           624 non-null    object \n",
            " 19  Do you have multiple account                                                                    1090 non-null   object \n",
            " 20  if Yes then in which Bank(please use ; to seperate the bank names)                              387 non-null    object \n",
            " 21  Do you have an active  loan                                                                     1090 non-null   object \n",
            " 22  Do you have Internet Banking or mobile banking with this  account                               1090 non-null   object \n",
            " 23  if yes then which one                                                                           633 non-null    object \n",
            " 24  Do you have active Credit Card with this account                                                1091 non-null   object \n",
            " 25  Did any suspicious transaction reported in your account                                         1091 non-null   object \n",
            " 26  Have you ever defaulted any loan payment                                                        1091 non-null   object \n",
            " 27  Are you satisfied with the service provided by bank                                             1090 non-null   object \n",
            " 28  Current Status of your accounts (Output variable)                                               1091 non-null   object \n",
            " 29  Please suggest if any important performance indicator is missing from the above (Word Cloud)    49 non-null     object \n",
            " 30  If Yes then Please Specify                                                                      687 non-null    object \n",
            " 31  Received any service call from bank  in 24 month with reference to  your account. (EDA)         849 non-null    object \n",
            " 32  if Other Account then Please Specify                                                            96 non-null     object \n",
            " 33   Transaction done in 24 month                                                                   1080 non-null   object \n",
            " 34  Do you have recent closed Loan                                                                  1014 non-null   object \n",
            " 35  Do you have the Demat account associated to this account.                                       1013 non-null   object \n",
            " 36  Email address                                                                                   237 non-null    object \n",
            " 37  End date                                                                                        1091 non-null   object \n",
            "dtypes: float64(1), int64(1), object(36)\n",
            "memory usage: 324.0+ KB\n"
          ],
          "name": "stdout"
        }
      ]
    },
    {
      "cell_type": "code",
      "metadata": {
        "id": "KnaVVHy3oXkM",
        "colab": {
          "base_uri": "https://localhost:8080/"
        },
        "outputId": "35d4787a-8c38-4676-ad4f-d39adab24627"
      },
      "source": [
        "df.columns"
      ],
      "execution_count": null,
      "outputs": [
        {
          "output_type": "execute_result",
          "data": {
            "text/plain": [
              "Index(['Timestamp', 'Score', 'Name', 'Gender', 'Age',\n",
              "       'Education qualification', 'Occupation',\n",
              "       'If  Other  then Please Specify',\n",
              "       'Account NO(not manadatory to disclose)', 'Account Type', 'City',\n",
              "       'Branch', 'Current City',\n",
              "       'House Distance from Bank(in KM)(Binning)(Near, Outskirts, Intercity, Abroad)',\n",
              "       'Opening Balance', 'Having Minimum Balance', 'Current Balance',\n",
              "       'Month and year  when the last transaction was done in 24 month(for ex Jan -2021, Mar-2018 etc)',\n",
              "       'Quarterly Activity Rate(no of transaction in 3 month)',\n",
              "       'Do you have multiple account',\n",
              "       'if Yes then in which Bank(please use ; to seperate the bank names)',\n",
              "       'Do you have an active  loan ',\n",
              "       'Do you have Internet Banking or mobile banking with this  account',\n",
              "       'if yes then which one',\n",
              "       'Do you have active Credit Card with this account',\n",
              "       'Did any suspicious transaction reported in your account',\n",
              "       'Have you ever defaulted any loan payment',\n",
              "       'Are you satisfied with the service provided by bank',\n",
              "       'Current Status of your accounts (Output variable)',\n",
              "       'Please suggest if any important performance indicator is missing from the above (Word Cloud)',\n",
              "       'If Yes then Please Specify',\n",
              "       'Received any service call from bank  in 24 month with reference to  your account. (EDA)',\n",
              "       'if Other Account then Please Specify', ' Transaction done in 24 month',\n",
              "       'Do you have recent closed Loan ',\n",
              "       'Do you have the Demat account associated to this account.',\n",
              "       'Email address', 'End date'],\n",
              "      dtype='object')"
            ]
          },
          "metadata": {
            "tags": []
          },
          "execution_count": 221
        }
      ]
    },
    {
      "cell_type": "code",
      "metadata": {
        "id": "VbGsorOuBo4K"
      },
      "source": [
        "#drop irrelevant columns\n",
        "to_drop = ['Timestamp','Score','Name','Account NO(not manadatory to disclose)','If  Other  then Please Specify',\n",
        "           'Branch','if Yes then in which Bank(please use ; to seperate the bank names)','if yes then which one',\n",
        "           'If Yes then Please Specify','Email address','if Other Account then Please Specify','End date','Please suggest if any important performance indicator is missing from the above (Word Cloud)']"
      ],
      "execution_count": null,
      "outputs": []
    },
    {
      "cell_type": "code",
      "metadata": {
        "id": "xx7AQcyMMBJ2"
      },
      "source": [
        "df1 = df.drop(to_drop, axis =1)"
      ],
      "execution_count": null,
      "outputs": []
    },
    {
      "cell_type": "markdown",
      "metadata": {
        "id": "XKQux1S4rKYR"
      },
      "source": [
        "Dealing with missing values"
      ]
    },
    {
      "cell_type": "code",
      "metadata": {
        "id": "031lv6tdMA93",
        "colab": {
          "base_uri": "https://localhost:8080/"
        },
        "outputId": "76e36c8b-5b8f-4f86-d086-4ed5e82e3faa"
      },
      "source": [
        "df1.isnull().sum()"
      ],
      "execution_count": null,
      "outputs": [
        {
          "output_type": "execute_result",
          "data": {
            "text/plain": [
              "Gender                                                                                              0\n",
              "Age                                                                                                 0\n",
              "Education qualification                                                                             2\n",
              "Occupation                                                                                          2\n",
              "Account Type                                                                                        2\n",
              "City                                                                                                1\n",
              "Current City                                                                                        3\n",
              "House Distance from Bank(in KM)(Binning)(Near, Outskirts, Intercity, Abroad)                        1\n",
              "Opening Balance                                                                                     0\n",
              "Having Minimum Balance                                                                              1\n",
              "Current Balance                                                                                     0\n",
              "Month and year  when the last transaction was done in 24 month(for ex Jan -2021, Mar-2018 etc)    395\n",
              "Quarterly Activity Rate(no of transaction in 3 month)                                             467\n",
              "Do you have multiple account                                                                        1\n",
              "Do you have an active  loan                                                                         1\n",
              "Do you have Internet Banking or mobile banking with this  account                                   1\n",
              "Do you have active Credit Card with this account                                                    0\n",
              "Did any suspicious transaction reported in your account                                             0\n",
              "Have you ever defaulted any loan payment                                                            0\n",
              "Are you satisfied with the service provided by bank                                                 1\n",
              "Current Status of your accounts (Output variable)                                                   0\n",
              "Received any service call from bank  in 24 month with reference to  your account. (EDA)           242\n",
              " Transaction done in 24 month                                                                      11\n",
              "Do you have recent closed Loan                                                                     77\n",
              "Do you have the Demat account associated to this account.                                          78\n",
              "dtype: int64"
            ]
          },
          "metadata": {
            "tags": []
          },
          "execution_count": 224
        }
      ]
    },
    {
      "cell_type": "code",
      "metadata": {
        "id": "TVQUHoSX1UF2"
      },
      "source": [
        "#convert object to int\n",
        "df1['Current Balance'] = df1['Current Balance'].str.replace(',', '').astype(int)"
      ],
      "execution_count": null,
      "outputs": []
    },
    {
      "cell_type": "code",
      "metadata": {
        "id": "E7Os5UpM1gF8"
      },
      "source": [
        "# convert object to int\n",
        "df1['Opening Balance'] = df1['Opening Balance'].str.replace(',', '').astype(int)\n"
      ],
      "execution_count": null,
      "outputs": []
    },
    {
      "cell_type": "code",
      "metadata": {
        "id": "qQAcrBayWMjs"
      },
      "source": [
        "#imputing with most frequent values\n",
        "df1['Do you have recent closed Loan '].fillna(\"No\", inplace = True)"
      ],
      "execution_count": null,
      "outputs": []
    },
    {
      "cell_type": "code",
      "metadata": {
        "id": "arv6-KVDVBMS"
      },
      "source": [
        "#imputing with most frequent values\n",
        "df1['Do you have the Demat account associated to this account.'].fillna(\"No\", inplace=True)"
      ],
      "execution_count": null,
      "outputs": []
    },
    {
      "cell_type": "code",
      "metadata": {
        "id": "DwGzfqFiVYHl"
      },
      "source": [
        "#imputing with most frequent values\n",
        "df1[' Transaction done in 24 month'].fillna(\"Yes\", inplace =True)"
      ],
      "execution_count": null,
      "outputs": []
    },
    {
      "cell_type": "code",
      "metadata": {
        "id": "h3Oy08lTVgNE"
      },
      "source": [
        "#imputing with most frequent values\n",
        "df1['Received any service call from bank  in 24 month with reference to  your account. (EDA)'].fillna(\"No\", inplace =True)"
      ],
      "execution_count": null,
      "outputs": []
    },
    {
      "cell_type": "code",
      "metadata": {
        "id": "DNcJJ71y8QeI"
      },
      "source": [
        "df1['Quarterly Activity Rate(no of transaction in 3 month)'] = df1['Quarterly Activity Rate(no of transaction in 3 month)'].replace(',', '.', regex=True).astype(float)"
      ],
      "execution_count": null,
      "outputs": []
    },
    {
      "cell_type": "code",
      "metadata": {
        "id": "dM0l8HvhBLJx"
      },
      "source": [
        "#imputing with median\n",
        "df1['Quarterly Activity Rate(no of transaction in 3 month)'] =df1['Quarterly Activity Rate(no of transaction in 3 month)'] .fillna((df1['Quarterly Activity Rate(no of transaction in 3 month)'].median()))"
      ],
      "execution_count": null,
      "outputs": []
    },
    {
      "cell_type": "code",
      "metadata": {
        "id": "MbNwv34yODgV"
      },
      "source": [
        "df1['Month and year  when the last transaction was done in 24 month(for ex Jan -2021, Mar-2018 etc)'] =df1['Month and year  when the last transaction was done in 24 month(for ex Jan -2021, Mar-2018 etc)'] .fillna(df1['Month and year  when the last transaction was done in 24 month(for ex Jan -2021, Mar-2018 etc)'].mode()[0])"
      ],
      "execution_count": null,
      "outputs": []
    },
    {
      "cell_type": "code",
      "metadata": {
        "id": "faF11VVyAtD_",
        "colab": {
          "base_uri": "https://localhost:8080/"
        },
        "outputId": "1872c5a7-5164-4052-d54b-d36f183d3e95"
      },
      "source": [
        "df1.info()"
      ],
      "execution_count": null,
      "outputs": [
        {
          "output_type": "stream",
          "text": [
            "<class 'pandas.core.frame.DataFrame'>\n",
            "RangeIndex: 1091 entries, 0 to 1090\n",
            "Data columns (total 25 columns):\n",
            " #   Column                                                                                          Non-Null Count  Dtype  \n",
            "---  ------                                                                                          --------------  -----  \n",
            " 0   Gender                                                                                          1091 non-null   object \n",
            " 1   Age                                                                                             1091 non-null   int64  \n",
            " 2   Education qualification                                                                         1089 non-null   object \n",
            " 3   Occupation                                                                                      1089 non-null   object \n",
            " 4   Account Type                                                                                    1089 non-null   object \n",
            " 5   City                                                                                            1090 non-null   object \n",
            " 6   Current City                                                                                    1088 non-null   object \n",
            " 7   House Distance from Bank(in KM)(Binning)(Near, Outskirts, Intercity, Abroad)                    1090 non-null   object \n",
            " 8   Opening Balance                                                                                 1091 non-null   int64  \n",
            " 9   Having Minimum Balance                                                                          1090 non-null   object \n",
            " 10  Current Balance                                                                                 1091 non-null   int64  \n",
            " 11  Month and year  when the last transaction was done in 24 month(for ex Jan -2021, Mar-2018 etc)  1091 non-null   object \n",
            " 12  Quarterly Activity Rate(no of transaction in 3 month)                                           1091 non-null   float64\n",
            " 13  Do you have multiple account                                                                    1090 non-null   object \n",
            " 14  Do you have an active  loan                                                                     1090 non-null   object \n",
            " 15  Do you have Internet Banking or mobile banking with this  account                               1090 non-null   object \n",
            " 16  Do you have active Credit Card with this account                                                1091 non-null   object \n",
            " 17  Did any suspicious transaction reported in your account                                         1091 non-null   object \n",
            " 18  Have you ever defaulted any loan payment                                                        1091 non-null   object \n",
            " 19  Are you satisfied with the service provided by bank                                             1090 non-null   object \n",
            " 20  Current Status of your accounts (Output variable)                                               1091 non-null   object \n",
            " 21  Received any service call from bank  in 24 month with reference to  your account. (EDA)         1091 non-null   object \n",
            " 22   Transaction done in 24 month                                                                   1091 non-null   object \n",
            " 23  Do you have recent closed Loan                                                                  1091 non-null   object \n",
            " 24  Do you have the Demat account associated to this account.                                       1091 non-null   object \n",
            "dtypes: float64(1), int64(3), object(21)\n",
            "memory usage: 213.2+ KB\n"
          ],
          "name": "stdout"
        }
      ]
    },
    {
      "cell_type": "code",
      "metadata": {
        "id": "4-_9hm57fJFZ"
      },
      "source": [
        "df2 = df1.dropna()"
      ],
      "execution_count": null,
      "outputs": []
    },
    {
      "cell_type": "code",
      "metadata": {
        "id": "hTdMTZn-B5jM",
        "colab": {
          "base_uri": "https://localhost:8080/"
        },
        "outputId": "16ddb810-7b98-42ec-b154-ebd5bc479e31"
      },
      "source": [
        "# convert object to int\n",
        "df2['House Distance from Bank(in KM)(Binning)(Near, Outskirts, Intercity, Abroad)'] = df2['House Distance from Bank(in KM)(Binning)(Near, Outskirts, Intercity, Abroad)'].str.replace(r\"[a-zA-Z]\",'')"
      ],
      "execution_count": null,
      "outputs": [
        {
          "output_type": "stream",
          "text": [
            "/usr/local/lib/python3.7/dist-packages/ipykernel_launcher.py:2: SettingWithCopyWarning: \n",
            "A value is trying to be set on a copy of a slice from a DataFrame.\n",
            "Try using .loc[row_indexer,col_indexer] = value instead\n",
            "\n",
            "See the caveats in the documentation: https://pandas.pydata.org/pandas-docs/stable/user_guide/indexing.html#returning-a-view-versus-a-copy\n",
            "  \n"
          ],
          "name": "stderr"
        }
      ]
    },
    {
      "cell_type": "code",
      "metadata": {
        "id": "WE1ruKcbB5eO",
        "colab": {
          "base_uri": "https://localhost:8080/"
        },
        "outputId": "276e6d3e-85ab-4407-b222-268dd0d0d224"
      },
      "source": [
        " df2['House Distance from Bank(in KM)(Binning)(Near, Outskirts, Intercity, Abroad)']= df2['House Distance from Bank(in KM)(Binning)(Near, Outskirts, Intercity, Abroad)'].replace(',', '.', regex=True).astype(float)"
      ],
      "execution_count": null,
      "outputs": [
        {
          "output_type": "stream",
          "text": [
            "/usr/local/lib/python3.7/dist-packages/ipykernel_launcher.py:1: SettingWithCopyWarning: \n",
            "A value is trying to be set on a copy of a slice from a DataFrame.\n",
            "Try using .loc[row_indexer,col_indexer] = value instead\n",
            "\n",
            "See the caveats in the documentation: https://pandas.pydata.org/pandas-docs/stable/user_guide/indexing.html#returning-a-view-versus-a-copy\n",
            "  \"\"\"Entry point for launching an IPython kernel.\n"
          ],
          "name": "stderr"
        }
      ]
    },
    {
      "cell_type": "code",
      "metadata": {
        "id": "JVMYsAclE7D8",
        "colab": {
          "base_uri": "https://localhost:8080/"
        },
        "outputId": "81208922-8e79-4faa-8b65-66a2828f0f26"
      },
      "source": [
        "#convert float columns to int\n",
        "df2['House Distance from Bank(in KM)(Binning)(Near, Outskirts, Intercity, Abroad)'] = df2['House Distance from Bank(in KM)(Binning)(Near, Outskirts, Intercity, Abroad)'] .astype(int)"
      ],
      "execution_count": null,
      "outputs": [
        {
          "output_type": "stream",
          "text": [
            "/usr/local/lib/python3.7/dist-packages/ipykernel_launcher.py:2: SettingWithCopyWarning: \n",
            "A value is trying to be set on a copy of a slice from a DataFrame.\n",
            "Try using .loc[row_indexer,col_indexer] = value instead\n",
            "\n",
            "See the caveats in the documentation: https://pandas.pydata.org/pandas-docs/stable/user_guide/indexing.html#returning-a-view-versus-a-copy\n",
            "  \n"
          ],
          "name": "stderr"
        }
      ]
    },
    {
      "cell_type": "code",
      "metadata": {
        "id": "rdhNMD8FE6_k",
        "colab": {
          "base_uri": "https://localhost:8080/"
        },
        "outputId": "dff14ee5-f449-4914-8768-78b738ace498"
      },
      "source": [
        "#float to int\n",
        "df2['Quarterly Activity Rate(no of transaction in 3 month)'] = df2['Quarterly Activity Rate(no of transaction in 3 month)'].astype(int)"
      ],
      "execution_count": null,
      "outputs": [
        {
          "output_type": "stream",
          "text": [
            "/usr/local/lib/python3.7/dist-packages/ipykernel_launcher.py:2: SettingWithCopyWarning: \n",
            "A value is trying to be set on a copy of a slice from a DataFrame.\n",
            "Try using .loc[row_indexer,col_indexer] = value instead\n",
            "\n",
            "See the caveats in the documentation: https://pandas.pydata.org/pandas-docs/stable/user_guide/indexing.html#returning-a-view-versus-a-copy\n",
            "  \n"
          ],
          "name": "stderr"
        }
      ]
    },
    {
      "cell_type": "markdown",
      "metadata": {
        "id": "RIGCBjA-JAY-"
      },
      "source": [
        "**Univariate and Bivariate plots**"
      ]
    },
    {
      "cell_type": "code",
      "metadata": {
        "id": "-CBB_hNTFf3k",
        "colab": {
          "base_uri": "https://localhost:8080/"
        },
        "outputId": "3635cd3c-2b42-4ec4-beb2-2b69ab09b12f"
      },
      "source": [
        "df2.info()"
      ],
      "execution_count": null,
      "outputs": [
        {
          "output_type": "stream",
          "text": [
            "<class 'pandas.core.frame.DataFrame'>\n",
            "Int64Index: 1084 entries, 0 to 1089\n",
            "Data columns (total 25 columns):\n",
            " #   Column                                                                                          Non-Null Count  Dtype \n",
            "---  ------                                                                                          --------------  ----- \n",
            " 0   Gender                                                                                          1084 non-null   object\n",
            " 1   Age                                                                                             1084 non-null   int64 \n",
            " 2   Education qualification                                                                         1084 non-null   object\n",
            " 3   Occupation                                                                                      1084 non-null   object\n",
            " 4   Account Type                                                                                    1084 non-null   object\n",
            " 5   City                                                                                            1084 non-null   object\n",
            " 6   Current City                                                                                    1084 non-null   object\n",
            " 7   House Distance from Bank(in KM)(Binning)(Near, Outskirts, Intercity, Abroad)                    1084 non-null   int64 \n",
            " 8   Opening Balance                                                                                 1084 non-null   int64 \n",
            " 9   Having Minimum Balance                                                                          1084 non-null   object\n",
            " 10  Current Balance                                                                                 1084 non-null   int64 \n",
            " 11  Month and year  when the last transaction was done in 24 month(for ex Jan -2021, Mar-2018 etc)  1084 non-null   object\n",
            " 12  Quarterly Activity Rate(no of transaction in 3 month)                                           1084 non-null   int64 \n",
            " 13  Do you have multiple account                                                                    1084 non-null   object\n",
            " 14  Do you have an active  loan                                                                     1084 non-null   object\n",
            " 15  Do you have Internet Banking or mobile banking with this  account                               1084 non-null   object\n",
            " 16  Do you have active Credit Card with this account                                                1084 non-null   object\n",
            " 17  Did any suspicious transaction reported in your account                                         1084 non-null   object\n",
            " 18  Have you ever defaulted any loan payment                                                        1084 non-null   object\n",
            " 19  Are you satisfied with the service provided by bank                                             1084 non-null   object\n",
            " 20  Current Status of your accounts (Output variable)                                               1084 non-null   object\n",
            " 21  Received any service call from bank  in 24 month with reference to  your account. (EDA)         1084 non-null   object\n",
            " 22   Transaction done in 24 month                                                                   1084 non-null   object\n",
            " 23  Do you have recent closed Loan                                                                  1084 non-null   object\n",
            " 24  Do you have the Demat account associated to this account.                                       1084 non-null   object\n",
            "dtypes: int64(5), object(20)\n",
            "memory usage: 220.2+ KB\n"
          ],
          "name": "stdout"
        }
      ]
    },
    {
      "cell_type": "markdown",
      "metadata": {
        "id": "SQSnq23wNJqG"
      },
      "source": [
        "**Density plots**"
      ]
    },
    {
      "cell_type": "code",
      "metadata": {
        "id": "WZxEfK_2Ffnj",
        "colab": {
          "base_uri": "https://localhost:8080/",
          "height": 570
        },
        "outputId": "1535b416-9300-40b5-ca9c-add73b2e1c84"
      },
      "source": [
        "plt.figure(figsize=(9,8))\n",
        "sns.distplot(df2['Quarterly Activity Rate(no of transaction in 3 month)'], color = 'g', bins = 20, hist_kws={'alpha' : 0.4})"
      ],
      "execution_count": null,
      "outputs": [
        {
          "output_type": "stream",
          "text": [
            "/usr/local/lib/python3.7/dist-packages/seaborn/distributions.py:2557: FutureWarning: `distplot` is a deprecated function and will be removed in a future version. Please adapt your code to use either `displot` (a figure-level function with similar flexibility) or `histplot` (an axes-level function for histograms).\n",
            "  warnings.warn(msg, FutureWarning)\n"
          ],
          "name": "stderr"
        },
        {
          "output_type": "execute_result",
          "data": {
            "text/plain": [
              "<matplotlib.axes._subplots.AxesSubplot at 0x7f0bf24111d0>"
            ]
          },
          "metadata": {
            "tags": []
          },
          "execution_count": 241
        },
        {
          "output_type": "display_data",
          "data": {
            "image/png": "[encoded data removed]",
            "text/plain": [
              "<Figure size 648x576 with 1 Axes>"
            ]
          },
          "metadata": {
            "tags": [],
            "needs_background": "light"
          }
        }
      ]
    },
    {
      "cell_type": "code",
      "metadata": {
        "id": "uvqKnu4jEzJB",
        "colab": {
          "base_uri": "https://localhost:8080/",
          "height": 570
        },
        "outputId": "c8d5362a-a4d3-4f09-f98f-589debb76790"
      },
      "source": [
        "plt.figure(figsize=(9,8))\n",
        "sns.distplot(df2['Age'], color = 'g', bins = 50, hist_kws={'alpha' : 0.4})"
      ],
      "execution_count": null,
      "outputs": [
        {
          "output_type": "stream",
          "text": [
            "/usr/local/lib/python3.7/dist-packages/seaborn/distributions.py:2557: FutureWarning: `distplot` is a deprecated function and will be removed in a future version. Please adapt your code to use either `displot` (a figure-level function with similar flexibility) or `histplot` (an axes-level function for histograms).\n",
            "  warnings.warn(msg, FutureWarning)\n"
          ],
          "name": "stderr"
        },
        {
          "output_type": "execute_result",
          "data": {
            "text/plain": [
              "<matplotlib.axes._subplots.AxesSubplot at 0x7f0bd277fb90>"
            ]
          },
          "metadata": {
            "tags": []
          },
          "execution_count": 242
        },
        {
          "output_type": "display_data",
          "data": {
            "image/png": "[encoded data removed]",
            "text/plain": [
              "<Figure size 648x576 with 1 Axes>"
            ]
          },
          "metadata": {
            "tags": [],
            "needs_background": "light"
          }
        }
      ]
    },
    {
      "cell_type": "code",
      "metadata": {
        "id": "i3VV-rdAEzD2",
        "colab": {
          "base_uri": "https://localhost:8080/",
          "height": 570
        },
        "outputId": "d5831d29-5cc3-4c6b-ea4a-5db7436ac4c5"
      },
      "source": [
        "plt.figure(figsize=(9,8))\n",
        "sns.distplot(df2['House Distance from Bank(in KM)(Binning)(Near, Outskirts, Intercity, Abroad)'], color = 'g', bins = 20, hist_kws={'alpha' : 0.4})"
      ],
      "execution_count": null,
      "outputs": [
        {
          "output_type": "stream",
          "text": [
            "/usr/local/lib/python3.7/dist-packages/seaborn/distributions.py:2557: FutureWarning: `distplot` is a deprecated function and will be removed in a future version. Please adapt your code to use either `displot` (a figure-level function with similar flexibility) or `histplot` (an axes-level function for histograms).\n",
            "  warnings.warn(msg, FutureWarning)\n"
          ],
          "name": "stderr"
        },
        {
          "output_type": "execute_result",
          "data": {
            "text/plain": [
              "<matplotlib.axes._subplots.AxesSubplot at 0x7f0bd2384c10>"
            ]
          },
          "metadata": {
            "tags": []
          },
          "execution_count": 243
        },
        {
          "output_type": "display_data",
          "data": {
            "image/png": "[encoded data removed]",
            "text/plain": [
              "<Figure size 648x576 with 1 Axes>"
            ]
          },
          "metadata": {
            "tags": [],
            "needs_background": "light"
          }
        }
      ]
    },
    {
      "cell_type": "markdown",
      "metadata": {
        "id": "YBFfPJhzkhnM"
      },
      "source": [
        "**Count plots**"
      ]
    },
    {
      "cell_type": "code",
      "metadata": {
        "id": "m659heWykgh3",
        "colab": {
          "base_uri": "https://localhost:8080/",
          "height": 296
        },
        "outputId": "f417b6d7-26f9-49a2-f905-7cf43ddbf68e"
      },
      "source": [
        "sns.countplot(y = 'Occupation', data = df2)"
      ],
      "execution_count": null,
      "outputs": [
        {
          "output_type": "execute_result",
          "data": {
            "text/plain": [
              "<matplotlib.axes._subplots.AxesSubplot at 0x7f0bd2332e50>"
            ]
          },
          "metadata": {
            "tags": []
          },
          "execution_count": 244
        },
        {
          "output_type": "display_data",
          "data": {
            "image/png": "[encoded data removed]",
            "text/plain": [
              "<Figure size 432x288 with 1 Axes>"
            ]
          },
          "metadata": {
            "tags": [],
            "needs_background": "light"
          }
        }
      ]
    },
    {
      "cell_type": "code",
      "metadata": {
        "id": "7TtP1wNqkzD9",
        "colab": {
          "base_uri": "https://localhost:8080/",
          "height": 296
        },
        "outputId": "74ce2365-7c2a-4d91-c948-367816845e01"
      },
      "source": [
        "sns.countplot(y = 'Account Type', data = df2)"
      ],
      "execution_count": null,
      "outputs": [
        {
          "output_type": "execute_result",
          "data": {
            "text/plain": [
              "<matplotlib.axes._subplots.AxesSubplot at 0x7f0bd224c6d0>"
            ]
          },
          "metadata": {
            "tags": []
          },
          "execution_count": 245
        },
        {
          "output_type": "display_data",
          "data": {
            "image/png": "[encoded data removed]",
            "text/plain": [
              "<Figure size 432x288 with 1 Axes>"
            ]
          },
          "metadata": {
            "tags": [],
            "needs_background": "light"
          }
        }
      ]
    },
    {
      "cell_type": "code",
      "metadata": {
        "id": "OvAwW7PhAWNA",
        "colab": {
          "base_uri": "https://localhost:8080/"
        },
        "outputId": "6adcfd2a-9a40-4dc1-acb1-9ec21500b751"
      },
      "source": [
        "df2['Gender'] = df2['Gender'].replace(['Male '], 'Male')"
      ],
      "execution_count": null,
      "outputs": [
        {
          "output_type": "stream",
          "text": [
            "/usr/local/lib/python3.7/dist-packages/ipykernel_launcher.py:1: SettingWithCopyWarning: \n",
            "A value is trying to be set on a copy of a slice from a DataFrame.\n",
            "Try using .loc[row_indexer,col_indexer] = value instead\n",
            "\n",
            "See the caveats in the documentation: https://pandas.pydata.org/pandas-docs/stable/user_guide/indexing.html#returning-a-view-versus-a-copy\n",
            "  \"\"\"Entry point for launching an IPython kernel.\n"
          ],
          "name": "stderr"
        }
      ]
    },
    {
      "cell_type": "code",
      "metadata": {
        "id": "x2YiFSaZlBfX",
        "colab": {
          "base_uri": "https://localhost:8080/",
          "height": 352
        },
        "outputId": "53f93707-ae35-43cd-dfff-66659a4de7eb"
      },
      "source": [
        "sns.countplot('Gender', data = df2)"
      ],
      "execution_count": null,
      "outputs": [
        {
          "output_type": "stream",
          "text": [
            "/usr/local/lib/python3.7/dist-packages/seaborn/_decorators.py:43: FutureWarning: Pass the following variable as a keyword arg: x. From version 0.12, the only valid positional argument will be `data`, and passing other arguments without an explicit keyword will result in an error or misinterpretation.\n",
            "  FutureWarning\n"
          ],
          "name": "stderr"
        },
        {
          "output_type": "execute_result",
          "data": {
            "text/plain": [
              "<matplotlib.axes._subplots.AxesSubplot at 0x7f0bd21d61d0>"
            ]
          },
          "metadata": {
            "tags": []
          },
          "execution_count": 247
        },
        {
          "output_type": "display_data",
          "data": {
            "image/png": "[encoded data removed]",
            "text/plain": [
              "<Figure size 432x288 with 1 Axes>"
            ]
          },
          "metadata": {
            "tags": [],
            "needs_background": "light"
          }
        }
      ]
    },
    {
      "cell_type": "markdown",
      "metadata": {
        "id": "E1R1KXKlPhvy"
      },
      "source": [
        "correlation - bivariate analysis"
      ]
    },
    {
      "cell_type": "code",
      "metadata": {
        "id": "o1hKiHNxEy84",
        "colab": {
          "base_uri": "https://localhost:8080/",
          "height": 1000
        },
        "outputId": "c6257894-c51b-4b5f-d0a3-a777f012f53f"
      },
      "source": [
        "corr = df2.corr(method = \"spearman\")\n",
        "plt.figure(figsize = (15,15))\n",
        "sns.heatmap(corr, vmax = 8,linewidths = 1, square = True,annot = True, cmap='RdBu',linecolor = 'Black')"
      ],
      "execution_count": null,
      "outputs": [
        {
          "output_type": "execute_result",
          "data": {
            "text/plain": [
              "<matplotlib.axes._subplots.AxesSubplot at 0x7f0bd21bb110>"
            ]
          },
          "metadata": {
            "tags": []
          },
          "execution_count": 248
        },
        {
          "output_type": "display_data",
          "data": {
            "image/png": "[encoded data removed]",
            "text/plain": [
              "<Figure size 1080x1080 with 2 Axes>"
            ]
          },
          "metadata": {
            "tags": [],
            "needs_background": "light"
          }
        }
      ]
    },
    {
      "cell_type": "markdown",
      "metadata": {
        "id": "3-sBJh4GRA41"
      },
      "source": [
        "**plots between independent and dependent variables**"
      ]
    },
    {
      "cell_type": "code",
      "metadata": {
        "id": "1l8ec3M1rY31",
        "colab": {
          "base_uri": "https://localhost:8080/"
        },
        "outputId": "6832c30d-7c0e-48a3-f343-9969d002f71f"
      },
      "source": [
        "df2['Current Status of your accounts (Output variable)']  = df['Current Status of your accounts (Output variable)'].replace(['Dormant( Not active since last 24 month)','Dormant( Not Active since last 24 month)'], 'Dormant')"
      ],
      "execution_count": null,
      "outputs": [
        {
          "output_type": "stream",
          "text": [
            "/usr/local/lib/python3.7/dist-packages/ipykernel_launcher.py:1: SettingWithCopyWarning: \n",
            "A value is trying to be set on a copy of a slice from a DataFrame.\n",
            "Try using .loc[row_indexer,col_indexer] = value instead\n",
            "\n",
            "See the caveats in the documentation: https://pandas.pydata.org/pandas-docs/stable/user_guide/indexing.html#returning-a-view-versus-a-copy\n",
            "  \"\"\"Entry point for launching an IPython kernel.\n"
          ],
          "name": "stderr"
        }
      ]
    },
    {
      "cell_type": "code",
      "metadata": {
        "id": "J3neYgJr_BNS",
        "colab": {
          "base_uri": "https://localhost:8080/",
          "height": 407
        },
        "outputId": "2de73d5c-42ca-4986-a329-22e3a582218a"
      },
      "source": [
        "#value counts in target variable\n",
        "outputs = pd.DataFrame(df2['Current Status of your accounts (Output variable)'].value_counts()).reset_index()\n",
        "plt.pie(x =outputs['Current Status of your accounts (Output variable)'], colors = ['g', 'r', 'b'],labels=outputs['index'], explode =  (0, 0, 0.1),textprops={'fontsize': 16},autopct='%.2f')\n",
        "        "
      ],
      "execution_count": null,
      "outputs": [
        {
          "output_type": "execute_result",
          "data": {
            "text/plain": [
              "([<matplotlib.patches.Wedge at 0x7f0bd1860090>,\n",
              "  <matplotlib.patches.Wedge at 0x7f0bd1860850>,\n",
              "  <matplotlib.patches.Wedge at 0x7f0bd1866110>],\n",
              " [Text(-0.44876903220594594, 1.0042939588252728, 'Active'),\n",
              "  Text(0.0859872525289328, -1.096634028471908, 'Dormant'),\n",
              "  Text(1.1305104351411148, -0.4024253421903838, 'InActive( Not Active since last 12 month)')],\n",
              " [Text(-0.24478310847597046, 0.5477967048137851, '63.38'),\n",
              "  Text(0.04690213774305425, -0.5981640155301315, '25.74'),\n",
              "  Text(0.6594644204989836, -0.23474811627772388, '10.89')])"
            ]
          },
          "metadata": {
            "tags": []
          },
          "execution_count": 250
        },
        {
          "output_type": "display_data",
          "data": {
            "image/png": "[encoded data removed]",
            "text/plain": [
              "<Figure size 432x288 with 1 Axes>"
            ]
          },
          "metadata": {
            "tags": []
          }
        }
      ]
    },
    {
      "cell_type": "code",
      "metadata": {
        "id": "dyOvNtyVsBX3",
        "colab": {
          "base_uri": "https://localhost:8080/"
        },
        "outputId": "5c308d0f-af53-41b4-8511-90cf7eefa957"
      },
      "source": [
        "df2['Current Status of your accounts (Output variable)'].value_counts()"
      ],
      "execution_count": null,
      "outputs": [
        {
          "output_type": "execute_result",
          "data": {
            "text/plain": [
              "Active                                       687\n",
              "Dormant                                      279\n",
              "InActive( Not Active since last 12 month)    118\n",
              "Name: Current Status of your accounts (Output variable), dtype: int64"
            ]
          },
          "metadata": {
            "tags": []
          },
          "execution_count": 251
        }
      ]
    },
    {
      "cell_type": "code",
      "metadata": {
        "id": "F7B_uZKMB5X9",
        "colab": {
          "base_uri": "https://localhost:8080/",
          "height": 312
        },
        "outputId": "395239a4-b0ce-4820-d33f-a086b03e463f"
      },
      "source": [
        "#barplot\n",
        "sns.barplot(x = df2['Age'], y = df2['Current Status of your accounts (Output variable)'])"
      ],
      "execution_count": null,
      "outputs": [
        {
          "output_type": "execute_result",
          "data": {
            "text/plain": [
              "<matplotlib.axes._subplots.AxesSubplot at 0x7f0bd1875610>"
            ]
          },
          "metadata": {
            "tags": []
          },
          "execution_count": 252
        },
        {
          "output_type": "display_data",
          "data": {
            "image/png": "[encoded data removed]",
            "text/plain": [
              "<Figure size 432x288 with 1 Axes>"
            ]
          },
          "metadata": {
            "tags": [],
            "needs_background": "light"
          }
        }
      ]
    },
    {
      "cell_type": "code",
      "metadata": {
        "id": "c8gjc1bTNjWv",
        "colab": {
          "base_uri": "https://localhost:8080/",
          "height": 312
        },
        "outputId": "7772b847-885b-461c-fa91-b91b66db4320"
      },
      "source": [
        "sns.barplot(x = df2['Quarterly Activity Rate(no of transaction in 3 month)'], y= df2['Current Status of your accounts (Output variable)'])"
      ],
      "execution_count": null,
      "outputs": [
        {
          "output_type": "execute_result",
          "data": {
            "text/plain": [
              "<matplotlib.axes._subplots.AxesSubplot at 0x7f0bd17c1a50>"
            ]
          },
          "metadata": {
            "tags": []
          },
          "execution_count": 253
        },
        {
          "output_type": "display_data",
          "data": {
            "image/png": "[encoded data removed]",
            "text/plain": [
              "<Figure size 432x288 with 1 Axes>"
            ]
          },
          "metadata": {
            "tags": [],
            "needs_background": "light"
          }
        }
      ]
    },
    {
      "cell_type": "code",
      "metadata": {
        "id": "6M4lTI4Zd_9N",
        "colab": {
          "base_uri": "https://localhost:8080/",
          "height": 296
        },
        "outputId": "8ee6b8c7-d1f4-44e1-e046-98daae65e960"
      },
      "source": [
        " sns.barplot(x = df2['Age'], y =df2['Account Type'])"
      ],
      "execution_count": null,
      "outputs": [
        {
          "output_type": "execute_result",
          "data": {
            "text/plain": [
              "<matplotlib.axes._subplots.AxesSubplot at 0x7f0bd1740c10>"
            ]
          },
          "metadata": {
            "tags": []
          },
          "execution_count": 254
        },
        {
          "output_type": "display_data",
          "data": {
            "image/png": "[encoded data removed]",
            "text/plain": [
              "<Figure size 432x288 with 1 Axes>"
            ]
          },
          "metadata": {
            "tags": [],
            "needs_background": "light"
          }
        }
      ]
    },
    {
      "cell_type": "code",
      "metadata": {
        "id": "N3h9Cl1a_fmQ",
        "colab": {
          "base_uri": "https://localhost:8080/"
        },
        "outputId": "f72e0bd8-ac1c-491c-827c-9fc84ae36212"
      },
      "source": [
        "df2['Are you satisfied with the service provided by bank'] = df2['Are you satisfied with the service provided by bank'].replace(['yes'], 'Yes')"
      ],
      "execution_count": null,
      "outputs": [
        {
          "output_type": "stream",
          "text": [
            "/usr/local/lib/python3.7/dist-packages/ipykernel_launcher.py:1: SettingWithCopyWarning: \n",
            "A value is trying to be set on a copy of a slice from a DataFrame.\n",
            "Try using .loc[row_indexer,col_indexer] = value instead\n",
            "\n",
            "See the caveats in the documentation: https://pandas.pydata.org/pandas-docs/stable/user_guide/indexing.html#returning-a-view-versus-a-copy\n",
            "  \"\"\"Entry point for launching an IPython kernel.\n"
          ],
          "name": "stderr"
        }
      ]
    },
    {
      "cell_type": "code",
      "metadata": {
        "id": "tcqyyaIfd_vk",
        "colab": {
          "base_uri": "https://localhost:8080/",
          "height": 296
        },
        "outputId": "a294f38e-234b-40cd-ff10-4cb6649446e6"
      },
      "source": [
        "sns.countplot(x = df2['Are you satisfied with the service provided by bank'], hue = df2['Current Status of your accounts (Output variable)'])"
      ],
      "execution_count": null,
      "outputs": [
        {
          "output_type": "execute_result",
          "data": {
            "text/plain": [
              "<matplotlib.axes._subplots.AxesSubplot at 0x7f0bd16e9d50>"
            ]
          },
          "metadata": {
            "tags": []
          },
          "execution_count": 256
        },
        {
          "output_type": "display_data",
          "data": {
            "image/png": "[encoded data removed]",
            "text/plain": [
              "<Figure size 432x288 with 1 Axes>"
            ]
          },
          "metadata": {
            "tags": [],
            "needs_background": "light"
          }
        }
      ]
    },
    {
      "cell_type": "code",
      "metadata": {
        "id": "xk5xQDUF9xdM",
        "colab": {
          "base_uri": "https://localhost:8080/"
        },
        "outputId": "0ebd2050-1c54-4603-f5d3-bc7a09af9ecb"
      },
      "source": [
        "df2['Account Type'] = df2['Account Type'].replace(['savings'], 'Savings')"
      ],
      "execution_count": null,
      "outputs": [
        {
          "output_type": "stream",
          "text": [
            "/usr/local/lib/python3.7/dist-packages/ipykernel_launcher.py:1: SettingWithCopyWarning: \n",
            "A value is trying to be set on a copy of a slice from a DataFrame.\n",
            "Try using .loc[row_indexer,col_indexer] = value instead\n",
            "\n",
            "See the caveats in the documentation: https://pandas.pydata.org/pandas-docs/stable/user_guide/indexing.html#returning-a-view-versus-a-copy\n",
            "  \"\"\"Entry point for launching an IPython kernel.\n"
          ],
          "name": "stderr"
        }
      ]
    },
    {
      "cell_type": "code",
      "metadata": {
        "id": "eRP-Lbltd_fV",
        "colab": {
          "base_uri": "https://localhost:8080/",
          "height": 296
        },
        "outputId": "a74a416a-a96e-4cb8-c9c6-ae79355fdb7a"
      },
      "source": [
        "sns.countplot(y = df2['Account Type'], hue = df2['Current Status of your accounts (Output variable)'])"
      ],
      "execution_count": null,
      "outputs": [
        {
          "output_type": "execute_result",
          "data": {
            "text/plain": [
              "<matplotlib.axes._subplots.AxesSubplot at 0x7f0bd166fe10>"
            ]
          },
          "metadata": {
            "tags": []
          },
          "execution_count": 258
        },
        {
          "output_type": "display_data",
          "data": {
            "image/png": "[encoded data removed]",
            "text/plain": [
              "<Figure size 432x288 with 1 Axes>"
            ]
          },
          "metadata": {
            "tags": [],
            "needs_background": "light"
          }
        }
      ]
    },
    {
      "cell_type": "code",
      "metadata": {
        "id": "oU9zOyLv_IUB",
        "colab": {
          "base_uri": "https://localhost:8080/",
          "height": 312
        },
        "outputId": "e86e33c0-2562-412b-a0f1-8d13963de444"
      },
      "source": [
        "sns.countplot(y = df2['Current Status of your accounts (Output variable)'], hue = df2['Account Type'])"
      ],
      "execution_count": null,
      "outputs": [
        {
          "output_type": "execute_result",
          "data": {
            "text/plain": [
              "<matplotlib.axes._subplots.AxesSubplot at 0x7f0bd15b2290>"
            ]
          },
          "metadata": {
            "tags": []
          },
          "execution_count": 259
        },
        {
          "output_type": "display_data",
          "data": {
            "image/png": "[encoded data removed]",
            "text/plain": [
              "<Figure size 432x288 with 1 Axes>"
            ]
          },
          "metadata": {
            "tags": [],
            "needs_background": "light"
          }
        }
      ]
    },
    {
      "cell_type": "code",
      "metadata": {
        "id": "F49fYbCv_ES3"
      },
      "source": [
        ""
      ],
      "execution_count": null,
      "outputs": []
    },
    {
      "cell_type": "markdown",
      "metadata": {
        "id": "nQ8h4aAMUYWU"
      },
      "source": [
        "**Customize bin size**"
      ]
    },
    {
      "cell_type": "code",
      "metadata": {
        "id": "I1KR9fstNjH0",
        "colab": {
          "base_uri": "https://localhost:8080/"
        },
        "outputId": "5db2419d-b93c-4e17-cddf-908ba635b21f"
      },
      "source": [
        "bins = [0, 30, 150, 800, 30000]\n",
        "labels = ['near', 'intercity', 'interstate', 'abroad']\n",
        "df2['dist_from_house'] = pd.cut(df2['House Distance from Bank(in KM)(Binning)(Near, Outskirts, Intercity, Abroad)'], bins, labels = labels)\n",
        "print(df2['dist_from_house'])\n"
      ],
      "execution_count": null,
      "outputs": [
        {
          "output_type": "stream",
          "text": [
            "0       interstate\n",
            "1             near\n",
            "2           abroad\n",
            "3             near\n",
            "4             near\n",
            "           ...    \n",
            "1085          near\n",
            "1086          near\n",
            "1087          near\n",
            "1088          near\n",
            "1089          near\n",
            "Name: dist_from_house, Length: 1084, dtype: category\n",
            "Categories (4, object): ['near' < 'intercity' < 'interstate' < 'abroad']\n"
          ],
          "name": "stdout"
        },
        {
          "output_type": "stream",
          "text": [
            "/usr/local/lib/python3.7/dist-packages/ipykernel_launcher.py:3: SettingWithCopyWarning: \n",
            "A value is trying to be set on a copy of a slice from a DataFrame.\n",
            "Try using .loc[row_indexer,col_indexer] = value instead\n",
            "\n",
            "See the caveats in the documentation: https://pandas.pydata.org/pandas-docs/stable/user_guide/indexing.html#returning-a-view-versus-a-copy\n",
            "  This is separate from the ipykernel package so we can avoid doing imports until\n"
          ],
          "name": "stderr"
        }
      ]
    },
    {
      "cell_type": "code",
      "metadata": {
        "id": "wAN8lgf1L8W8",
        "colab": {
          "base_uri": "https://localhost:8080/",
          "height": 297
        },
        "outputId": "83b6ff69-2630-4498-9fc9-a39ebefb5c3a"
      },
      "source": [
        "sns.countplot(x = df2['dist_from_house'], hue =df2['Current Status of your accounts (Output variable)'])"
      ],
      "execution_count": null,
      "outputs": [
        {
          "output_type": "execute_result",
          "data": {
            "text/plain": [
              "<matplotlib.axes._subplots.AxesSubplot at 0x7f0bd14f0b90>"
            ]
          },
          "metadata": {
            "tags": []
          },
          "execution_count": 261
        },
        {
          "output_type": "display_data",
          "data": {
            "image/png": "[encoded data removed]",
            "text/plain": [
              "<Figure size 432x288 with 1 Axes>"
            ]
          },
          "metadata": {
            "tags": [],
            "needs_background": "light"
          }
        }
      ]
    },
    {
      "cell_type": "code",
      "metadata": {
        "id": "OF8bqm00NSld",
        "colab": {
          "base_uri": "https://localhost:8080/",
          "height": 417
        },
        "outputId": "a136620a-1099-475c-b8c1-76776a3c6a4c"
      },
      "source": [
        "df2.head()"
      ],
      "execution_count": null,
      "outputs": [
        {
          "output_type": "execute_result",
          "data": {
            "text/html": [
              "<div>\n",
              "<style scoped>\n",
              "    .dataframe tbody tr th:only-of-type {\n",
              "        vertical-align: middle;\n",
              "    }\n",
              "\n",
              "    .dataframe tbody tr th {\n",
              "        vertical-align: top;\n",
              "    }\n",
              "\n",
              "    .dataframe thead th {\n",
              "        text-align: right;\n",
              "    }\n",
              "</style>\n",
              "<table border=\"1\" class=\"dataframe\">\n",
              "  <thead>\n",
              "    <tr style=\"text-align: right;\">\n",
              "      <th></th>\n",
              "      <th>Gender</th>\n",
              "      <th>Age</th>\n",
              "      <th>Education qualification</th>\n",
              "      <th>Occupation</th>\n",
              "      <th>Account Type</th>\n",
              "      <th>City</th>\n",
              "      <th>Current City</th>\n",
              "      <th>House Distance from Bank(in KM)(Binning)(Near, Outskirts, Intercity, Abroad)</th>\n",
              "      <th>Opening Balance</th>\n",
              "      <th>Having Minimum Balance</th>\n",
              "      <th>Current Balance</th>\n",
              "      <th>Month and year  when the last transaction was done in 24 month(for ex Jan -2021, Mar-2018 etc)</th>\n",
              "      <th>Quarterly Activity Rate(no of transaction in 3 month)</th>\n",
              "      <th>Do you have multiple account</th>\n",
              "      <th>Do you have an active  loan</th>\n",
              "      <th>Do you have Internet Banking or mobile banking with this  account</th>\n",
              "      <th>Do you have active Credit Card with this account</th>\n",
              "      <th>Did any suspicious transaction reported in your account</th>\n",
              "      <th>Have you ever defaulted any loan payment</th>\n",
              "      <th>Are you satisfied with the service provided by bank</th>\n",
              "      <th>Current Status of your accounts (Output variable)</th>\n",
              "      <th>Received any service call from bank  in 24 month with reference to  your account. (EDA)</th>\n",
              "      <th>Transaction done in 24 month</th>\n",
              "      <th>Do you have recent closed Loan</th>\n",
              "      <th>Do you have the Demat account associated to this account.</th>\n",
              "      <th>dist_from_house</th>\n",
              "    </tr>\n",
              "  </thead>\n",
              "  <tbody>\n",
              "    <tr>\n",
              "      <th>0</th>\n",
              "      <td>Male</td>\n",
              "      <td>23</td>\n",
              "      <td>Graduate</td>\n",
              "      <td>Salaried</td>\n",
              "      <td>Savings</td>\n",
              "      <td>ballari</td>\n",
              "      <td>bengalore</td>\n",
              "      <td>300</td>\n",
              "      <td>2000</td>\n",
              "      <td>Yes</td>\n",
              "      <td>2000</td>\n",
              "      <td>01-01-2021</td>\n",
              "      <td>2</td>\n",
              "      <td>Yes</td>\n",
              "      <td>No</td>\n",
              "      <td>Yes</td>\n",
              "      <td>No</td>\n",
              "      <td>Yes</td>\n",
              "      <td>No</td>\n",
              "      <td>No</td>\n",
              "      <td>Active</td>\n",
              "      <td>No</td>\n",
              "      <td>Yes</td>\n",
              "      <td>No</td>\n",
              "      <td>No</td>\n",
              "      <td>interstate</td>\n",
              "    </tr>\n",
              "    <tr>\n",
              "      <th>1</th>\n",
              "      <td>Male</td>\n",
              "      <td>40</td>\n",
              "      <td>Post Graduate</td>\n",
              "      <td>Salaried</td>\n",
              "      <td>Savings</td>\n",
              "      <td>Chennai</td>\n",
              "      <td>Chennai</td>\n",
              "      <td>10</td>\n",
              "      <td>10000</td>\n",
              "      <td>Yes</td>\n",
              "      <td>15000</td>\n",
              "      <td>01-02-2021</td>\n",
              "      <td>30</td>\n",
              "      <td>Yes</td>\n",
              "      <td>Yes</td>\n",
              "      <td>Yes</td>\n",
              "      <td>No</td>\n",
              "      <td>No</td>\n",
              "      <td>No</td>\n",
              "      <td>Yes</td>\n",
              "      <td>Active</td>\n",
              "      <td>Yes</td>\n",
              "      <td>Yes</td>\n",
              "      <td>No</td>\n",
              "      <td>No</td>\n",
              "      <td>near</td>\n",
              "    </tr>\n",
              "    <tr>\n",
              "      <th>2</th>\n",
              "      <td>Male</td>\n",
              "      <td>32</td>\n",
              "      <td>Post Graduate</td>\n",
              "      <td>Salaried</td>\n",
              "      <td>Salaried</td>\n",
              "      <td>gorakhpur</td>\n",
              "      <td>greater Noida</td>\n",
              "      <td>825</td>\n",
              "      <td>500</td>\n",
              "      <td>Yes</td>\n",
              "      <td>623</td>\n",
              "      <td>01-05-2017</td>\n",
              "      <td>7</td>\n",
              "      <td>Yes</td>\n",
              "      <td>Yes</td>\n",
              "      <td>No</td>\n",
              "      <td>No</td>\n",
              "      <td>No</td>\n",
              "      <td>Yes</td>\n",
              "      <td>No</td>\n",
              "      <td>Dormant</td>\n",
              "      <td>No</td>\n",
              "      <td>No</td>\n",
              "      <td>No</td>\n",
              "      <td>No</td>\n",
              "      <td>abroad</td>\n",
              "    </tr>\n",
              "    <tr>\n",
              "      <th>3</th>\n",
              "      <td>Male</td>\n",
              "      <td>23</td>\n",
              "      <td>Graduate</td>\n",
              "      <td>Student</td>\n",
              "      <td>Savings</td>\n",
              "      <td>Ramgarh cantt</td>\n",
              "      <td>Ramgarh cantt</td>\n",
              "      <td>20</td>\n",
              "      <td>0</td>\n",
              "      <td>Yes</td>\n",
              "      <td>1000</td>\n",
              "      <td>01-01-2021</td>\n",
              "      <td>5</td>\n",
              "      <td>Yes</td>\n",
              "      <td>No</td>\n",
              "      <td>Yes</td>\n",
              "      <td>Yes</td>\n",
              "      <td>No</td>\n",
              "      <td>No</td>\n",
              "      <td>Yes</td>\n",
              "      <td>Active</td>\n",
              "      <td>No</td>\n",
              "      <td>Yes</td>\n",
              "      <td>Yes</td>\n",
              "      <td>Yes</td>\n",
              "      <td>near</td>\n",
              "    </tr>\n",
              "    <tr>\n",
              "      <th>4</th>\n",
              "      <td>Female</td>\n",
              "      <td>40</td>\n",
              "      <td>Doctrate</td>\n",
              "      <td>Business</td>\n",
              "      <td>Savings</td>\n",
              "      <td>bhalki</td>\n",
              "      <td>bhalki</td>\n",
              "      <td>1</td>\n",
              "      <td>3000</td>\n",
              "      <td>No</td>\n",
              "      <td>1000</td>\n",
              "      <td>01-06-2020</td>\n",
              "      <td>5</td>\n",
              "      <td>Yes</td>\n",
              "      <td>Yes</td>\n",
              "      <td>Yes</td>\n",
              "      <td>Yes</td>\n",
              "      <td>Yes</td>\n",
              "      <td>No</td>\n",
              "      <td>Yes</td>\n",
              "      <td>Active</td>\n",
              "      <td>No</td>\n",
              "      <td>Yes</td>\n",
              "      <td>Yes</td>\n",
              "      <td>Yes</td>\n",
              "      <td>near</td>\n",
              "    </tr>\n",
              "  </tbody>\n",
              "</table>\n",
              "</div>"
            ],
            "text/plain": [
              "   Gender  ...  dist_from_house\n",
              "0    Male  ...       interstate\n",
              "1    Male  ...             near\n",
              "2    Male  ...           abroad\n",
              "3    Male  ...             near\n",
              "4  Female  ...             near\n",
              "\n",
              "[5 rows x 26 columns]"
            ]
          },
          "metadata": {
            "tags": []
          },
          "execution_count": 262
        }
      ]
    },
    {
      "cell_type": "code",
      "metadata": {
        "id": "m3fcFo6ELCbj"
      },
      "source": [
        ""
      ],
      "execution_count": null,
      "outputs": []
    },
    {
      "cell_type": "markdown",
      "metadata": {
        "id": "xXkIvhmsT1Wi"
      },
      "source": [
        "Calculate no of months since last transaction"
      ]
    },
    {
      "cell_type": "code",
      "metadata": {
        "id": "nXxYhNsrS3Iy"
      },
      "source": [
        "import datetime as datetime\n",
        "end_date = datetime.datetime(2021,4,1)\n",
        "df4=df2\n"
      ],
      "execution_count": null,
      "outputs": []
    },
    {
      "cell_type": "code",
      "metadata": {
        "id": "OpFAxrltP87h"
      },
      "source": [
        "dt = df4['Month and year  when the last transaction was done in 24 month(for ex Jan -2021, Mar-2018 etc)']\n",
        "dtdf = pd.DataFrame(dt.str.split(pat=\"-\",expand=True))"
      ],
      "execution_count": null,
      "outputs": []
    },
    {
      "cell_type": "code",
      "metadata": {
        "id": "1ae87kiSnzr3",
        "colab": {
          "base_uri": "https://localhost:8080/"
        },
        "outputId": "19696f08-e9b8-4bba-d7d5-3ab0d29d73c9"
      },
      "source": [
        "dtdf.columns = ['day','month','year']\n",
        "present_month = 4\n",
        "present_year = 2021\n",
        "dtdf.isna().sum()\n",
        "dtdf['month'] = dtdf['month'].astype(int)\n",
        "dtdf['year'] = dtdf['year'].astype(int)\n",
        "dtdf['no_months'] = (present_year - dtdf['year'])*12 +  (present_month - dtdf['month'])\n",
        "df2['no_of_months_last_transaction'] = dtdf['no_months']"
      ],
      "execution_count": null,
      "outputs": [
        {
          "output_type": "stream",
          "text": [
            "/usr/local/lib/python3.7/dist-packages/ipykernel_launcher.py:8: SettingWithCopyWarning: \n",
            "A value is trying to be set on a copy of a slice from a DataFrame.\n",
            "Try using .loc[row_indexer,col_indexer] = value instead\n",
            "\n",
            "See the caveats in the documentation: https://pandas.pydata.org/pandas-docs/stable/user_guide/indexing.html#returning-a-view-versus-a-copy\n",
            "  \n"
          ],
          "name": "stderr"
        }
      ]
    },
    {
      "cell_type": "code",
      "metadata": {
        "id": "gYXBuEQFyYvX"
      },
      "source": [
        "df3 = df2.drop(columns=['Month and year  when the last transaction was done in 24 month(for ex Jan -2021, Mar-2018 etc)', 'House Distance from Bank(in KM)(Binning)(Near, Outskirts, Intercity, Abroad)'], axis = 1)"
      ],
      "execution_count": null,
      "outputs": []
    },
    {
      "cell_type": "code",
      "metadata": {
        "id": "egVAD5ucyyhj",
        "colab": {
          "base_uri": "https://localhost:8080/"
        },
        "outputId": "77c62d24-3e9a-4d1d-8572-47acd4e1ed0f"
      },
      "source": [
        "df3.columns"
      ],
      "execution_count": null,
      "outputs": [
        {
          "output_type": "execute_result",
          "data": {
            "text/plain": [
              "Index(['Gender', 'Age', 'Education qualification', 'Occupation',\n",
              "       'Account Type', 'City', 'Current City', 'Opening Balance',\n",
              "       'Having Minimum Balance', 'Current Balance',\n",
              "       'Quarterly Activity Rate(no of transaction in 3 month)',\n",
              "       'Do you have multiple account', 'Do you have an active  loan ',\n",
              "       'Do you have Internet Banking or mobile banking with this  account',\n",
              "       'Do you have active Credit Card with this account',\n",
              "       'Did any suspicious transaction reported in your account',\n",
              "       'Have you ever defaulted any loan payment',\n",
              "       'Are you satisfied with the service provided by bank',\n",
              "       'Current Status of your accounts (Output variable)',\n",
              "       'Received any service call from bank  in 24 month with reference to  your account. (EDA)',\n",
              "       ' Transaction done in 24 month', 'Do you have recent closed Loan ',\n",
              "       'Do you have the Demat account associated to this account.',\n",
              "       'dist_from_house', 'no_of_months_last_transaction'],\n",
              "      dtype='object')"
            ]
          },
          "metadata": {
            "tags": []
          },
          "execution_count": 267
        }
      ]
    },
    {
      "cell_type": "markdown",
      "metadata": {
        "id": "aiV7bry-BkaO"
      },
      "source": [
        " **merge 'city'and 'current city' column**"
      ]
    },
    {
      "cell_type": "code",
      "metadata": {
        "id": "B9m36mtYS22C"
      },
      "source": [
        "df3['City'] = df3['City'].str.lower() \n",
        "df3['Current City'] = df3['Current City'].str.lower()\n",
        "\n",
        "df3['City'] = df3['City'].str.strip()\n",
        "df3['Current City'] = df3['Current City'].str.strip()\n",
        "\n",
        "df3['City'] = df3['City'].replace(['hydearbad','hydrabad','hyd','hydrebad','hyder'],'hyderabad')\n",
        "df3['City'] = df3['City'].replace(['ghaizabad','ghazibad'],'ghaziabad')\n",
        "df3['City'] = df3['City'].replace(['bhilau'],'bhilai')\n",
        "df3['City'] = df3['City'].replace(['dalton gnaj'],'daltonganj')\n",
        "df3['City'] = df3['City'].replace(['margoan'],'margaon')\n",
        "df3['City'] = df3['City'].replace(['ranaaghat'],'ranaghat')\n",
        "df3['City'] = df3['City'].replace(['sulepate'],'sulapete')\n",
        "df3['City'] = df3['City'].replace(['warangal rural'],'warangal')\n",
        "df3['City'] = df3['City'].replace(['balahlghat'],'balaghat')\n",
        "df3['City'] = df3['City'].replace(['kollata'],'kolkata')\n",
        "df3['City'] = df3['City'].replace(['bandalore','banagalore'],'bangalore')\n",
        "df3['City'] = df3['City'].replace(['coiambatoor'],'coimbatore')\n",
        "df3['City'] = df3['City'].replace(['dehi'],'delhi')\n",
        "\n",
        "df3['Current City'] = df3['Current City'].replace(['hydearbad','hydrabad','hyd','hydrebad','hyder'],'hyderabad')\n",
        "df3['Current City'] = df3['Current City'].replace(['ghaizabad','ghazibad'],'ghaziabad')\n",
        "df3['Current City'] = df3['Current City'].replace(['bhilau'],'bhilai')\n",
        "df3['Current City'] = df3['Current City'].replace(['dalton gnaj'],'daltonganj')\n",
        "df3['Current City'] = df3['Current City'].replace(['margoan'],'margaon')\n",
        "df3['Current City'] = df3['Current City'].replace(['ranaaghat'],'ranaghat')\n",
        "df3['Current City'] = df3['Current City'].replace(['sulepate'],'sulapete')\n",
        "df3['Current City'] = df3['Current City'].replace(['warangal rural'],'warangal')\n",
        "df3['Current City'] = df3['Current City'].replace(['balahlghat'],'balaghat')\n",
        "df3['Current City'] = df3['Current City'].replace(['kollata'],'kolkata')\n",
        "df3['Current City'] = df3['Current City'].replace(['bandalore','banagalore'],'bangalore')\n",
        "df3['Current City'] = df3['Current City'].replace(['coiambatoor'],'coimbatore')\n",
        "df3['Current City'] = df3['Current City'].replace(['dehi'],'delhi')\n",
        "\n",
        "df3['city_change'] = (df3['City'] != df3['Current City'])\n",
        "#df3['Current City'].str.isalpha().sum()\n",
        "#df3.City.isna().sum()"
      ],
      "execution_count": null,
      "outputs": []
    },
    {
      "cell_type": "code",
      "metadata": {
        "id": "9aqMBmsW0MQ0",
        "colab": {
          "base_uri": "https://localhost:8080/",
          "height": 406
        },
        "outputId": "4e4b5c38-f05a-4bd1-c264-195832d6ac64"
      },
      "source": [
        "temp_df = (df3['City'] == df3['Current City'])\n",
        "city_df = pd.DataFrame(df3['City'])\n",
        "city_df['Current City'] = df3['Current City']\n",
        "city_df['same'] = temp_df\n",
        "city_df['not_same'] = (city_df['City'] != city_df['Current City'])\n",
        "city_df[city_df['not_same']]\n",
        "\n",
        "#unequal = city_df[city_df['not_same']]\n",
        "#unequal['city_sub'] = unequal['City'].str.slice(0, 2)\n",
        "#unequal['current_city_sub'] = unequal['Current City'].str.slice(0,2)\n",
        "#unequal['pre_same'] = (unequal['city_sub'] == unequal['current_city_sub'])\n",
        "#unequal[unequal['pre_same']]\n"
      ],
      "execution_count": null,
      "outputs": [
        {
          "output_type": "execute_result",
          "data": {
            "text/html": [
              "<div>\n",
              "<style scoped>\n",
              "    .dataframe tbody tr th:only-of-type {\n",
              "        vertical-align: middle;\n",
              "    }\n",
              "\n",
              "    .dataframe tbody tr th {\n",
              "        vertical-align: top;\n",
              "    }\n",
              "\n",
              "    .dataframe thead th {\n",
              "        text-align: right;\n",
              "    }\n",
              "</style>\n",
              "<table border=\"1\" class=\"dataframe\">\n",
              "  <thead>\n",
              "    <tr style=\"text-align: right;\">\n",
              "      <th></th>\n",
              "      <th>City</th>\n",
              "      <th>Current City</th>\n",
              "      <th>same</th>\n",
              "      <th>not_same</th>\n",
              "    </tr>\n",
              "  </thead>\n",
              "  <tbody>\n",
              "    <tr>\n",
              "      <th>0</th>\n",
              "      <td>ballari</td>\n",
              "      <td>bengalore</td>\n",
              "      <td>False</td>\n",
              "      <td>True</td>\n",
              "    </tr>\n",
              "    <tr>\n",
              "      <th>2</th>\n",
              "      <td>gorakhpur</td>\n",
              "      <td>greater noida</td>\n",
              "      <td>False</td>\n",
              "      <td>True</td>\n",
              "    </tr>\n",
              "    <tr>\n",
              "      <th>9</th>\n",
              "      <td>dharm</td>\n",
              "      <td>chennai</td>\n",
              "      <td>False</td>\n",
              "      <td>True</td>\n",
              "    </tr>\n",
              "    <tr>\n",
              "      <th>11</th>\n",
              "      <td>mehebubnagr</td>\n",
              "      <td>jamkhandi</td>\n",
              "      <td>False</td>\n",
              "      <td>True</td>\n",
              "    </tr>\n",
              "    <tr>\n",
              "      <th>12</th>\n",
              "      <td>gulbarga</td>\n",
              "      <td>hyderabad</td>\n",
              "      <td>False</td>\n",
              "      <td>True</td>\n",
              "    </tr>\n",
              "    <tr>\n",
              "      <th>...</th>\n",
              "      <td>...</td>\n",
              "      <td>...</td>\n",
              "      <td>...</td>\n",
              "      <td>...</td>\n",
              "    </tr>\n",
              "    <tr>\n",
              "      <th>1082</th>\n",
              "      <td>delhi</td>\n",
              "      <td>gorakhpur</td>\n",
              "      <td>False</td>\n",
              "      <td>True</td>\n",
              "    </tr>\n",
              "    <tr>\n",
              "      <th>1083</th>\n",
              "      <td>nellore</td>\n",
              "      <td>vizag</td>\n",
              "      <td>False</td>\n",
              "      <td>True</td>\n",
              "    </tr>\n",
              "    <tr>\n",
              "      <th>1084</th>\n",
              "      <td>naharlagun</td>\n",
              "      <td>gorakhpur</td>\n",
              "      <td>False</td>\n",
              "      <td>True</td>\n",
              "    </tr>\n",
              "    <tr>\n",
              "      <th>1086</th>\n",
              "      <td>singarayakonda</td>\n",
              "      <td>nellore</td>\n",
              "      <td>False</td>\n",
              "      <td>True</td>\n",
              "    </tr>\n",
              "    <tr>\n",
              "      <th>1087</th>\n",
              "      <td>secunderabad</td>\n",
              "      <td>hyderabad</td>\n",
              "      <td>False</td>\n",
              "      <td>True</td>\n",
              "    </tr>\n",
              "  </tbody>\n",
              "</table>\n",
              "<p>298 rows × 4 columns</p>\n",
              "</div>"
            ],
            "text/plain": [
              "                City   Current City   same  not_same\n",
              "0            ballari      bengalore  False      True\n",
              "2          gorakhpur  greater noida  False      True\n",
              "9              dharm        chennai  False      True\n",
              "11       mehebubnagr      jamkhandi  False      True\n",
              "12          gulbarga      hyderabad  False      True\n",
              "...              ...            ...    ...       ...\n",
              "1082           delhi      gorakhpur  False      True\n",
              "1083         nellore          vizag  False      True\n",
              "1084      naharlagun      gorakhpur  False      True\n",
              "1086  singarayakonda        nellore  False      True\n",
              "1087    secunderabad      hyderabad  False      True\n",
              "\n",
              "[298 rows x 4 columns]"
            ]
          },
          "metadata": {
            "tags": []
          },
          "execution_count": 269
        }
      ]
    },
    {
      "cell_type": "code",
      "metadata": {
        "id": "V8CL3d-MOv7B",
        "colab": {
          "base_uri": "https://localhost:8080/",
          "height": 417
        },
        "outputId": "800bcbeb-caee-4b75-9d1d-fd5811c8f7a1"
      },
      "source": [
        "df3.head()"
      ],
      "execution_count": null,
      "outputs": [
        {
          "output_type": "execute_result",
          "data": {
            "text/html": [
              "<div>\n",
              "<style scoped>\n",
              "    .dataframe tbody tr th:only-of-type {\n",
              "        vertical-align: middle;\n",
              "    }\n",
              "\n",
              "    .dataframe tbody tr th {\n",
              "        vertical-align: top;\n",
              "    }\n",
              "\n",
              "    .dataframe thead th {\n",
              "        text-align: right;\n",
              "    }\n",
              "</style>\n",
              "<table border=\"1\" class=\"dataframe\">\n",
              "  <thead>\n",
              "    <tr style=\"text-align: right;\">\n",
              "      <th></th>\n",
              "      <th>Gender</th>\n",
              "      <th>Age</th>\n",
              "      <th>Education qualification</th>\n",
              "      <th>Occupation</th>\n",
              "      <th>Account Type</th>\n",
              "      <th>City</th>\n",
              "      <th>Current City</th>\n",
              "      <th>Opening Balance</th>\n",
              "      <th>Having Minimum Balance</th>\n",
              "      <th>Current Balance</th>\n",
              "      <th>Quarterly Activity Rate(no of transaction in 3 month)</th>\n",
              "      <th>Do you have multiple account</th>\n",
              "      <th>Do you have an active  loan</th>\n",
              "      <th>Do you have Internet Banking or mobile banking with this  account</th>\n",
              "      <th>Do you have active Credit Card with this account</th>\n",
              "      <th>Did any suspicious transaction reported in your account</th>\n",
              "      <th>Have you ever defaulted any loan payment</th>\n",
              "      <th>Are you satisfied with the service provided by bank</th>\n",
              "      <th>Current Status of your accounts (Output variable)</th>\n",
              "      <th>Received any service call from bank  in 24 month with reference to  your account. (EDA)</th>\n",
              "      <th>Transaction done in 24 month</th>\n",
              "      <th>Do you have recent closed Loan</th>\n",
              "      <th>Do you have the Demat account associated to this account.</th>\n",
              "      <th>dist_from_house</th>\n",
              "      <th>no_of_months_last_transaction</th>\n",
              "      <th>city_change</th>\n",
              "    </tr>\n",
              "  </thead>\n",
              "  <tbody>\n",
              "    <tr>\n",
              "      <th>0</th>\n",
              "      <td>Male</td>\n",
              "      <td>23</td>\n",
              "      <td>Graduate</td>\n",
              "      <td>Salaried</td>\n",
              "      <td>Savings</td>\n",
              "      <td>ballari</td>\n",
              "      <td>bengalore</td>\n",
              "      <td>2000</td>\n",
              "      <td>Yes</td>\n",
              "      <td>2000</td>\n",
              "      <td>2</td>\n",
              "      <td>Yes</td>\n",
              "      <td>No</td>\n",
              "      <td>Yes</td>\n",
              "      <td>No</td>\n",
              "      <td>Yes</td>\n",
              "      <td>No</td>\n",
              "      <td>No</td>\n",
              "      <td>Active</td>\n",
              "      <td>No</td>\n",
              "      <td>Yes</td>\n",
              "      <td>No</td>\n",
              "      <td>No</td>\n",
              "      <td>interstate</td>\n",
              "      <td>3</td>\n",
              "      <td>True</td>\n",
              "    </tr>\n",
              "    <tr>\n",
              "      <th>1</th>\n",
              "      <td>Male</td>\n",
              "      <td>40</td>\n",
              "      <td>Post Graduate</td>\n",
              "      <td>Salaried</td>\n",
              "      <td>Savings</td>\n",
              "      <td>chennai</td>\n",
              "      <td>chennai</td>\n",
              "      <td>10000</td>\n",
              "      <td>Yes</td>\n",
              "      <td>15000</td>\n",
              "      <td>30</td>\n",
              "      <td>Yes</td>\n",
              "      <td>Yes</td>\n",
              "      <td>Yes</td>\n",
              "      <td>No</td>\n",
              "      <td>No</td>\n",
              "      <td>No</td>\n",
              "      <td>Yes</td>\n",
              "      <td>Active</td>\n",
              "      <td>Yes</td>\n",
              "      <td>Yes</td>\n",
              "      <td>No</td>\n",
              "      <td>No</td>\n",
              "      <td>near</td>\n",
              "      <td>2</td>\n",
              "      <td>False</td>\n",
              "    </tr>\n",
              "    <tr>\n",
              "      <th>2</th>\n",
              "      <td>Male</td>\n",
              "      <td>32</td>\n",
              "      <td>Post Graduate</td>\n",
              "      <td>Salaried</td>\n",
              "      <td>Salaried</td>\n",
              "      <td>gorakhpur</td>\n",
              "      <td>greater noida</td>\n",
              "      <td>500</td>\n",
              "      <td>Yes</td>\n",
              "      <td>623</td>\n",
              "      <td>7</td>\n",
              "      <td>Yes</td>\n",
              "      <td>Yes</td>\n",
              "      <td>No</td>\n",
              "      <td>No</td>\n",
              "      <td>No</td>\n",
              "      <td>Yes</td>\n",
              "      <td>No</td>\n",
              "      <td>Dormant</td>\n",
              "      <td>No</td>\n",
              "      <td>No</td>\n",
              "      <td>No</td>\n",
              "      <td>No</td>\n",
              "      <td>abroad</td>\n",
              "      <td>47</td>\n",
              "      <td>True</td>\n",
              "    </tr>\n",
              "    <tr>\n",
              "      <th>3</th>\n",
              "      <td>Male</td>\n",
              "      <td>23</td>\n",
              "      <td>Graduate</td>\n",
              "      <td>Student</td>\n",
              "      <td>Savings</td>\n",
              "      <td>ramgarh cantt</td>\n",
              "      <td>ramgarh cantt</td>\n",
              "      <td>0</td>\n",
              "      <td>Yes</td>\n",
              "      <td>1000</td>\n",
              "      <td>5</td>\n",
              "      <td>Yes</td>\n",
              "      <td>No</td>\n",
              "      <td>Yes</td>\n",
              "      <td>Yes</td>\n",
              "      <td>No</td>\n",
              "      <td>No</td>\n",
              "      <td>Yes</td>\n",
              "      <td>Active</td>\n",
              "      <td>No</td>\n",
              "      <td>Yes</td>\n",
              "      <td>Yes</td>\n",
              "      <td>Yes</td>\n",
              "      <td>near</td>\n",
              "      <td>3</td>\n",
              "      <td>False</td>\n",
              "    </tr>\n",
              "    <tr>\n",
              "      <th>4</th>\n",
              "      <td>Female</td>\n",
              "      <td>40</td>\n",
              "      <td>Doctrate</td>\n",
              "      <td>Business</td>\n",
              "      <td>Savings</td>\n",
              "      <td>bhalki</td>\n",
              "      <td>bhalki</td>\n",
              "      <td>3000</td>\n",
              "      <td>No</td>\n",
              "      <td>1000</td>\n",
              "      <td>5</td>\n",
              "      <td>Yes</td>\n",
              "      <td>Yes</td>\n",
              "      <td>Yes</td>\n",
              "      <td>Yes</td>\n",
              "      <td>Yes</td>\n",
              "      <td>No</td>\n",
              "      <td>Yes</td>\n",
              "      <td>Active</td>\n",
              "      <td>No</td>\n",
              "      <td>Yes</td>\n",
              "      <td>Yes</td>\n",
              "      <td>Yes</td>\n",
              "      <td>near</td>\n",
              "      <td>10</td>\n",
              "      <td>False</td>\n",
              "    </tr>\n",
              "  </tbody>\n",
              "</table>\n",
              "</div>"
            ],
            "text/plain": [
              "   Gender  Age  ... no_of_months_last_transaction city_change\n",
              "0    Male   23  ...                             3        True\n",
              "1    Male   40  ...                             2       False\n",
              "2    Male   32  ...                            47        True\n",
              "3    Male   23  ...                             3       False\n",
              "4  Female   40  ...                            10       False\n",
              "\n",
              "[5 rows x 26 columns]"
            ]
          },
          "metadata": {
            "tags": []
          },
          "execution_count": 270
        }
      ]
    },
    {
      "cell_type": "code",
      "metadata": {
        "id": "O438pKG3Ovjd"
      },
      "source": [
        ""
      ],
      "execution_count": null,
      "outputs": []
    },
    {
      "cell_type": "code",
      "metadata": {
        "id": "JIxO4o-3wV6W"
      },
      "source": [
        "df_bank = df3.drop(columns = ['City', 'Current City'], axis = 1)"
      ],
      "execution_count": null,
      "outputs": []
    },
    {
      "cell_type": "code",
      "metadata": {
        "id": "3OQq0ZkZoI3o",
        "colab": {
          "base_uri": "https://localhost:8080/",
          "height": 297
        },
        "outputId": "7024ec79-c45c-48c4-f078-6ae603537faa"
      },
      "source": [
        "sns.countplot(x = 'city_change', data = df_bank)"
      ],
      "execution_count": null,
      "outputs": [
        {
          "output_type": "execute_result",
          "data": {
            "text/plain": [
              "<matplotlib.axes._subplots.AxesSubplot at 0x7f0bd13f8f10>"
            ]
          },
          "metadata": {
            "tags": []
          },
          "execution_count": 272
        },
        {
          "output_type": "display_data",
          "data": {
            "image/png": "[encoded data removed]",
            "text/plain": [
              "<Figure size 432x288 with 1 Axes>"
            ]
          },
          "metadata": {
            "tags": [],
            "needs_background": "light"
          }
        }
      ]
    },
    {
      "cell_type": "code",
      "metadata": {
        "id": "C6loLUPDpuyz",
        "colab": {
          "base_uri": "https://localhost:8080/",
          "height": 297
        },
        "outputId": "4650c68d-01f0-45f1-e6b1-8c0b4bd8ab02"
      },
      "source": [
        "sns.countplot(x = 'city_change', hue = 'Current Status of your accounts (Output variable)', data = df_bank )"
      ],
      "execution_count": null,
      "outputs": [
        {
          "output_type": "execute_result",
          "data": {
            "text/plain": [
              "<matplotlib.axes._subplots.AxesSubplot at 0x7f0bd13fcc10>"
            ]
          },
          "metadata": {
            "tags": []
          },
          "execution_count": 273
        },
        {
          "output_type": "display_data",
          "data": {
            "image/png": "[encoded data removed]",
            "text/plain": [
              "<Figure size 432x288 with 1 Axes>"
            ]
          },
          "metadata": {
            "tags": [],
            "needs_background": "light"
          }
        }
      ]
    },
    {
      "cell_type": "markdown",
      "metadata": {
        "id": "qGjcTePqNaPF"
      },
      "source": [
        "**Feature selection**"
      ]
    },
    {
      "cell_type": "code",
      "metadata": {
        "id": "SC6KBRgqJ-2x"
      },
      "source": [
        "df_bank['dist_from_house'] = df_bank['dist_from_house'].fillna(df_bank['dist_from_house'].mode()[0])"
      ],
      "execution_count": null,
      "outputs": []
    },
    {
      "cell_type": "code",
      "metadata": {
        "id": "EWBGroihNfpu",
        "colab": {
          "base_uri": "https://localhost:8080/"
        },
        "outputId": "0c8bae73-60bb-41aa-e060-864b8cf2232e"
      },
      "source": [
        "df_bank.info()"
      ],
      "execution_count": null,
      "outputs": [
        {
          "output_type": "stream",
          "text": [
            "<class 'pandas.core.frame.DataFrame'>\n",
            "Int64Index: 1084 entries, 0 to 1089\n",
            "Data columns (total 24 columns):\n",
            " #   Column                                                                                   Non-Null Count  Dtype   \n",
            "---  ------                                                                                   --------------  -----   \n",
            " 0   Gender                                                                                   1084 non-null   object  \n",
            " 1   Age                                                                                      1084 non-null   int64   \n",
            " 2   Education qualification                                                                  1084 non-null   object  \n",
            " 3   Occupation                                                                               1084 non-null   object  \n",
            " 4   Account Type                                                                             1084 non-null   object  \n",
            " 5   Opening Balance                                                                          1084 non-null   int64   \n",
            " 6   Having Minimum Balance                                                                   1084 non-null   object  \n",
            " 7   Current Balance                                                                          1084 non-null   int64   \n",
            " 8   Quarterly Activity Rate(no of transaction in 3 month)                                    1084 non-null   int64   \n",
            " 9   Do you have multiple account                                                             1084 non-null   object  \n",
            " 10  Do you have an active  loan                                                              1084 non-null   object  \n",
            " 11  Do you have Internet Banking or mobile banking with this  account                        1084 non-null   object  \n",
            " 12  Do you have active Credit Card with this account                                         1084 non-null   object  \n",
            " 13  Did any suspicious transaction reported in your account                                  1084 non-null   object  \n",
            " 14  Have you ever defaulted any loan payment                                                 1084 non-null   object  \n",
            " 15  Are you satisfied with the service provided by bank                                      1084 non-null   object  \n",
            " 16  Current Status of your accounts (Output variable)                                        1084 non-null   object  \n",
            " 17  Received any service call from bank  in 24 month with reference to  your account. (EDA)  1084 non-null   object  \n",
            " 18   Transaction done in 24 month                                                            1084 non-null   object  \n",
            " 19  Do you have recent closed Loan                                                           1084 non-null   object  \n",
            " 20  Do you have the Demat account associated to this account.                                1084 non-null   object  \n",
            " 21  dist_from_house                                                                          1084 non-null   category\n",
            " 22  no_of_months_last_transaction                                                            1084 non-null   int64   \n",
            " 23  city_change                                                                              1084 non-null   bool    \n",
            "dtypes: bool(1), category(1), int64(5), object(17)\n",
            "memory usage: 237.1+ KB\n"
          ],
          "name": "stdout"
        }
      ]
    },
    {
      "cell_type": "markdown",
      "metadata": {
        "id": "5LbcbRVB1Q5S"
      },
      "source": [
        "seperate categorical and numerical columns"
      ]
    },
    {
      "cell_type": "code",
      "metadata": {
        "id": "sy8OVRhyNflW"
      },
      "source": [
        "#numeric_data = df_bank.select_dtypes(include=[np.number])\n",
        "categorical_data = df_bank.select_dtypes(exclude=[np.number])"
      ],
      "execution_count": null,
      "outputs": []
    },
    {
      "cell_type": "code",
      "metadata": {
        "id": "vpKXS6y80gyE",
        "colab": {
          "base_uri": "https://localhost:8080/",
          "height": 384
        },
        "outputId": "ff58b8a8-4caf-485f-b428-d98efe475bf9"
      },
      "source": [
        "categorical_data.head()"
      ],
      "execution_count": null,
      "outputs": [
        {
          "output_type": "execute_result",
          "data": {
            "text/html": [
              "<div>\n",
              "<style scoped>\n",
              "    .dataframe tbody tr th:only-of-type {\n",
              "        vertical-align: middle;\n",
              "    }\n",
              "\n",
              "    .dataframe tbody tr th {\n",
              "        vertical-align: top;\n",
              "    }\n",
              "\n",
              "    .dataframe thead th {\n",
              "        text-align: right;\n",
              "    }\n",
              "</style>\n",
              "<table border=\"1\" class=\"dataframe\">\n",
              "  <thead>\n",
              "    <tr style=\"text-align: right;\">\n",
              "      <th></th>\n",
              "      <th>Gender</th>\n",
              "      <th>Education qualification</th>\n",
              "      <th>Occupation</th>\n",
              "      <th>Account Type</th>\n",
              "      <th>Having Minimum Balance</th>\n",
              "      <th>Do you have multiple account</th>\n",
              "      <th>Do you have an active  loan</th>\n",
              "      <th>Do you have Internet Banking or mobile banking with this  account</th>\n",
              "      <th>Do you have active Credit Card with this account</th>\n",
              "      <th>Did any suspicious transaction reported in your account</th>\n",
              "      <th>Have you ever defaulted any loan payment</th>\n",
              "      <th>Are you satisfied with the service provided by bank</th>\n",
              "      <th>Current Status of your accounts (Output variable)</th>\n",
              "      <th>Received any service call from bank  in 24 month with reference to  your account. (EDA)</th>\n",
              "      <th>Transaction done in 24 month</th>\n",
              "      <th>Do you have recent closed Loan</th>\n",
              "      <th>Do you have the Demat account associated to this account.</th>\n",
              "      <th>dist_from_house</th>\n",
              "      <th>city_change</th>\n",
              "    </tr>\n",
              "  </thead>\n",
              "  <tbody>\n",
              "    <tr>\n",
              "      <th>0</th>\n",
              "      <td>Male</td>\n",
              "      <td>Graduate</td>\n",
              "      <td>Salaried</td>\n",
              "      <td>Savings</td>\n",
              "      <td>Yes</td>\n",
              "      <td>Yes</td>\n",
              "      <td>No</td>\n",
              "      <td>Yes</td>\n",
              "      <td>No</td>\n",
              "      <td>Yes</td>\n",
              "      <td>No</td>\n",
              "      <td>No</td>\n",
              "      <td>Active</td>\n",
              "      <td>No</td>\n",
              "      <td>Yes</td>\n",
              "      <td>No</td>\n",
              "      <td>No</td>\n",
              "      <td>interstate</td>\n",
              "      <td>True</td>\n",
              "    </tr>\n",
              "    <tr>\n",
              "      <th>1</th>\n",
              "      <td>Male</td>\n",
              "      <td>Post Graduate</td>\n",
              "      <td>Salaried</td>\n",
              "      <td>Savings</td>\n",
              "      <td>Yes</td>\n",
              "      <td>Yes</td>\n",
              "      <td>Yes</td>\n",
              "      <td>Yes</td>\n",
              "      <td>No</td>\n",
              "      <td>No</td>\n",
              "      <td>No</td>\n",
              "      <td>Yes</td>\n",
              "      <td>Active</td>\n",
              "      <td>Yes</td>\n",
              "      <td>Yes</td>\n",
              "      <td>No</td>\n",
              "      <td>No</td>\n",
              "      <td>near</td>\n",
              "      <td>False</td>\n",
              "    </tr>\n",
              "    <tr>\n",
              "      <th>2</th>\n",
              "      <td>Male</td>\n",
              "      <td>Post Graduate</td>\n",
              "      <td>Salaried</td>\n",
              "      <td>Salaried</td>\n",
              "      <td>Yes</td>\n",
              "      <td>Yes</td>\n",
              "      <td>Yes</td>\n",
              "      <td>No</td>\n",
              "      <td>No</td>\n",
              "      <td>No</td>\n",
              "      <td>Yes</td>\n",
              "      <td>No</td>\n",
              "      <td>Dormant</td>\n",
              "      <td>No</td>\n",
              "      <td>No</td>\n",
              "      <td>No</td>\n",
              "      <td>No</td>\n",
              "      <td>abroad</td>\n",
              "      <td>True</td>\n",
              "    </tr>\n",
              "    <tr>\n",
              "      <th>3</th>\n",
              "      <td>Male</td>\n",
              "      <td>Graduate</td>\n",
              "      <td>Student</td>\n",
              "      <td>Savings</td>\n",
              "      <td>Yes</td>\n",
              "      <td>Yes</td>\n",
              "      <td>No</td>\n",
              "      <td>Yes</td>\n",
              "      <td>Yes</td>\n",
              "      <td>No</td>\n",
              "      <td>No</td>\n",
              "      <td>Yes</td>\n",
              "      <td>Active</td>\n",
              "      <td>No</td>\n",
              "      <td>Yes</td>\n",
              "      <td>Yes</td>\n",
              "      <td>Yes</td>\n",
              "      <td>near</td>\n",
              "      <td>False</td>\n",
              "    </tr>\n",
              "    <tr>\n",
              "      <th>4</th>\n",
              "      <td>Female</td>\n",
              "      <td>Doctrate</td>\n",
              "      <td>Business</td>\n",
              "      <td>Savings</td>\n",
              "      <td>No</td>\n",
              "      <td>Yes</td>\n",
              "      <td>Yes</td>\n",
              "      <td>Yes</td>\n",
              "      <td>Yes</td>\n",
              "      <td>Yes</td>\n",
              "      <td>No</td>\n",
              "      <td>Yes</td>\n",
              "      <td>Active</td>\n",
              "      <td>No</td>\n",
              "      <td>Yes</td>\n",
              "      <td>Yes</td>\n",
              "      <td>Yes</td>\n",
              "      <td>near</td>\n",
              "      <td>False</td>\n",
              "    </tr>\n",
              "  </tbody>\n",
              "</table>\n",
              "</div>"
            ],
            "text/plain": [
              "   Gender Education qualification  ... dist_from_house city_change\n",
              "0    Male                Graduate  ...      interstate        True\n",
              "1    Male           Post Graduate  ...            near       False\n",
              "2    Male           Post Graduate  ...          abroad        True\n",
              "3    Male                Graduate  ...            near       False\n",
              "4  Female                Doctrate  ...            near       False\n",
              "\n",
              "[5 rows x 19 columns]"
            ]
          },
          "metadata": {
            "tags": []
          },
          "execution_count": 277
        }
      ]
    },
    {
      "cell_type": "code",
      "metadata": {
        "id": "pMTIzV2i0gu6"
      },
      "source": [
        "numeric_data = df_bank.select_dtypes(include=[np.number])"
      ],
      "execution_count": null,
      "outputs": []
    },
    {
      "cell_type": "code",
      "metadata": {
        "id": "GKkVkzix0gq-",
        "colab": {
          "base_uri": "https://localhost:8080/",
          "height": 197
        },
        "outputId": "6ca9d424-6898-46fa-b83f-84029a5cc3fa"
      },
      "source": [
        "numeric_data.head()"
      ],
      "execution_count": null,
      "outputs": [
        {
          "output_type": "execute_result",
          "data": {
            "text/html": [
              "<div>\n",
              "<style scoped>\n",
              "    .dataframe tbody tr th:only-of-type {\n",
              "        vertical-align: middle;\n",
              "    }\n",
              "\n",
              "    .dataframe tbody tr th {\n",
              "        vertical-align: top;\n",
              "    }\n",
              "\n",
              "    .dataframe thead th {\n",
              "        text-align: right;\n",
              "    }\n",
              "</style>\n",
              "<table border=\"1\" class=\"dataframe\">\n",
              "  <thead>\n",
              "    <tr style=\"text-align: right;\">\n",
              "      <th></th>\n",
              "      <th>Age</th>\n",
              "      <th>Opening Balance</th>\n",
              "      <th>Current Balance</th>\n",
              "      <th>Quarterly Activity Rate(no of transaction in 3 month)</th>\n",
              "      <th>no_of_months_last_transaction</th>\n",
              "    </tr>\n",
              "  </thead>\n",
              "  <tbody>\n",
              "    <tr>\n",
              "      <th>0</th>\n",
              "      <td>23</td>\n",
              "      <td>2000</td>\n",
              "      <td>2000</td>\n",
              "      <td>2</td>\n",
              "      <td>3</td>\n",
              "    </tr>\n",
              "    <tr>\n",
              "      <th>1</th>\n",
              "      <td>40</td>\n",
              "      <td>10000</td>\n",
              "      <td>15000</td>\n",
              "      <td>30</td>\n",
              "      <td>2</td>\n",
              "    </tr>\n",
              "    <tr>\n",
              "      <th>2</th>\n",
              "      <td>32</td>\n",
              "      <td>500</td>\n",
              "      <td>623</td>\n",
              "      <td>7</td>\n",
              "      <td>47</td>\n",
              "    </tr>\n",
              "    <tr>\n",
              "      <th>3</th>\n",
              "      <td>23</td>\n",
              "      <td>0</td>\n",
              "      <td>1000</td>\n",
              "      <td>5</td>\n",
              "      <td>3</td>\n",
              "    </tr>\n",
              "    <tr>\n",
              "      <th>4</th>\n",
              "      <td>40</td>\n",
              "      <td>3000</td>\n",
              "      <td>1000</td>\n",
              "      <td>5</td>\n",
              "      <td>10</td>\n",
              "    </tr>\n",
              "  </tbody>\n",
              "</table>\n",
              "</div>"
            ],
            "text/plain": [
              "   Age  ...  no_of_months_last_transaction\n",
              "0   23  ...                              3\n",
              "1   40  ...                              2\n",
              "2   32  ...                             47\n",
              "3   23  ...                              3\n",
              "4   40  ...                             10\n",
              "\n",
              "[5 rows x 5 columns]"
            ]
          },
          "metadata": {
            "tags": []
          },
          "execution_count": 279
        }
      ]
    },
    {
      "cell_type": "markdown",
      "metadata": {
        "id": "QJXZnmjbJ66l"
      },
      "source": [
        "**Encoding categorical columns**"
      ]
    },
    {
      "cell_type": "code",
      "metadata": {
        "id": "iUHKrKopEYdJ"
      },
      "source": [
        "#one hot encoding\n",
        "#!pip install category_encoders\n",
        "import category_encoders as ce\n",
        "\n",
        "enc = ce.OneHotEncoder(cols = ['Having Minimum Balance','Do you have multiple account','Do you have an active  loan ',\n",
        "                                   'Do you have Internet Banking or mobile banking with this  account', 'Do you have active Credit Card with this account',\n",
        "                                   'Did any suspicious transaction reported in your account','Have you ever defaulted any loan payment',\n",
        "                                   'Received any service call from bank  in 24 month with reference to  your account. (EDA)',\n",
        "                                   ' Transaction done in 24 month','Do you have recent closed Loan ','Do you have the Demat account associated to this account.',\n",
        "                                'city_change'], return_df = True, use_cat_names = True )\n",
        "\n",
        "\n"
      ],
      "execution_count": null,
      "outputs": []
    },
    {
      "cell_type": "code",
      "metadata": {
        "id": "KugWrlktZUxL"
      },
      "source": [
        ""
      ],
      "execution_count": null,
      "outputs": []
    },
    {
      "cell_type": "code",
      "metadata": {
        "id": "fjFUK_Lx6gMo",
        "colab": {
          "base_uri": "https://localhost:8080/"
        },
        "outputId": "8c773743-15d7-4be9-a0f9-5771953ec412"
      },
      "source": [
        "categorical_data['Do you have multiple account'] = categorical_data['Do you have multiple account'].replace(['Yes '], 'yes')"
      ],
      "execution_count": null,
      "outputs": [
        {
          "output_type": "stream",
          "text": [
            "/usr/local/lib/python3.7/dist-packages/ipykernel_launcher.py:1: SettingWithCopyWarning: \n",
            "A value is trying to be set on a copy of a slice from a DataFrame.\n",
            "Try using .loc[row_indexer,col_indexer] = value instead\n",
            "\n",
            "See the caveats in the documentation: https://pandas.pydata.org/pandas-docs/stable/user_guide/indexing.html#returning-a-view-versus-a-copy\n",
            "  \"\"\"Entry point for launching an IPython kernel.\n"
          ],
          "name": "stderr"
        }
      ]
    },
    {
      "cell_type": "code",
      "metadata": {
        "id": "wuKfnKePUqsy",
        "colab": {
          "base_uri": "https://localhost:8080/"
        },
        "outputId": "e9ac16eb-e5b3-49b1-95c1-58ec98a46811"
      },
      "source": [
        "categorical_data['Do you have active Credit Card with this account'] = categorical_data['Do you have active Credit Card with this account'].replace(['Yes ','Yes'],'yes')"
      ],
      "execution_count": null,
      "outputs": [
        {
          "output_type": "stream",
          "text": [
            "/usr/local/lib/python3.7/dist-packages/ipykernel_launcher.py:1: SettingWithCopyWarning: \n",
            "A value is trying to be set on a copy of a slice from a DataFrame.\n",
            "Try using .loc[row_indexer,col_indexer] = value instead\n",
            "\n",
            "See the caveats in the documentation: https://pandas.pydata.org/pandas-docs/stable/user_guide/indexing.html#returning-a-view-versus-a-copy\n",
            "  \"\"\"Entry point for launching an IPython kernel.\n"
          ],
          "name": "stderr"
        }
      ]
    },
    {
      "cell_type": "code",
      "metadata": {
        "id": "Mih7G1KWVYBx",
        "colab": {
          "base_uri": "https://localhost:8080/"
        },
        "outputId": "7d943dc9-4356-4565-f9b0-622a947a2e50"
      },
      "source": [
        "categorical_data['Did any suspicious transaction reported in your account'] = categorical_data['Did any suspicious transaction reported in your account'].replace(['No','No '],'no')"
      ],
      "execution_count": null,
      "outputs": [
        {
          "output_type": "stream",
          "text": [
            "/usr/local/lib/python3.7/dist-packages/ipykernel_launcher.py:1: SettingWithCopyWarning: \n",
            "A value is trying to be set on a copy of a slice from a DataFrame.\n",
            "Try using .loc[row_indexer,col_indexer] = value instead\n",
            "\n",
            "See the caveats in the documentation: https://pandas.pydata.org/pandas-docs/stable/user_guide/indexing.html#returning-a-view-versus-a-copy\n",
            "  \"\"\"Entry point for launching an IPython kernel.\n"
          ],
          "name": "stderr"
        }
      ]
    },
    {
      "cell_type": "code",
      "metadata": {
        "id": "o-yS8GX2Vo9H",
        "colab": {
          "base_uri": "https://localhost:8080/"
        },
        "outputId": "9725a10e-a4cb-4957-ee04-2dac3e4d5d55"
      },
      "source": [
        "categorical_data['Do you have recent closed Loan '] = categorical_data['Do you have recent closed Loan '].replace(['No '], 'No')"
      ],
      "execution_count": null,
      "outputs": [
        {
          "output_type": "stream",
          "text": [
            "/usr/local/lib/python3.7/dist-packages/ipykernel_launcher.py:1: SettingWithCopyWarning: \n",
            "A value is trying to be set on a copy of a slice from a DataFrame.\n",
            "Try using .loc[row_indexer,col_indexer] = value instead\n",
            "\n",
            "See the caveats in the documentation: https://pandas.pydata.org/pandas-docs/stable/user_guide/indexing.html#returning-a-view-versus-a-copy\n",
            "  \"\"\"Entry point for launching an IPython kernel.\n"
          ],
          "name": "stderr"
        }
      ]
    },
    {
      "cell_type": "code",
      "metadata": {
        "id": "PeDCczGeXIA4",
        "colab": {
          "base_uri": "https://localhost:8080/"
        },
        "outputId": "c4082b4e-6f6d-4926-ce1b-a39b34e0dd12"
      },
      "source": [
        "categorical_data['Do you have the Demat account associated to this account.'] = categorical_data['Do you have the Demat account associated to this account.'].replace(['Yes '],'Yes')"
      ],
      "execution_count": null,
      "outputs": [
        {
          "output_type": "stream",
          "text": [
            "/usr/local/lib/python3.7/dist-packages/ipykernel_launcher.py:1: SettingWithCopyWarning: \n",
            "A value is trying to be set on a copy of a slice from a DataFrame.\n",
            "Try using .loc[row_indexer,col_indexer] = value instead\n",
            "\n",
            "See the caveats in the documentation: https://pandas.pydata.org/pandas-docs/stable/user_guide/indexing.html#returning-a-view-versus-a-copy\n",
            "  \"\"\"Entry point for launching an IPython kernel.\n"
          ],
          "name": "stderr"
        }
      ]
    },
    {
      "cell_type": "code",
      "metadata": {
        "id": "8t5IbpPmXiFK",
        "colab": {
          "base_uri": "https://localhost:8080/"
        },
        "outputId": "37e45d2f-e8bb-4079-bdb6-bc9abaf1d0cb"
      },
      "source": [
        "categorical_data['Do you have the Demat account associated to this account.'] = categorical_data['Do you have the Demat account associated to this account.'].replace(['No '],'No')"
      ],
      "execution_count": null,
      "outputs": [
        {
          "output_type": "stream",
          "text": [
            "/usr/local/lib/python3.7/dist-packages/ipykernel_launcher.py:1: SettingWithCopyWarning: \n",
            "A value is trying to be set on a copy of a slice from a DataFrame.\n",
            "Try using .loc[row_indexer,col_indexer] = value instead\n",
            "\n",
            "See the caveats in the documentation: https://pandas.pydata.org/pandas-docs/stable/user_guide/indexing.html#returning-a-view-versus-a-copy\n",
            "  \"\"\"Entry point for launching an IPython kernel.\n"
          ],
          "name": "stderr"
        }
      ]
    },
    {
      "cell_type": "code",
      "metadata": {
        "id": "FZGq4eWEwIGO",
        "colab": {
          "base_uri": "https://localhost:8080/"
        },
        "outputId": "4160d561-4df9-47ed-9155-c9cf6b9ae50f"
      },
      "source": [
        "categorical_data['Do you have multiple account'] = categorical_data['Do you have multiple account'].replace(['yes'], 'Yes')"
      ],
      "execution_count": null,
      "outputs": [
        {
          "output_type": "stream",
          "text": [
            "/usr/local/lib/python3.7/dist-packages/ipykernel_launcher.py:1: SettingWithCopyWarning: \n",
            "A value is trying to be set on a copy of a slice from a DataFrame.\n",
            "Try using .loc[row_indexer,col_indexer] = value instead\n",
            "\n",
            "See the caveats in the documentation: https://pandas.pydata.org/pandas-docs/stable/user_guide/indexing.html#returning-a-view-versus-a-copy\n",
            "  \"\"\"Entry point for launching an IPython kernel.\n"
          ],
          "name": "stderr"
        }
      ]
    },
    {
      "cell_type": "code",
      "metadata": {
        "id": "Rs6s2lRlxepR",
        "colab": {
          "base_uri": "https://localhost:8080/"
        },
        "outputId": "a1efc875-4f7f-4f2c-f5ec-6733ec133b3f"
      },
      "source": [
        "categorical_data['Received any service call from bank  in 24 month with reference to  your account. (EDA)'] = categorical_data['Received any service call from bank  in 24 month with reference to  your account. (EDA)'].replace(['No '],'No')"
      ],
      "execution_count": null,
      "outputs": [
        {
          "output_type": "stream",
          "text": [
            "/usr/local/lib/python3.7/dist-packages/ipykernel_launcher.py:1: SettingWithCopyWarning: \n",
            "A value is trying to be set on a copy of a slice from a DataFrame.\n",
            "Try using .loc[row_indexer,col_indexer] = value instead\n",
            "\n",
            "See the caveats in the documentation: https://pandas.pydata.org/pandas-docs/stable/user_guide/indexing.html#returning-a-view-versus-a-copy\n",
            "  \"\"\"Entry point for launching an IPython kernel.\n"
          ],
          "name": "stderr"
        }
      ]
    },
    {
      "cell_type": "code",
      "metadata": {
        "id": "UwW3oIA00CND",
        "colab": {
          "base_uri": "https://localhost:8080/"
        },
        "outputId": "83f346df-6fe2-42f4-b8f1-60781e6d8a77"
      },
      "source": [
        "categorical_data['Do you have Internet Banking or mobile banking with this  account'] =categorical_data['Do you have Internet Banking or mobile banking with this  account'].replace(['Yes ', 'yes'])"
      ],
      "execution_count": null,
      "outputs": [
        {
          "output_type": "stream",
          "text": [
            "/usr/local/lib/python3.7/dist-packages/ipykernel_launcher.py:1: SettingWithCopyWarning: \n",
            "A value is trying to be set on a copy of a slice from a DataFrame.\n",
            "Try using .loc[row_indexer,col_indexer] = value instead\n",
            "\n",
            "See the caveats in the documentation: https://pandas.pydata.org/pandas-docs/stable/user_guide/indexing.html#returning-a-view-versus-a-copy\n",
            "  \"\"\"Entry point for launching an IPython kernel.\n"
          ],
          "name": "stderr"
        }
      ]
    },
    {
      "cell_type": "code",
      "metadata": {
        "id": "zDw3QSO3YBfZ",
        "colab": {
          "base_uri": "https://localhost:8080/",
          "height": 645
        },
        "outputId": "f7d72141-086c-4169-ab3e-931e49f810e2"
      },
      "source": [
        "cat_data = enc.fit_transform(categorical_data)\n",
        "cat_data"
      ],
      "execution_count": null,
      "outputs": [
        {
          "output_type": "stream",
          "text": [
            "/usr/local/lib/python3.7/dist-packages/category_encoders/utils.py:21: FutureWarning: is_categorical is deprecated and will be removed in a future version.  Use is_categorical_dtype instead\n",
            "  elif pd.api.types.is_categorical(cols):\n"
          ],
          "name": "stderr"
        },
        {
          "output_type": "execute_result",
          "data": {
            "text/html": [
              "<div>\n",
              "<style scoped>\n",
              "    .dataframe tbody tr th:only-of-type {\n",
              "        vertical-align: middle;\n",
              "    }\n",
              "\n",
              "    .dataframe tbody tr th {\n",
              "        vertical-align: top;\n",
              "    }\n",
              "\n",
              "    .dataframe thead th {\n",
              "        text-align: right;\n",
              "    }\n",
              "</style>\n",
              "<table border=\"1\" class=\"dataframe\">\n",
              "  <thead>\n",
              "    <tr style=\"text-align: right;\">\n",
              "      <th></th>\n",
              "      <th>Gender</th>\n",
              "      <th>Education qualification</th>\n",
              "      <th>Occupation</th>\n",
              "      <th>Account Type</th>\n",
              "      <th>Having Minimum Balance_Yes</th>\n",
              "      <th>Having Minimum Balance_No</th>\n",
              "      <th>Do you have multiple account_Yes</th>\n",
              "      <th>Do you have multiple account_No</th>\n",
              "      <th>Do you have an active  loan _No</th>\n",
              "      <th>Do you have an active  loan _Yes</th>\n",
              "      <th>Do you have Internet Banking or mobile banking with this  account_Yes</th>\n",
              "      <th>Do you have Internet Banking or mobile banking with this  account_No</th>\n",
              "      <th>Do you have active Credit Card with this account_No</th>\n",
              "      <th>Do you have active Credit Card with this account_yes</th>\n",
              "      <th>Did any suspicious transaction reported in your account_Yes</th>\n",
              "      <th>Did any suspicious transaction reported in your account_no</th>\n",
              "      <th>Have you ever defaulted any loan payment_No</th>\n",
              "      <th>Have you ever defaulted any loan payment_Yes</th>\n",
              "      <th>Are you satisfied with the service provided by bank</th>\n",
              "      <th>Current Status of your accounts (Output variable)</th>\n",
              "      <th>Received any service call from bank  in 24 month with reference to  your account. (EDA)_No</th>\n",
              "      <th>Received any service call from bank  in 24 month with reference to  your account. (EDA)_Yes</th>\n",
              "      <th>Transaction done in 24 month_Yes</th>\n",
              "      <th>Transaction done in 24 month_No</th>\n",
              "      <th>Do you have recent closed Loan _No</th>\n",
              "      <th>Do you have recent closed Loan _Yes</th>\n",
              "      <th>Do you have the Demat account associated to this account._No</th>\n",
              "      <th>Do you have the Demat account associated to this account._Yes</th>\n",
              "      <th>dist_from_house</th>\n",
              "      <th>city_change_True</th>\n",
              "      <th>city_change_False</th>\n",
              "    </tr>\n",
              "  </thead>\n",
              "  <tbody>\n",
              "    <tr>\n",
              "      <th>0</th>\n",
              "      <td>Male</td>\n",
              "      <td>Graduate</td>\n",
              "      <td>Salaried</td>\n",
              "      <td>Savings</td>\n",
              "      <td>1</td>\n",
              "      <td>0</td>\n",
              "      <td>1</td>\n",
              "      <td>0</td>\n",
              "      <td>1</td>\n",
              "      <td>0</td>\n",
              "      <td>1</td>\n",
              "      <td>0</td>\n",
              "      <td>1</td>\n",
              "      <td>0</td>\n",
              "      <td>1</td>\n",
              "      <td>0</td>\n",
              "      <td>1</td>\n",
              "      <td>0</td>\n",
              "      <td>No</td>\n",
              "      <td>Active</td>\n",
              "      <td>1</td>\n",
              "      <td>0</td>\n",
              "      <td>1</td>\n",
              "      <td>0</td>\n",
              "      <td>1</td>\n",
              "      <td>0</td>\n",
              "      <td>1</td>\n",
              "      <td>0</td>\n",
              "      <td>interstate</td>\n",
              "      <td>1</td>\n",
              "      <td>0</td>\n",
              "    </tr>\n",
              "    <tr>\n",
              "      <th>1</th>\n",
              "      <td>Male</td>\n",
              "      <td>Post Graduate</td>\n",
              "      <td>Salaried</td>\n",
              "      <td>Savings</td>\n",
              "      <td>1</td>\n",
              "      <td>0</td>\n",
              "      <td>1</td>\n",
              "      <td>0</td>\n",
              "      <td>0</td>\n",
              "      <td>1</td>\n",
              "      <td>1</td>\n",
              "      <td>0</td>\n",
              "      <td>1</td>\n",
              "      <td>0</td>\n",
              "      <td>0</td>\n",
              "      <td>1</td>\n",
              "      <td>1</td>\n",
              "      <td>0</td>\n",
              "      <td>Yes</td>\n",
              "      <td>Active</td>\n",
              "      <td>0</td>\n",
              "      <td>1</td>\n",
              "      <td>1</td>\n",
              "      <td>0</td>\n",
              "      <td>1</td>\n",
              "      <td>0</td>\n",
              "      <td>1</td>\n",
              "      <td>0</td>\n",
              "      <td>near</td>\n",
              "      <td>0</td>\n",
              "      <td>1</td>\n",
              "    </tr>\n",
              "    <tr>\n",
              "      <th>2</th>\n",
              "      <td>Male</td>\n",
              "      <td>Post Graduate</td>\n",
              "      <td>Salaried</td>\n",
              "      <td>Salaried</td>\n",
              "      <td>1</td>\n",
              "      <td>0</td>\n",
              "      <td>1</td>\n",
              "      <td>0</td>\n",
              "      <td>0</td>\n",
              "      <td>1</td>\n",
              "      <td>0</td>\n",
              "      <td>1</td>\n",
              "      <td>1</td>\n",
              "      <td>0</td>\n",
              "      <td>0</td>\n",
              "      <td>1</td>\n",
              "      <td>0</td>\n",
              "      <td>1</td>\n",
              "      <td>No</td>\n",
              "      <td>Dormant</td>\n",
              "      <td>1</td>\n",
              "      <td>0</td>\n",
              "      <td>0</td>\n",
              "      <td>1</td>\n",
              "      <td>1</td>\n",
              "      <td>0</td>\n",
              "      <td>1</td>\n",
              "      <td>0</td>\n",
              "      <td>abroad</td>\n",
              "      <td>1</td>\n",
              "      <td>0</td>\n",
              "    </tr>\n",
              "    <tr>\n",
              "      <th>3</th>\n",
              "      <td>Male</td>\n",
              "      <td>Graduate</td>\n",
              "      <td>Student</td>\n",
              "      <td>Savings</td>\n",
              "      <td>1</td>\n",
              "      <td>0</td>\n",
              "      <td>1</td>\n",
              "      <td>0</td>\n",
              "      <td>1</td>\n",
              "      <td>0</td>\n",
              "      <td>1</td>\n",
              "      <td>0</td>\n",
              "      <td>0</td>\n",
              "      <td>1</td>\n",
              "      <td>0</td>\n",
              "      <td>1</td>\n",
              "      <td>1</td>\n",
              "      <td>0</td>\n",
              "      <td>Yes</td>\n",
              "      <td>Active</td>\n",
              "      <td>1</td>\n",
              "      <td>0</td>\n",
              "      <td>1</td>\n",
              "      <td>0</td>\n",
              "      <td>0</td>\n",
              "      <td>1</td>\n",
              "      <td>0</td>\n",
              "      <td>1</td>\n",
              "      <td>near</td>\n",
              "      <td>0</td>\n",
              "      <td>1</td>\n",
              "    </tr>\n",
              "    <tr>\n",
              "      <th>4</th>\n",
              "      <td>Female</td>\n",
              "      <td>Doctrate</td>\n",
              "      <td>Business</td>\n",
              "      <td>Savings</td>\n",
              "      <td>0</td>\n",
              "      <td>1</td>\n",
              "      <td>1</td>\n",
              "      <td>0</td>\n",
              "      <td>0</td>\n",
              "      <td>1</td>\n",
              "      <td>1</td>\n",
              "      <td>0</td>\n",
              "      <td>0</td>\n",
              "      <td>1</td>\n",
              "      <td>1</td>\n",
              "      <td>0</td>\n",
              "      <td>1</td>\n",
              "      <td>0</td>\n",
              "      <td>Yes</td>\n",
              "      <td>Active</td>\n",
              "      <td>1</td>\n",
              "      <td>0</td>\n",
              "      <td>1</td>\n",
              "      <td>0</td>\n",
              "      <td>0</td>\n",
              "      <td>1</td>\n",
              "      <td>0</td>\n",
              "      <td>1</td>\n",
              "      <td>near</td>\n",
              "      <td>0</td>\n",
              "      <td>1</td>\n",
              "    </tr>\n",
              "    <tr>\n",
              "      <th>...</th>\n",
              "      <td>...</td>\n",
              "      <td>...</td>\n",
              "      <td>...</td>\n",
              "      <td>...</td>\n",
              "      <td>...</td>\n",
              "      <td>...</td>\n",
              "      <td>...</td>\n",
              "      <td>...</td>\n",
              "      <td>...</td>\n",
              "      <td>...</td>\n",
              "      <td>...</td>\n",
              "      <td>...</td>\n",
              "      <td>...</td>\n",
              "      <td>...</td>\n",
              "      <td>...</td>\n",
              "      <td>...</td>\n",
              "      <td>...</td>\n",
              "      <td>...</td>\n",
              "      <td>...</td>\n",
              "      <td>...</td>\n",
              "      <td>...</td>\n",
              "      <td>...</td>\n",
              "      <td>...</td>\n",
              "      <td>...</td>\n",
              "      <td>...</td>\n",
              "      <td>...</td>\n",
              "      <td>...</td>\n",
              "      <td>...</td>\n",
              "      <td>...</td>\n",
              "      <td>...</td>\n",
              "      <td>...</td>\n",
              "    </tr>\n",
              "    <tr>\n",
              "      <th>1085</th>\n",
              "      <td>Female</td>\n",
              "      <td>Graduate</td>\n",
              "      <td>Student</td>\n",
              "      <td>Savings</td>\n",
              "      <td>1</td>\n",
              "      <td>0</td>\n",
              "      <td>0</td>\n",
              "      <td>1</td>\n",
              "      <td>1</td>\n",
              "      <td>0</td>\n",
              "      <td>0</td>\n",
              "      <td>1</td>\n",
              "      <td>1</td>\n",
              "      <td>0</td>\n",
              "      <td>0</td>\n",
              "      <td>1</td>\n",
              "      <td>1</td>\n",
              "      <td>0</td>\n",
              "      <td>Need Improvement</td>\n",
              "      <td>Active</td>\n",
              "      <td>1</td>\n",
              "      <td>0</td>\n",
              "      <td>1</td>\n",
              "      <td>0</td>\n",
              "      <td>1</td>\n",
              "      <td>0</td>\n",
              "      <td>1</td>\n",
              "      <td>0</td>\n",
              "      <td>near</td>\n",
              "      <td>0</td>\n",
              "      <td>1</td>\n",
              "    </tr>\n",
              "    <tr>\n",
              "      <th>1086</th>\n",
              "      <td>Male</td>\n",
              "      <td>Graduate</td>\n",
              "      <td>Student</td>\n",
              "      <td>Savings</td>\n",
              "      <td>1</td>\n",
              "      <td>0</td>\n",
              "      <td>0</td>\n",
              "      <td>1</td>\n",
              "      <td>1</td>\n",
              "      <td>0</td>\n",
              "      <td>1</td>\n",
              "      <td>0</td>\n",
              "      <td>1</td>\n",
              "      <td>0</td>\n",
              "      <td>0</td>\n",
              "      <td>1</td>\n",
              "      <td>1</td>\n",
              "      <td>0</td>\n",
              "      <td>Yes</td>\n",
              "      <td>Active</td>\n",
              "      <td>1</td>\n",
              "      <td>0</td>\n",
              "      <td>1</td>\n",
              "      <td>0</td>\n",
              "      <td>1</td>\n",
              "      <td>0</td>\n",
              "      <td>1</td>\n",
              "      <td>0</td>\n",
              "      <td>near</td>\n",
              "      <td>1</td>\n",
              "      <td>0</td>\n",
              "    </tr>\n",
              "    <tr>\n",
              "      <th>1087</th>\n",
              "      <td>Female</td>\n",
              "      <td>Graduate</td>\n",
              "      <td>Other</td>\n",
              "      <td>Other</td>\n",
              "      <td>1</td>\n",
              "      <td>0</td>\n",
              "      <td>0</td>\n",
              "      <td>1</td>\n",
              "      <td>1</td>\n",
              "      <td>0</td>\n",
              "      <td>0</td>\n",
              "      <td>1</td>\n",
              "      <td>1</td>\n",
              "      <td>0</td>\n",
              "      <td>0</td>\n",
              "      <td>1</td>\n",
              "      <td>1</td>\n",
              "      <td>0</td>\n",
              "      <td>Yes</td>\n",
              "      <td>Active</td>\n",
              "      <td>1</td>\n",
              "      <td>0</td>\n",
              "      <td>1</td>\n",
              "      <td>0</td>\n",
              "      <td>1</td>\n",
              "      <td>0</td>\n",
              "      <td>1</td>\n",
              "      <td>0</td>\n",
              "      <td>near</td>\n",
              "      <td>1</td>\n",
              "      <td>0</td>\n",
              "    </tr>\n",
              "    <tr>\n",
              "      <th>1088</th>\n",
              "      <td>Male</td>\n",
              "      <td>Doctrate</td>\n",
              "      <td>Salaried</td>\n",
              "      <td>Pension</td>\n",
              "      <td>1</td>\n",
              "      <td>0</td>\n",
              "      <td>1</td>\n",
              "      <td>0</td>\n",
              "      <td>0</td>\n",
              "      <td>1</td>\n",
              "      <td>1</td>\n",
              "      <td>0</td>\n",
              "      <td>1</td>\n",
              "      <td>0</td>\n",
              "      <td>0</td>\n",
              "      <td>1</td>\n",
              "      <td>1</td>\n",
              "      <td>0</td>\n",
              "      <td>Yes</td>\n",
              "      <td>Active</td>\n",
              "      <td>1</td>\n",
              "      <td>0</td>\n",
              "      <td>1</td>\n",
              "      <td>0</td>\n",
              "      <td>0</td>\n",
              "      <td>1</td>\n",
              "      <td>1</td>\n",
              "      <td>0</td>\n",
              "      <td>near</td>\n",
              "      <td>0</td>\n",
              "      <td>1</td>\n",
              "    </tr>\n",
              "    <tr>\n",
              "      <th>1089</th>\n",
              "      <td>Male</td>\n",
              "      <td>Graduate</td>\n",
              "      <td>Business</td>\n",
              "      <td>Savings</td>\n",
              "      <td>0</td>\n",
              "      <td>1</td>\n",
              "      <td>1</td>\n",
              "      <td>0</td>\n",
              "      <td>1</td>\n",
              "      <td>0</td>\n",
              "      <td>0</td>\n",
              "      <td>1</td>\n",
              "      <td>1</td>\n",
              "      <td>0</td>\n",
              "      <td>0</td>\n",
              "      <td>1</td>\n",
              "      <td>1</td>\n",
              "      <td>0</td>\n",
              "      <td>No</td>\n",
              "      <td>Dormant</td>\n",
              "      <td>1</td>\n",
              "      <td>0</td>\n",
              "      <td>0</td>\n",
              "      <td>1</td>\n",
              "      <td>1</td>\n",
              "      <td>0</td>\n",
              "      <td>1</td>\n",
              "      <td>0</td>\n",
              "      <td>near</td>\n",
              "      <td>0</td>\n",
              "      <td>1</td>\n",
              "    </tr>\n",
              "  </tbody>\n",
              "</table>\n",
              "<p>1084 rows × 31 columns</p>\n",
              "</div>"
            ],
            "text/plain": [
              "      Gender Education qualification  ... city_change_True city_change_False\n",
              "0       Male                Graduate  ...                1                 0\n",
              "1       Male           Post Graduate  ...                0                 1\n",
              "2       Male           Post Graduate  ...                1                 0\n",
              "3       Male                Graduate  ...                0                 1\n",
              "4     Female                Doctrate  ...                0                 1\n",
              "...      ...                     ...  ...              ...               ...\n",
              "1085  Female                Graduate  ...                0                 1\n",
              "1086    Male                Graduate  ...                1                 0\n",
              "1087  Female                Graduate  ...                1                 0\n",
              "1088    Male                Doctrate  ...                0                 1\n",
              "1089    Male                Graduate  ...                0                 1\n",
              "\n",
              "[1084 rows x 31 columns]"
            ]
          },
          "metadata": {
            "tags": []
          },
          "execution_count": 290
        }
      ]
    },
    {
      "cell_type": "code",
      "metadata": {
        "id": "i4wmyPy2YBWT"
      },
      "source": [
        "cat_data1 = cat_data.drop(cat_data.columns[[5,7,8,11,12,15,16,20,23,24,26,30]], axis = 'columns')"
      ],
      "execution_count": null,
      "outputs": []
    },
    {
      "cell_type": "code",
      "metadata": {
        "id": "t5xEBuwSYBSA",
        "colab": {
          "base_uri": "https://localhost:8080/",
          "height": 610
        },
        "outputId": "f28239fc-c8d6-41e3-f90f-40905cd0a8fe"
      },
      "source": [
        "cat_data1"
      ],
      "execution_count": null,
      "outputs": [
        {
          "output_type": "execute_result",
          "data": {
            "text/html": [
              "<div>\n",
              "<style scoped>\n",
              "    .dataframe tbody tr th:only-of-type {\n",
              "        vertical-align: middle;\n",
              "    }\n",
              "\n",
              "    .dataframe tbody tr th {\n",
              "        vertical-align: top;\n",
              "    }\n",
              "\n",
              "    .dataframe thead th {\n",
              "        text-align: right;\n",
              "    }\n",
              "</style>\n",
              "<table border=\"1\" class=\"dataframe\">\n",
              "  <thead>\n",
              "    <tr style=\"text-align: right;\">\n",
              "      <th></th>\n",
              "      <th>Gender</th>\n",
              "      <th>Education qualification</th>\n",
              "      <th>Occupation</th>\n",
              "      <th>Account Type</th>\n",
              "      <th>Having Minimum Balance_Yes</th>\n",
              "      <th>Do you have multiple account_Yes</th>\n",
              "      <th>Do you have an active  loan _Yes</th>\n",
              "      <th>Do you have Internet Banking or mobile banking with this  account_Yes</th>\n",
              "      <th>Do you have active Credit Card with this account_yes</th>\n",
              "      <th>Did any suspicious transaction reported in your account_Yes</th>\n",
              "      <th>Have you ever defaulted any loan payment_Yes</th>\n",
              "      <th>Are you satisfied with the service provided by bank</th>\n",
              "      <th>Current Status of your accounts (Output variable)</th>\n",
              "      <th>Received any service call from bank  in 24 month with reference to  your account. (EDA)_Yes</th>\n",
              "      <th>Transaction done in 24 month_Yes</th>\n",
              "      <th>Do you have recent closed Loan _Yes</th>\n",
              "      <th>Do you have the Demat account associated to this account._Yes</th>\n",
              "      <th>dist_from_house</th>\n",
              "      <th>city_change_True</th>\n",
              "    </tr>\n",
              "  </thead>\n",
              "  <tbody>\n",
              "    <tr>\n",
              "      <th>0</th>\n",
              "      <td>Male</td>\n",
              "      <td>Graduate</td>\n",
              "      <td>Salaried</td>\n",
              "      <td>Savings</td>\n",
              "      <td>1</td>\n",
              "      <td>1</td>\n",
              "      <td>0</td>\n",
              "      <td>1</td>\n",
              "      <td>0</td>\n",
              "      <td>1</td>\n",
              "      <td>0</td>\n",
              "      <td>No</td>\n",
              "      <td>Active</td>\n",
              "      <td>0</td>\n",
              "      <td>1</td>\n",
              "      <td>0</td>\n",
              "      <td>0</td>\n",
              "      <td>interstate</td>\n",
              "      <td>1</td>\n",
              "    </tr>\n",
              "    <tr>\n",
              "      <th>1</th>\n",
              "      <td>Male</td>\n",
              "      <td>Post Graduate</td>\n",
              "      <td>Salaried</td>\n",
              "      <td>Savings</td>\n",
              "      <td>1</td>\n",
              "      <td>1</td>\n",
              "      <td>1</td>\n",
              "      <td>1</td>\n",
              "      <td>0</td>\n",
              "      <td>0</td>\n",
              "      <td>0</td>\n",
              "      <td>Yes</td>\n",
              "      <td>Active</td>\n",
              "      <td>1</td>\n",
              "      <td>1</td>\n",
              "      <td>0</td>\n",
              "      <td>0</td>\n",
              "      <td>near</td>\n",
              "      <td>0</td>\n",
              "    </tr>\n",
              "    <tr>\n",
              "      <th>2</th>\n",
              "      <td>Male</td>\n",
              "      <td>Post Graduate</td>\n",
              "      <td>Salaried</td>\n",
              "      <td>Salaried</td>\n",
              "      <td>1</td>\n",
              "      <td>1</td>\n",
              "      <td>1</td>\n",
              "      <td>0</td>\n",
              "      <td>0</td>\n",
              "      <td>0</td>\n",
              "      <td>1</td>\n",
              "      <td>No</td>\n",
              "      <td>Dormant</td>\n",
              "      <td>0</td>\n",
              "      <td>0</td>\n",
              "      <td>0</td>\n",
              "      <td>0</td>\n",
              "      <td>abroad</td>\n",
              "      <td>1</td>\n",
              "    </tr>\n",
              "    <tr>\n",
              "      <th>3</th>\n",
              "      <td>Male</td>\n",
              "      <td>Graduate</td>\n",
              "      <td>Student</td>\n",
              "      <td>Savings</td>\n",
              "      <td>1</td>\n",
              "      <td>1</td>\n",
              "      <td>0</td>\n",
              "      <td>1</td>\n",
              "      <td>1</td>\n",
              "      <td>0</td>\n",
              "      <td>0</td>\n",
              "      <td>Yes</td>\n",
              "      <td>Active</td>\n",
              "      <td>0</td>\n",
              "      <td>1</td>\n",
              "      <td>1</td>\n",
              "      <td>1</td>\n",
              "      <td>near</td>\n",
              "      <td>0</td>\n",
              "    </tr>\n",
              "    <tr>\n",
              "      <th>4</th>\n",
              "      <td>Female</td>\n",
              "      <td>Doctrate</td>\n",
              "      <td>Business</td>\n",
              "      <td>Savings</td>\n",
              "      <td>0</td>\n",
              "      <td>1</td>\n",
              "      <td>1</td>\n",
              "      <td>1</td>\n",
              "      <td>1</td>\n",
              "      <td>1</td>\n",
              "      <td>0</td>\n",
              "      <td>Yes</td>\n",
              "      <td>Active</td>\n",
              "      <td>0</td>\n",
              "      <td>1</td>\n",
              "      <td>1</td>\n",
              "      <td>1</td>\n",
              "      <td>near</td>\n",
              "      <td>0</td>\n",
              "    </tr>\n",
              "    <tr>\n",
              "      <th>...</th>\n",
              "      <td>...</td>\n",
              "      <td>...</td>\n",
              "      <td>...</td>\n",
              "      <td>...</td>\n",
              "      <td>...</td>\n",
              "      <td>...</td>\n",
              "      <td>...</td>\n",
              "      <td>...</td>\n",
              "      <td>...</td>\n",
              "      <td>...</td>\n",
              "      <td>...</td>\n",
              "      <td>...</td>\n",
              "      <td>...</td>\n",
              "      <td>...</td>\n",
              "      <td>...</td>\n",
              "      <td>...</td>\n",
              "      <td>...</td>\n",
              "      <td>...</td>\n",
              "      <td>...</td>\n",
              "    </tr>\n",
              "    <tr>\n",
              "      <th>1085</th>\n",
              "      <td>Female</td>\n",
              "      <td>Graduate</td>\n",
              "      <td>Student</td>\n",
              "      <td>Savings</td>\n",
              "      <td>1</td>\n",
              "      <td>0</td>\n",
              "      <td>0</td>\n",
              "      <td>0</td>\n",
              "      <td>0</td>\n",
              "      <td>0</td>\n",
              "      <td>0</td>\n",
              "      <td>Need Improvement</td>\n",
              "      <td>Active</td>\n",
              "      <td>0</td>\n",
              "      <td>1</td>\n",
              "      <td>0</td>\n",
              "      <td>0</td>\n",
              "      <td>near</td>\n",
              "      <td>0</td>\n",
              "    </tr>\n",
              "    <tr>\n",
              "      <th>1086</th>\n",
              "      <td>Male</td>\n",
              "      <td>Graduate</td>\n",
              "      <td>Student</td>\n",
              "      <td>Savings</td>\n",
              "      <td>1</td>\n",
              "      <td>0</td>\n",
              "      <td>0</td>\n",
              "      <td>1</td>\n",
              "      <td>0</td>\n",
              "      <td>0</td>\n",
              "      <td>0</td>\n",
              "      <td>Yes</td>\n",
              "      <td>Active</td>\n",
              "      <td>0</td>\n",
              "      <td>1</td>\n",
              "      <td>0</td>\n",
              "      <td>0</td>\n",
              "      <td>near</td>\n",
              "      <td>1</td>\n",
              "    </tr>\n",
              "    <tr>\n",
              "      <th>1087</th>\n",
              "      <td>Female</td>\n",
              "      <td>Graduate</td>\n",
              "      <td>Other</td>\n",
              "      <td>Other</td>\n",
              "      <td>1</td>\n",
              "      <td>0</td>\n",
              "      <td>0</td>\n",
              "      <td>0</td>\n",
              "      <td>0</td>\n",
              "      <td>0</td>\n",
              "      <td>0</td>\n",
              "      <td>Yes</td>\n",
              "      <td>Active</td>\n",
              "      <td>0</td>\n",
              "      <td>1</td>\n",
              "      <td>0</td>\n",
              "      <td>0</td>\n",
              "      <td>near</td>\n",
              "      <td>1</td>\n",
              "    </tr>\n",
              "    <tr>\n",
              "      <th>1088</th>\n",
              "      <td>Male</td>\n",
              "      <td>Doctrate</td>\n",
              "      <td>Salaried</td>\n",
              "      <td>Pension</td>\n",
              "      <td>1</td>\n",
              "      <td>1</td>\n",
              "      <td>1</td>\n",
              "      <td>1</td>\n",
              "      <td>0</td>\n",
              "      <td>0</td>\n",
              "      <td>0</td>\n",
              "      <td>Yes</td>\n",
              "      <td>Active</td>\n",
              "      <td>0</td>\n",
              "      <td>1</td>\n",
              "      <td>1</td>\n",
              "      <td>0</td>\n",
              "      <td>near</td>\n",
              "      <td>0</td>\n",
              "    </tr>\n",
              "    <tr>\n",
              "      <th>1089</th>\n",
              "      <td>Male</td>\n",
              "      <td>Graduate</td>\n",
              "      <td>Business</td>\n",
              "      <td>Savings</td>\n",
              "      <td>0</td>\n",
              "      <td>1</td>\n",
              "      <td>0</td>\n",
              "      <td>0</td>\n",
              "      <td>0</td>\n",
              "      <td>0</td>\n",
              "      <td>0</td>\n",
              "      <td>No</td>\n",
              "      <td>Dormant</td>\n",
              "      <td>0</td>\n",
              "      <td>0</td>\n",
              "      <td>0</td>\n",
              "      <td>0</td>\n",
              "      <td>near</td>\n",
              "      <td>0</td>\n",
              "    </tr>\n",
              "  </tbody>\n",
              "</table>\n",
              "<p>1084 rows × 19 columns</p>\n",
              "</div>"
            ],
            "text/plain": [
              "      Gender Education qualification  ... dist_from_house city_change_True\n",
              "0       Male                Graduate  ...      interstate                1\n",
              "1       Male           Post Graduate  ...            near                0\n",
              "2       Male           Post Graduate  ...          abroad                1\n",
              "3       Male                Graduate  ...            near                0\n",
              "4     Female                Doctrate  ...            near                0\n",
              "...      ...                     ...  ...             ...              ...\n",
              "1085  Female                Graduate  ...            near                0\n",
              "1086    Male                Graduate  ...            near                1\n",
              "1087  Female                Graduate  ...            near                1\n",
              "1088    Male                Doctrate  ...            near                0\n",
              "1089    Male                Graduate  ...            near                0\n",
              "\n",
              "[1084 rows x 19 columns]"
            ]
          },
          "metadata": {
            "tags": []
          },
          "execution_count": 292
        }
      ]
    },
    {
      "cell_type": "markdown",
      "metadata": {
        "id": "P56qN7odzAMD"
      },
      "source": [
        "Label encoding"
      ]
    },
    {
      "cell_type": "code",
      "metadata": {
        "colab": {
          "base_uri": "https://localhost:8080/"
        },
        "id": "w9EM5DG713d-",
        "outputId": "45e95a74-8524-4614-9463-4ad9849dd726"
      },
      "source": [
        "cat_data1['Are you satisfied with the service provided by bank'].value_counts()"
      ],
      "execution_count": null,
      "outputs": [
        {
          "output_type": "execute_result",
          "data": {
            "text/plain": [
              "Yes                 530\n",
              "No                  278\n",
              "Need Improvement    276\n",
              "Name: Are you satisfied with the service provided by bank, dtype: int64"
            ]
          },
          "metadata": {
            "tags": []
          },
          "execution_count": 293
        }
      ]
    },
    {
      "cell_type": "code",
      "metadata": {
        "id": "1pLBfaN16E8M"
      },
      "source": [
        "cleanup_nums = {\"Gender\":     {\"Male\": 0, \"Female\": 1, \"Transgender\":2},\n",
        "                \"Are you satisfied with the service provided by bank\": {\"Yes\": 0, \"No\": 1, \"Need Improvement\": 2}, \"Current Status of your accounts (Output variable)\": {\"Active\": 0, \"Dormant\": 1, \"InActive( Not Active since last 12 month)\":2}}\n",
        "                                   "
      ],
      "execution_count": null,
      "outputs": []
    },
    {
      "cell_type": "code",
      "metadata": {
        "id": "FM2L-ghl6x1a"
      },
      "source": [
        "cat_data1 = cat_data1.replace(cleanup_nums)"
      ],
      "execution_count": null,
      "outputs": []
    },
    {
      "cell_type": "code",
      "metadata": {
        "colab": {
          "base_uri": "https://localhost:8080/",
          "height": 593
        },
        "id": "wNEq2ey-8sj9",
        "outputId": "66f82eeb-e02a-4e60-a85a-32d3427ff9f9"
      },
      "source": [
        "cat_data1"
      ],
      "execution_count": null,
      "outputs": [
        {
          "output_type": "execute_result",
          "data": {
            "text/html": [
              "<div>\n",
              "<style scoped>\n",
              "    .dataframe tbody tr th:only-of-type {\n",
              "        vertical-align: middle;\n",
              "    }\n",
              "\n",
              "    .dataframe tbody tr th {\n",
              "        vertical-align: top;\n",
              "    }\n",
              "\n",
              "    .dataframe thead th {\n",
              "        text-align: right;\n",
              "    }\n",
              "</style>\n",
              "<table border=\"1\" class=\"dataframe\">\n",
              "  <thead>\n",
              "    <tr style=\"text-align: right;\">\n",
              "      <th></th>\n",
              "      <th>Gender</th>\n",
              "      <th>Education qualification</th>\n",
              "      <th>Occupation</th>\n",
              "      <th>Account Type</th>\n",
              "      <th>Having Minimum Balance_Yes</th>\n",
              "      <th>Do you have multiple account_Yes</th>\n",
              "      <th>Do you have an active  loan _Yes</th>\n",
              "      <th>Do you have Internet Banking or mobile banking with this  account_Yes</th>\n",
              "      <th>Do you have active Credit Card with this account_yes</th>\n",
              "      <th>Did any suspicious transaction reported in your account_Yes</th>\n",
              "      <th>Have you ever defaulted any loan payment_Yes</th>\n",
              "      <th>Are you satisfied with the service provided by bank</th>\n",
              "      <th>Current Status of your accounts (Output variable)</th>\n",
              "      <th>Received any service call from bank  in 24 month with reference to  your account. (EDA)_Yes</th>\n",
              "      <th>Transaction done in 24 month_Yes</th>\n",
              "      <th>Do you have recent closed Loan _Yes</th>\n",
              "      <th>Do you have the Demat account associated to this account._Yes</th>\n",
              "      <th>dist_from_house</th>\n",
              "      <th>city_change_True</th>\n",
              "    </tr>\n",
              "  </thead>\n",
              "  <tbody>\n",
              "    <tr>\n",
              "      <th>0</th>\n",
              "      <td>0</td>\n",
              "      <td>Graduate</td>\n",
              "      <td>Salaried</td>\n",
              "      <td>Savings</td>\n",
              "      <td>1</td>\n",
              "      <td>1</td>\n",
              "      <td>0</td>\n",
              "      <td>1</td>\n",
              "      <td>0</td>\n",
              "      <td>1</td>\n",
              "      <td>0</td>\n",
              "      <td>1</td>\n",
              "      <td>0</td>\n",
              "      <td>0</td>\n",
              "      <td>1</td>\n",
              "      <td>0</td>\n",
              "      <td>0</td>\n",
              "      <td>interstate</td>\n",
              "      <td>1</td>\n",
              "    </tr>\n",
              "    <tr>\n",
              "      <th>1</th>\n",
              "      <td>0</td>\n",
              "      <td>Post Graduate</td>\n",
              "      <td>Salaried</td>\n",
              "      <td>Savings</td>\n",
              "      <td>1</td>\n",
              "      <td>1</td>\n",
              "      <td>1</td>\n",
              "      <td>1</td>\n",
              "      <td>0</td>\n",
              "      <td>0</td>\n",
              "      <td>0</td>\n",
              "      <td>0</td>\n",
              "      <td>0</td>\n",
              "      <td>1</td>\n",
              "      <td>1</td>\n",
              "      <td>0</td>\n",
              "      <td>0</td>\n",
              "      <td>near</td>\n",
              "      <td>0</td>\n",
              "    </tr>\n",
              "    <tr>\n",
              "      <th>2</th>\n",
              "      <td>0</td>\n",
              "      <td>Post Graduate</td>\n",
              "      <td>Salaried</td>\n",
              "      <td>Salaried</td>\n",
              "      <td>1</td>\n",
              "      <td>1</td>\n",
              "      <td>1</td>\n",
              "      <td>0</td>\n",
              "      <td>0</td>\n",
              "      <td>0</td>\n",
              "      <td>1</td>\n",
              "      <td>1</td>\n",
              "      <td>1</td>\n",
              "      <td>0</td>\n",
              "      <td>0</td>\n",
              "      <td>0</td>\n",
              "      <td>0</td>\n",
              "      <td>abroad</td>\n",
              "      <td>1</td>\n",
              "    </tr>\n",
              "    <tr>\n",
              "      <th>3</th>\n",
              "      <td>0</td>\n",
              "      <td>Graduate</td>\n",
              "      <td>Student</td>\n",
              "      <td>Savings</td>\n",
              "      <td>1</td>\n",
              "      <td>1</td>\n",
              "      <td>0</td>\n",
              "      <td>1</td>\n",
              "      <td>1</td>\n",
              "      <td>0</td>\n",
              "      <td>0</td>\n",
              "      <td>0</td>\n",
              "      <td>0</td>\n",
              "      <td>0</td>\n",
              "      <td>1</td>\n",
              "      <td>1</td>\n",
              "      <td>1</td>\n",
              "      <td>near</td>\n",
              "      <td>0</td>\n",
              "    </tr>\n",
              "    <tr>\n",
              "      <th>4</th>\n",
              "      <td>1</td>\n",
              "      <td>Doctrate</td>\n",
              "      <td>Business</td>\n",
              "      <td>Savings</td>\n",
              "      <td>0</td>\n",
              "      <td>1</td>\n",
              "      <td>1</td>\n",
              "      <td>1</td>\n",
              "      <td>1</td>\n",
              "      <td>1</td>\n",
              "      <td>0</td>\n",
              "      <td>0</td>\n",
              "      <td>0</td>\n",
              "      <td>0</td>\n",
              "      <td>1</td>\n",
              "      <td>1</td>\n",
              "      <td>1</td>\n",
              "      <td>near</td>\n",
              "      <td>0</td>\n",
              "    </tr>\n",
              "    <tr>\n",
              "      <th>...</th>\n",
              "      <td>...</td>\n",
              "      <td>...</td>\n",
              "      <td>...</td>\n",
              "      <td>...</td>\n",
              "      <td>...</td>\n",
              "      <td>...</td>\n",
              "      <td>...</td>\n",
              "      <td>...</td>\n",
              "      <td>...</td>\n",
              "      <td>...</td>\n",
              "      <td>...</td>\n",
              "      <td>...</td>\n",
              "      <td>...</td>\n",
              "      <td>...</td>\n",
              "      <td>...</td>\n",
              "      <td>...</td>\n",
              "      <td>...</td>\n",
              "      <td>...</td>\n",
              "      <td>...</td>\n",
              "    </tr>\n",
              "    <tr>\n",
              "      <th>1085</th>\n",
              "      <td>1</td>\n",
              "      <td>Graduate</td>\n",
              "      <td>Student</td>\n",
              "      <td>Savings</td>\n",
              "      <td>1</td>\n",
              "      <td>0</td>\n",
              "      <td>0</td>\n",
              "      <td>0</td>\n",
              "      <td>0</td>\n",
              "      <td>0</td>\n",
              "      <td>0</td>\n",
              "      <td>2</td>\n",
              "      <td>0</td>\n",
              "      <td>0</td>\n",
              "      <td>1</td>\n",
              "      <td>0</td>\n",
              "      <td>0</td>\n",
              "      <td>near</td>\n",
              "      <td>0</td>\n",
              "    </tr>\n",
              "    <tr>\n",
              "      <th>1086</th>\n",
              "      <td>0</td>\n",
              "      <td>Graduate</td>\n",
              "      <td>Student</td>\n",
              "      <td>Savings</td>\n",
              "      <td>1</td>\n",
              "      <td>0</td>\n",
              "      <td>0</td>\n",
              "      <td>1</td>\n",
              "      <td>0</td>\n",
              "      <td>0</td>\n",
              "      <td>0</td>\n",
              "      <td>0</td>\n",
              "      <td>0</td>\n",
              "      <td>0</td>\n",
              "      <td>1</td>\n",
              "      <td>0</td>\n",
              "      <td>0</td>\n",
              "      <td>near</td>\n",
              "      <td>1</td>\n",
              "    </tr>\n",
              "    <tr>\n",
              "      <th>1087</th>\n",
              "      <td>1</td>\n",
              "      <td>Graduate</td>\n",
              "      <td>Other</td>\n",
              "      <td>Other</td>\n",
              "      <td>1</td>\n",
              "      <td>0</td>\n",
              "      <td>0</td>\n",
              "      <td>0</td>\n",
              "      <td>0</td>\n",
              "      <td>0</td>\n",
              "      <td>0</td>\n",
              "      <td>0</td>\n",
              "      <td>0</td>\n",
              "      <td>0</td>\n",
              "      <td>1</td>\n",
              "      <td>0</td>\n",
              "      <td>0</td>\n",
              "      <td>near</td>\n",
              "      <td>1</td>\n",
              "    </tr>\n",
              "    <tr>\n",
              "      <th>1088</th>\n",
              "      <td>0</td>\n",
              "      <td>Doctrate</td>\n",
              "      <td>Salaried</td>\n",
              "      <td>Pension</td>\n",
              "      <td>1</td>\n",
              "      <td>1</td>\n",
              "      <td>1</td>\n",
              "      <td>1</td>\n",
              "      <td>0</td>\n",
              "      <td>0</td>\n",
              "      <td>0</td>\n",
              "      <td>0</td>\n",
              "      <td>0</td>\n",
              "      <td>0</td>\n",
              "      <td>1</td>\n",
              "      <td>1</td>\n",
              "      <td>0</td>\n",
              "      <td>near</td>\n",
              "      <td>0</td>\n",
              "    </tr>\n",
              "    <tr>\n",
              "      <th>1089</th>\n",
              "      <td>0</td>\n",
              "      <td>Graduate</td>\n",
              "      <td>Business</td>\n",
              "      <td>Savings</td>\n",
              "      <td>0</td>\n",
              "      <td>1</td>\n",
              "      <td>0</td>\n",
              "      <td>0</td>\n",
              "      <td>0</td>\n",
              "      <td>0</td>\n",
              "      <td>0</td>\n",
              "      <td>1</td>\n",
              "      <td>1</td>\n",
              "      <td>0</td>\n",
              "      <td>0</td>\n",
              "      <td>0</td>\n",
              "      <td>0</td>\n",
              "      <td>near</td>\n",
              "      <td>0</td>\n",
              "    </tr>\n",
              "  </tbody>\n",
              "</table>\n",
              "<p>1084 rows × 19 columns</p>\n",
              "</div>"
            ],
            "text/plain": [
              "      Gender Education qualification  ... dist_from_house city_change_True\n",
              "0          0                Graduate  ...      interstate                1\n",
              "1          0           Post Graduate  ...            near                0\n",
              "2          0           Post Graduate  ...          abroad                1\n",
              "3          0                Graduate  ...            near                0\n",
              "4          1                Doctrate  ...            near                0\n",
              "...      ...                     ...  ...             ...              ...\n",
              "1085       1                Graduate  ...            near                0\n",
              "1086       0                Graduate  ...            near                1\n",
              "1087       1                Graduate  ...            near                1\n",
              "1088       0                Doctrate  ...            near                0\n",
              "1089       0                Graduate  ...            near                0\n",
              "\n",
              "[1084 rows x 19 columns]"
            ]
          },
          "metadata": {
            "tags": []
          },
          "execution_count": 305
        }
      ]
    },
    {
      "cell_type": "markdown",
      "metadata": {
        "id": "Ngc5NYw7PuJO"
      },
      "source": [
        "target encoding"
      ]
    },
    {
      "cell_type": "code",
      "metadata": {
        "id": "_iPcaQZxK8do",
        "colab": {
          "base_uri": "https://localhost:8080/"
        },
        "outputId": "c6e8159d-7c43-47d3-87e2-ac434a9a522a"
      },
      "source": [
        "#target encoding\n",
        "import category_encoders as ce\n",
        "encoder=ce.TargetEncoder(cols= 'Education qualification')\n",
        "\n",
        "#Fit and Transform Train Data\n",
        "cat_data1['Education qualification'] = encoder.fit_transform(cat_data1['Education qualification'],cat_data1['Current Status of your accounts (Output variable)'])"
      ],
      "execution_count": null,
      "outputs": [
        {
          "output_type": "stream",
          "text": [
            "/usr/local/lib/python3.7/dist-packages/category_encoders/utils.py:21: FutureWarning: is_categorical is deprecated and will be removed in a future version.  Use is_categorical_dtype instead\n",
            "  elif pd.api.types.is_categorical(cols):\n"
          ],
          "name": "stderr"
        }
      ]
    },
    {
      "cell_type": "code",
      "metadata": {
        "id": "sZza5b2hK8ZY",
        "colab": {
          "base_uri": "https://localhost:8080/"
        },
        "outputId": "d71174df-8ac3-4944-f073-2da4d1a55d75"
      },
      "source": [
        "enc = ce.TargetEncoder(cols = 'Occupation')\n",
        "\n",
        "cat_data1['Occupation'] = enc.fit_transform(cat_data1['Occupation'], cat_data1['Current Status of your accounts (Output variable)'])"
      ],
      "execution_count": null,
      "outputs": [
        {
          "output_type": "stream",
          "text": [
            "/usr/local/lib/python3.7/dist-packages/category_encoders/utils.py:21: FutureWarning: is_categorical is deprecated and will be removed in a future version.  Use is_categorical_dtype instead\n",
            "  elif pd.api.types.is_categorical(cols):\n"
          ],
          "name": "stderr"
        }
      ]
    },
    {
      "cell_type": "code",
      "metadata": {
        "id": "eJjJtqWdK8Ud",
        "colab": {
          "base_uri": "https://localhost:8080/"
        },
        "outputId": "8395f437-71df-476a-92ea-28d4bd6eefe3"
      },
      "source": [
        "enco = ce.TargetEncoder(cols = 'Account Type')\n",
        "\n",
        "cat_data1['Account Type'] = enco.fit_transform(cat_data1['Account Type'], cat_data1['Current Status of your accounts (Output variable)'])"
      ],
      "execution_count": null,
      "outputs": [
        {
          "output_type": "stream",
          "text": [
            "/usr/local/lib/python3.7/dist-packages/category_encoders/utils.py:21: FutureWarning: is_categorical is deprecated and will be removed in a future version.  Use is_categorical_dtype instead\n",
            "  elif pd.api.types.is_categorical(cols):\n"
          ],
          "name": "stderr"
        }
      ]
    },
    {
      "cell_type": "code",
      "metadata": {
        "id": "zAfeudNcK8DX",
        "colab": {
          "base_uri": "https://localhost:8080/"
        },
        "outputId": "4c6faa97-1756-4f69-a6da-ee2539a11d3a"
      },
      "source": [
        "encod = ce.TargetEncoder(cols ='dist_from_house')\n",
        "\n",
        "cat_data1['dist_from_house']= encod.fit_transform(cat_data1['dist_from_house'],cat_data1['Current Status of your accounts (Output variable)'] )"
      ],
      "execution_count": null,
      "outputs": [
        {
          "output_type": "stream",
          "text": [
            "/usr/local/lib/python3.7/dist-packages/category_encoders/utils.py:21: FutureWarning: is_categorical is deprecated and will be removed in a future version.  Use is_categorical_dtype instead\n",
            "  elif pd.api.types.is_categorical(cols):\n"
          ],
          "name": "stderr"
        }
      ]
    },
    {
      "cell_type": "code",
      "metadata": {
        "id": "OsmJUCS5k9Gv",
        "colab": {
          "base_uri": "https://localhost:8080/",
          "height": 593
        },
        "outputId": "ec8a5585-473f-4c63-d81a-56cac9e0b5fd"
      },
      "source": [
        "cat_data1"
      ],
      "execution_count": null,
      "outputs": [
        {
          "output_type": "execute_result",
          "data": {
            "text/html": [
              "<div>\n",
              "<style scoped>\n",
              "    .dataframe tbody tr th:only-of-type {\n",
              "        vertical-align: middle;\n",
              "    }\n",
              "\n",
              "    .dataframe tbody tr th {\n",
              "        vertical-align: top;\n",
              "    }\n",
              "\n",
              "    .dataframe thead th {\n",
              "        text-align: right;\n",
              "    }\n",
              "</style>\n",
              "<table border=\"1\" class=\"dataframe\">\n",
              "  <thead>\n",
              "    <tr style=\"text-align: right;\">\n",
              "      <th></th>\n",
              "      <th>Gender</th>\n",
              "      <th>Education qualification</th>\n",
              "      <th>Occupation</th>\n",
              "      <th>Account Type</th>\n",
              "      <th>Having Minimum Balance_Yes</th>\n",
              "      <th>Do you have multiple account_Yes</th>\n",
              "      <th>Do you have an active  loan _Yes</th>\n",
              "      <th>Do you have Internet Banking or mobile banking with this  account_Yes</th>\n",
              "      <th>Do you have active Credit Card with this account_yes</th>\n",
              "      <th>Did any suspicious transaction reported in your account_Yes</th>\n",
              "      <th>Have you ever defaulted any loan payment_Yes</th>\n",
              "      <th>Are you satisfied with the service provided by bank</th>\n",
              "      <th>Current Status of your accounts (Output variable)</th>\n",
              "      <th>Received any service call from bank  in 24 month with reference to  your account. (EDA)_Yes</th>\n",
              "      <th>Transaction done in 24 month_Yes</th>\n",
              "      <th>Do you have recent closed Loan _Yes</th>\n",
              "      <th>Do you have the Demat account associated to this account._Yes</th>\n",
              "      <th>dist_from_house</th>\n",
              "      <th>city_change_True</th>\n",
              "    </tr>\n",
              "  </thead>\n",
              "  <tbody>\n",
              "    <tr>\n",
              "      <th>0</th>\n",
              "      <td>0</td>\n",
              "      <td>0.402622</td>\n",
              "      <td>0.468182</td>\n",
              "      <td>0.466981</td>\n",
              "      <td>1</td>\n",
              "      <td>1</td>\n",
              "      <td>0</td>\n",
              "      <td>1</td>\n",
              "      <td>0</td>\n",
              "      <td>1</td>\n",
              "      <td>0</td>\n",
              "      <td>1</td>\n",
              "      <td>0</td>\n",
              "      <td>0</td>\n",
              "      <td>1</td>\n",
              "      <td>0</td>\n",
              "      <td>0</td>\n",
              "      <td>0.724138</td>\n",
              "      <td>1</td>\n",
              "    </tr>\n",
              "    <tr>\n",
              "      <th>1</th>\n",
              "      <td>0</td>\n",
              "      <td>0.545455</td>\n",
              "      <td>0.468182</td>\n",
              "      <td>0.466981</td>\n",
              "      <td>1</td>\n",
              "      <td>1</td>\n",
              "      <td>1</td>\n",
              "      <td>1</td>\n",
              "      <td>0</td>\n",
              "      <td>0</td>\n",
              "      <td>0</td>\n",
              "      <td>0</td>\n",
              "      <td>0</td>\n",
              "      <td>1</td>\n",
              "      <td>1</td>\n",
              "      <td>0</td>\n",
              "      <td>0</td>\n",
              "      <td>0.427666</td>\n",
              "      <td>0</td>\n",
              "    </tr>\n",
              "    <tr>\n",
              "      <th>2</th>\n",
              "      <td>0</td>\n",
              "      <td>0.545455</td>\n",
              "      <td>0.468182</td>\n",
              "      <td>0.443439</td>\n",
              "      <td>1</td>\n",
              "      <td>1</td>\n",
              "      <td>1</td>\n",
              "      <td>0</td>\n",
              "      <td>0</td>\n",
              "      <td>0</td>\n",
              "      <td>1</td>\n",
              "      <td>1</td>\n",
              "      <td>1</td>\n",
              "      <td>0</td>\n",
              "      <td>0</td>\n",
              "      <td>0</td>\n",
              "      <td>0</td>\n",
              "      <td>0.643830</td>\n",
              "      <td>1</td>\n",
              "    </tr>\n",
              "    <tr>\n",
              "      <th>3</th>\n",
              "      <td>0</td>\n",
              "      <td>0.402622</td>\n",
              "      <td>0.403909</td>\n",
              "      <td>0.466981</td>\n",
              "      <td>1</td>\n",
              "      <td>1</td>\n",
              "      <td>0</td>\n",
              "      <td>1</td>\n",
              "      <td>1</td>\n",
              "      <td>0</td>\n",
              "      <td>0</td>\n",
              "      <td>0</td>\n",
              "      <td>0</td>\n",
              "      <td>0</td>\n",
              "      <td>1</td>\n",
              "      <td>1</td>\n",
              "      <td>1</td>\n",
              "      <td>0.427666</td>\n",
              "      <td>0</td>\n",
              "    </tr>\n",
              "    <tr>\n",
              "      <th>4</th>\n",
              "      <td>1</td>\n",
              "      <td>0.600000</td>\n",
              "      <td>0.476471</td>\n",
              "      <td>0.466981</td>\n",
              "      <td>0</td>\n",
              "      <td>1</td>\n",
              "      <td>1</td>\n",
              "      <td>1</td>\n",
              "      <td>1</td>\n",
              "      <td>1</td>\n",
              "      <td>0</td>\n",
              "      <td>0</td>\n",
              "      <td>0</td>\n",
              "      <td>0</td>\n",
              "      <td>1</td>\n",
              "      <td>1</td>\n",
              "      <td>1</td>\n",
              "      <td>0.427666</td>\n",
              "      <td>0</td>\n",
              "    </tr>\n",
              "    <tr>\n",
              "      <th>...</th>\n",
              "      <td>...</td>\n",
              "      <td>...</td>\n",
              "      <td>...</td>\n",
              "      <td>...</td>\n",
              "      <td>...</td>\n",
              "      <td>...</td>\n",
              "      <td>...</td>\n",
              "      <td>...</td>\n",
              "      <td>...</td>\n",
              "      <td>...</td>\n",
              "      <td>...</td>\n",
              "      <td>...</td>\n",
              "      <td>...</td>\n",
              "      <td>...</td>\n",
              "      <td>...</td>\n",
              "      <td>...</td>\n",
              "      <td>...</td>\n",
              "      <td>...</td>\n",
              "      <td>...</td>\n",
              "    </tr>\n",
              "    <tr>\n",
              "      <th>1085</th>\n",
              "      <td>1</td>\n",
              "      <td>0.402622</td>\n",
              "      <td>0.403909</td>\n",
              "      <td>0.466981</td>\n",
              "      <td>1</td>\n",
              "      <td>0</td>\n",
              "      <td>0</td>\n",
              "      <td>0</td>\n",
              "      <td>0</td>\n",
              "      <td>0</td>\n",
              "      <td>0</td>\n",
              "      <td>2</td>\n",
              "      <td>0</td>\n",
              "      <td>0</td>\n",
              "      <td>1</td>\n",
              "      <td>0</td>\n",
              "      <td>0</td>\n",
              "      <td>0.427666</td>\n",
              "      <td>0</td>\n",
              "    </tr>\n",
              "    <tr>\n",
              "      <th>1086</th>\n",
              "      <td>0</td>\n",
              "      <td>0.402622</td>\n",
              "      <td>0.403909</td>\n",
              "      <td>0.466981</td>\n",
              "      <td>1</td>\n",
              "      <td>0</td>\n",
              "      <td>0</td>\n",
              "      <td>1</td>\n",
              "      <td>0</td>\n",
              "      <td>0</td>\n",
              "      <td>0</td>\n",
              "      <td>0</td>\n",
              "      <td>0</td>\n",
              "      <td>0</td>\n",
              "      <td>1</td>\n",
              "      <td>0</td>\n",
              "      <td>0</td>\n",
              "      <td>0.427666</td>\n",
              "      <td>1</td>\n",
              "    </tr>\n",
              "    <tr>\n",
              "      <th>1087</th>\n",
              "      <td>1</td>\n",
              "      <td>0.402622</td>\n",
              "      <td>0.609195</td>\n",
              "      <td>0.578947</td>\n",
              "      <td>1</td>\n",
              "      <td>0</td>\n",
              "      <td>0</td>\n",
              "      <td>0</td>\n",
              "      <td>0</td>\n",
              "      <td>0</td>\n",
              "      <td>0</td>\n",
              "      <td>0</td>\n",
              "      <td>0</td>\n",
              "      <td>0</td>\n",
              "      <td>1</td>\n",
              "      <td>0</td>\n",
              "      <td>0</td>\n",
              "      <td>0.427666</td>\n",
              "      <td>1</td>\n",
              "    </tr>\n",
              "    <tr>\n",
              "      <th>1088</th>\n",
              "      <td>0</td>\n",
              "      <td>0.600000</td>\n",
              "      <td>0.468182</td>\n",
              "      <td>0.454545</td>\n",
              "      <td>1</td>\n",
              "      <td>1</td>\n",
              "      <td>1</td>\n",
              "      <td>1</td>\n",
              "      <td>0</td>\n",
              "      <td>0</td>\n",
              "      <td>0</td>\n",
              "      <td>0</td>\n",
              "      <td>0</td>\n",
              "      <td>0</td>\n",
              "      <td>1</td>\n",
              "      <td>1</td>\n",
              "      <td>0</td>\n",
              "      <td>0.427666</td>\n",
              "      <td>0</td>\n",
              "    </tr>\n",
              "    <tr>\n",
              "      <th>1089</th>\n",
              "      <td>0</td>\n",
              "      <td>0.402622</td>\n",
              "      <td>0.476471</td>\n",
              "      <td>0.466981</td>\n",
              "      <td>0</td>\n",
              "      <td>1</td>\n",
              "      <td>0</td>\n",
              "      <td>0</td>\n",
              "      <td>0</td>\n",
              "      <td>0</td>\n",
              "      <td>0</td>\n",
              "      <td>1</td>\n",
              "      <td>1</td>\n",
              "      <td>0</td>\n",
              "      <td>0</td>\n",
              "      <td>0</td>\n",
              "      <td>0</td>\n",
              "      <td>0.427666</td>\n",
              "      <td>0</td>\n",
              "    </tr>\n",
              "  </tbody>\n",
              "</table>\n",
              "<p>1084 rows × 19 columns</p>\n",
              "</div>"
            ],
            "text/plain": [
              "      Gender  Education qualification  ...  dist_from_house  city_change_True\n",
              "0          0                 0.402622  ...         0.724138                 1\n",
              "1          0                 0.545455  ...         0.427666                 0\n",
              "2          0                 0.545455  ...         0.643830                 1\n",
              "3          0                 0.402622  ...         0.427666                 0\n",
              "4          1                 0.600000  ...         0.427666                 0\n",
              "...      ...                      ...  ...              ...               ...\n",
              "1085       1                 0.402622  ...         0.427666                 0\n",
              "1086       0                 0.402622  ...         0.427666                 1\n",
              "1087       1                 0.402622  ...         0.427666                 1\n",
              "1088       0                 0.600000  ...         0.427666                 0\n",
              "1089       0                 0.402622  ...         0.427666                 0\n",
              "\n",
              "[1084 rows x 19 columns]"
            ]
          },
          "metadata": {
            "tags": []
          },
          "execution_count": 310
        }
      ]
    },
    {
      "cell_type": "code",
      "metadata": {
        "id": "ydEzvtZq53Ty"
      },
      "source": [
        "X = cat_data1.loc[:,cat_data1.columns != 'Current Status of your accounts (Output variable)' ]\n",
        "y = cat_data1['Current Status of your accounts (Output variable)']"
      ],
      "execution_count": null,
      "outputs": []
    },
    {
      "cell_type": "code",
      "metadata": {
        "id": "m-WcHMemn3AQ"
      },
      "source": [
        "X.shape"
      ],
      "execution_count": null,
      "outputs": []
    },
    {
      "cell_type": "code",
      "metadata": {
        "id": "AUaKl1ib7UBV"
      },
      "source": [
        "#split the data \n",
        "\n",
        "from sklearn.model_selection import train_test_split\n",
        "X_train, X_test, y_train, y_test = train_test_split(X, y, test_size=0.30, random_state=1)"
      ],
      "execution_count": null,
      "outputs": []
    },
    {
      "cell_type": "code",
      "metadata": {
        "id": "8k_5eZuL9yXw",
        "colab": {
          "base_uri": "https://localhost:8080/"
        },
        "outputId": "1097bba6-5b3b-418e-d6be-d88571557a14"
      },
      "source": [
        "print('Train', X_train.shape, y_train.shape)\n",
        "print('Test', X_test.shape, y_test.shape)"
      ],
      "execution_count": null,
      "outputs": [
        {
          "output_type": "stream",
          "text": [
            "Train (758, 18) (758,)\n",
            "Test (326, 18) (326,)\n"
          ],
          "name": "stdout"
        }
      ]
    },
    {
      "cell_type": "markdown",
      "metadata": {
        "id": "IomMP83I1vtq"
      },
      "source": [
        "**Chi- square test and mutual information for categorical data**"
      ]
    },
    {
      "cell_type": "code",
      "metadata": {
        "id": "Lg8niNMW1-Xi"
      },
      "source": [
        "#chi square test"
      ],
      "execution_count": null,
      "outputs": []
    },
    {
      "cell_type": "code",
      "metadata": {
        "id": "ZAnejd6iSH14"
      },
      "source": [
        "#f scores and p values\n",
        "from sklearn.feature_selection import chi2\n",
        "f_p_values = chi2(X_train, y_train)\n"
      ],
      "execution_count": null,
      "outputs": []
    },
    {
      "cell_type": "code",
      "metadata": {
        "id": "u-bO6W551-Pz",
        "colab": {
          "base_uri": "https://localhost:8080/"
        },
        "outputId": "438fc533-0db8-441f-b478-7f23307e10a4"
      },
      "source": [
        "f_p_values"
      ],
      "execution_count": null,
      "outputs": [
        {
          "output_type": "execute_result",
          "data": {
            "text/plain": [
              "(array([  9.99493897,   0.23974956,   0.41435574,   0.79116461,\n",
              "          8.86387363,  16.40621851,   3.72354972,  23.97896778,\n",
              "         18.11015376,   1.62684981,   9.73335314,   7.2422058 ,\n",
              "          1.76640218, 124.74610612,   0.24202534,   1.53093822,\n",
              "          1.30651277,   8.65924306]),\n",
              " array([6.75501905e-03, 8.87031502e-01, 8.12875052e-01, 6.73287867e-01,\n",
              "        1.18914358e-02, 2.73800928e-04, 1.55396578e-01, 6.20916651e-06,\n",
              "        1.16796567e-04, 4.43337077e-01, 7.69890959e-03, 2.67531541e-02,\n",
              "        4.13457277e-01, 8.16069670e-28, 8.86022736e-01, 4.65115688e-01,\n",
              "        5.20348561e-01, 1.31725319e-02]))"
            ]
          },
          "metadata": {
            "tags": []
          },
          "execution_count": 315
        }
      ]
    },
    {
      "cell_type": "code",
      "metadata": {
        "id": "kq1v6YB31-JJ",
        "colab": {
          "base_uri": "https://localhost:8080/"
        },
        "outputId": "3d2c4159-051e-48d8-ca00-358e6485e20c"
      },
      "source": [
        "#lower the p value the more important the feature is\n",
        "p_values = pd.Series(f_p_values[1])\n",
        "p_values.index = X_train.columns\n",
        "p_values\n"
      ],
      "execution_count": null,
      "outputs": [
        {
          "output_type": "execute_result",
          "data": {
            "text/plain": [
              "Gender                                                                                         6.755019e-03\n",
              "Education qualification                                                                        8.870315e-01\n",
              "Occupation                                                                                     8.128751e-01\n",
              "Account Type                                                                                   6.732879e-01\n",
              "Having Minimum Balance_Yes                                                                     1.189144e-02\n",
              "Do you have multiple account_Yes                                                               2.738009e-04\n",
              "Do you have an active  loan _Yes                                                               1.553966e-01\n",
              "Do you have Internet Banking or mobile banking with this  account_Yes                          6.209167e-06\n",
              "Do you have active Credit Card with this account_yes                                           1.167966e-04\n",
              "Did any suspicious transaction reported in your account_Yes                                    4.433371e-01\n",
              "Have you ever defaulted any loan payment_Yes                                                   7.698910e-03\n",
              "Are you satisfied with the service provided by bank                                            2.675315e-02\n",
              "Received any service call from bank  in 24 month with reference to  your account. (EDA)_Yes    4.134573e-01\n",
              " Transaction done in 24 month_Yes                                                              8.160697e-28\n",
              "Do you have recent closed Loan _Yes                                                            8.860227e-01\n",
              "Do you have the Demat account associated to this account._Yes                                  4.651157e-01\n",
              "dist_from_house                                                                                5.203486e-01\n",
              "city_change_True                                                                               1.317253e-02\n",
              "dtype: float64"
            ]
          },
          "metadata": {
            "tags": []
          },
          "execution_count": 316
        }
      ]
    },
    {
      "cell_type": "code",
      "metadata": {
        "id": "Ss5w6z7tbVBO"
      },
      "source": [
        "p_values.sort_values(ascending= True, inplace=True)"
      ],
      "execution_count": null,
      "outputs": []
    },
    {
      "cell_type": "code",
      "metadata": {
        "id": "zDvkX8_Gbgih",
        "colab": {
          "base_uri": "https://localhost:8080/"
        },
        "outputId": "0b710c4a-f850-4391-ad28-3110e3ab0092"
      },
      "source": [
        "p_values"
      ],
      "execution_count": null,
      "outputs": [
        {
          "output_type": "execute_result",
          "data": {
            "text/plain": [
              " Transaction done in 24 month_Yes                                                              8.160697e-28\n",
              "Do you have Internet Banking or mobile banking with this  account_Yes                          6.209167e-06\n",
              "Do you have active Credit Card with this account_yes                                           1.167966e-04\n",
              "Do you have multiple account_Yes                                                               2.738009e-04\n",
              "Gender                                                                                         6.755019e-03\n",
              "Have you ever defaulted any loan payment_Yes                                                   7.698910e-03\n",
              "Having Minimum Balance_Yes                                                                     1.189144e-02\n",
              "city_change_True                                                                               1.317253e-02\n",
              "Are you satisfied with the service provided by bank                                            2.675315e-02\n",
              "Do you have an active  loan _Yes                                                               1.553966e-01\n",
              "Received any service call from bank  in 24 month with reference to  your account. (EDA)_Yes    4.134573e-01\n",
              "Did any suspicious transaction reported in your account_Yes                                    4.433371e-01\n",
              "Do you have the Demat account associated to this account._Yes                                  4.651157e-01\n",
              "dist_from_house                                                                                5.203486e-01\n",
              "Account Type                                                                                   6.732879e-01\n",
              "Occupation                                                                                     8.128751e-01\n",
              "Do you have recent closed Loan _Yes                                                            8.860227e-01\n",
              "Education qualification                                                                        8.870315e-01\n",
              "dtype: float64"
            ]
          },
          "metadata": {
            "tags": []
          },
          "execution_count": 318
        }
      ]
    },
    {
      "cell_type": "code",
      "metadata": {
        "id": "sSOITSuAG40P",
        "colab": {
          "base_uri": "https://localhost:8080/",
          "height": 735
        },
        "outputId": "190fbc18-7aae-44b9-f930-ec3d86b93c52"
      },
      "source": [
        "#plot the values\n",
        "p_values.plot.bar()"
      ],
      "execution_count": null,
      "outputs": [
        {
          "output_type": "execute_result",
          "data": {
            "text/plain": [
              "<matplotlib.axes._subplots.AxesSubplot at 0x7f0bd247ba10>"
            ]
          },
          "metadata": {
            "tags": []
          },
          "execution_count": 319
        },
        {
          "output_type": "display_data",
          "data": {
            "image/png": "[encoded data removed]",
            "text/plain": [
              "<Figure size 432x288 with 1 Axes>"
            ]
          },
          "metadata": {
            "tags": [],
            "needs_background": "light"
          }
        }
      ]
    },
    {
      "cell_type": "code",
      "metadata": {
        "id": "XSr5w1acG6Cu"
      },
      "source": [
        "#recursive feature eleminaion\n",
        "\n",
        "from sklearn.feature_selection import RFE"
      ],
      "execution_count": null,
      "outputs": []
    },
    {
      "cell_type": "code",
      "metadata": {
        "id": "q9BcSbJmhFKL"
      },
      "source": [
        "\n",
        "from sklearn.model_selection import cross_val_score\n",
        "from sklearn.model_selection import RepeatedStratifiedKFold\n",
        "from sklearn.feature_selection import RFECV\n",
        "from sklearn.pipeline import Pipeline"
      ],
      "execution_count": null,
      "outputs": []
    },
    {
      "cell_type": "code",
      "metadata": {
        "id": "XzAZ_p9SjanP"
      },
      "source": [
        "#define the method\n",
        "from sklearn.ensemble import GradientBoostingClassifier\n",
        "rfecv = RFE(estimator = GradientBoostingClassifier())\n",
        "model = GradientBoostingClassifier()\n",
        "\n"
      ],
      "execution_count": null,
      "outputs": []
    },
    {
      "cell_type": "code",
      "metadata": {
        "id": "qbP227Tdjavd",
        "colab": {
          "base_uri": "https://localhost:8080/"
        },
        "outputId": "7180bdd9-c908-49f8-b931-c9cb90da6491"
      },
      "source": [
        "pipe = Pipeline([('Feature Selection', rfecv), ('Model', model)])\n",
        "cv = RepeatedStratifiedKFold(n_splits=10, n_repeats=5, random_state=36851234)\n",
        "n_scores = cross_val_score(pipe, X_train, y_train, scoring = 'accuracy', cv=cv, n_jobs=-1)\n",
        "np.mean(n_scores)"
      ],
      "execution_count": null,
      "outputs": [
        {
          "output_type": "execute_result",
          "data": {
            "text/plain": [
              "0.8144982456140352"
            ]
          },
          "metadata": {
            "tags": []
          },
          "execution_count": 323
        }
      ]
    },
    {
      "cell_type": "code",
      "metadata": {
        "id": "b2rcviWyhE9O",
        "colab": {
          "base_uri": "https://localhost:8080/"
        },
        "outputId": "37b0bf01-409d-4884-d91e-330be35d8e44"
      },
      "source": [
        "n_scores"
      ],
      "execution_count": null,
      "outputs": [
        {
          "output_type": "execute_result",
          "data": {
            "text/plain": [
              "array([0.84210526, 0.81578947, 0.84210526, 0.77631579, 0.77631579,\n",
              "       0.75      , 0.85526316, 0.82894737, 0.82666667, 0.8       ,\n",
              "       0.88157895, 0.82894737, 0.76315789, 0.76315789, 0.80263158,\n",
              "       0.86842105, 0.76315789, 0.85526316, 0.84      , 0.78666667,\n",
              "       0.85526316, 0.77631579, 0.86842105, 0.82894737, 0.77631579,\n",
              "       0.82894737, 0.77631579, 0.77631579, 0.82666667, 0.82666667,\n",
              "       0.76315789, 0.82894737, 0.82894737, 0.84210526, 0.81578947,\n",
              "       0.78947368, 0.78947368, 0.77631579, 0.84      , 0.78666667,\n",
              "       0.84210526, 0.88157895, 0.81578947, 0.81578947, 0.82894737,\n",
              "       0.86842105, 0.80263158, 0.84210526, 0.82666667, 0.73333333])"
            ]
          },
          "metadata": {
            "tags": []
          },
          "execution_count": 324
        }
      ]
    },
    {
      "cell_type": "code",
      "metadata": {
        "id": "WycuYETZja31",
        "colab": {
          "base_uri": "https://localhost:8080/"
        },
        "outputId": "9334acba-adca-4365-cf30-881572f11b24"
      },
      "source": [
        "pipe.fit(X_train, y_train)"
      ],
      "execution_count": null,
      "outputs": [
        {
          "output_type": "execute_result",
          "data": {
            "text/plain": [
              "Pipeline(memory=None,\n",
              "         steps=[('Feature Selection',\n",
              "                 RFE(estimator=GradientBoostingClassifier(ccp_alpha=0.0,\n",
              "                                                          criterion='friedman_mse',\n",
              "                                                          init=None,\n",
              "                                                          learning_rate=0.1,\n",
              "                                                          loss='deviance',\n",
              "                                                          max_depth=3,\n",
              "                                                          max_features=None,\n",
              "                                                          max_leaf_nodes=None,\n",
              "                                                          min_impurity_decrease=0.0,\n",
              "                                                          min_impurity_split=None,\n",
              "                                                          min_samples_leaf=1,\n",
              "                                                          min_samples_split=2,\n",
              "                                                          min_weight_fraction_leaf=0.0,\n",
              "                                                          n_estimato...\n",
              "                                            learning_rate=0.1, loss='deviance',\n",
              "                                            max_depth=3, max_features=None,\n",
              "                                            max_leaf_nodes=None,\n",
              "                                            min_impurity_decrease=0.0,\n",
              "                                            min_impurity_split=None,\n",
              "                                            min_samples_leaf=1,\n",
              "                                            min_samples_split=2,\n",
              "                                            min_weight_fraction_leaf=0.0,\n",
              "                                            n_estimators=100,\n",
              "                                            n_iter_no_change=None,\n",
              "                                            presort='deprecated',\n",
              "                                            random_state=None, subsample=1.0,\n",
              "                                            tol=0.0001, validation_fraction=0.1,\n",
              "                                            verbose=0, warm_start=False))],\n",
              "         verbose=False)"
            ]
          },
          "metadata": {
            "tags": []
          },
          "execution_count": 325
        }
      ]
    },
    {
      "cell_type": "code",
      "metadata": {
        "id": "-U0XZsJPJ3CW",
        "colab": {
          "base_uri": "https://localhost:8080/"
        },
        "outputId": "836885f7-ca8b-4860-f3b6-8505be32a55a"
      },
      "source": [
        "print(\"Optimal number of features : %d\" % rfecv.n_features_)"
      ],
      "execution_count": null,
      "outputs": [
        {
          "output_type": "stream",
          "text": [
            "Optimal number of features : 9\n"
          ],
          "name": "stdout"
        }
      ]
    },
    {
      "cell_type": "code",
      "metadata": {
        "id": "9P8XsnVLJ2-h",
        "colab": {
          "base_uri": "https://localhost:8080/",
          "height": 587
        },
        "outputId": "ab10aa40-f396-468f-d93d-c07c44002b57"
      },
      "source": [
        "pd.DataFrame(rfecv.support_,index=X.columns,columns=['Rank'])"
      ],
      "execution_count": null,
      "outputs": [
        {
          "output_type": "execute_result",
          "data": {
            "text/html": [
              "<div>\n",
              "<style scoped>\n",
              "    .dataframe tbody tr th:only-of-type {\n",
              "        vertical-align: middle;\n",
              "    }\n",
              "\n",
              "    .dataframe tbody tr th {\n",
              "        vertical-align: top;\n",
              "    }\n",
              "\n",
              "    .dataframe thead th {\n",
              "        text-align: right;\n",
              "    }\n",
              "</style>\n",
              "<table border=\"1\" class=\"dataframe\">\n",
              "  <thead>\n",
              "    <tr style=\"text-align: right;\">\n",
              "      <th></th>\n",
              "      <th>Rank</th>\n",
              "    </tr>\n",
              "  </thead>\n",
              "  <tbody>\n",
              "    <tr>\n",
              "      <th>Gender</th>\n",
              "      <td>False</td>\n",
              "    </tr>\n",
              "    <tr>\n",
              "      <th>Education qualification</th>\n",
              "      <td>True</td>\n",
              "    </tr>\n",
              "    <tr>\n",
              "      <th>Occupation</th>\n",
              "      <td>True</td>\n",
              "    </tr>\n",
              "    <tr>\n",
              "      <th>Account Type</th>\n",
              "      <td>True</td>\n",
              "    </tr>\n",
              "    <tr>\n",
              "      <th>Having Minimum Balance_Yes</th>\n",
              "      <td>True</td>\n",
              "    </tr>\n",
              "    <tr>\n",
              "      <th>Do you have multiple account_Yes</th>\n",
              "      <td>True</td>\n",
              "    </tr>\n",
              "    <tr>\n",
              "      <th>Do you have an active  loan _Yes</th>\n",
              "      <td>False</td>\n",
              "    </tr>\n",
              "    <tr>\n",
              "      <th>Do you have Internet Banking or mobile banking with this  account_Yes</th>\n",
              "      <td>False</td>\n",
              "    </tr>\n",
              "    <tr>\n",
              "      <th>Do you have active Credit Card with this account_yes</th>\n",
              "      <td>False</td>\n",
              "    </tr>\n",
              "    <tr>\n",
              "      <th>Did any suspicious transaction reported in your account_Yes</th>\n",
              "      <td>False</td>\n",
              "    </tr>\n",
              "    <tr>\n",
              "      <th>Have you ever defaulted any loan payment_Yes</th>\n",
              "      <td>False</td>\n",
              "    </tr>\n",
              "    <tr>\n",
              "      <th>Are you satisfied with the service provided by bank</th>\n",
              "      <td>True</td>\n",
              "    </tr>\n",
              "    <tr>\n",
              "      <th>Received any service call from bank  in 24 month with reference to  your account. (EDA)_Yes</th>\n",
              "      <td>False</td>\n",
              "    </tr>\n",
              "    <tr>\n",
              "      <th>Transaction done in 24 month_Yes</th>\n",
              "      <td>True</td>\n",
              "    </tr>\n",
              "    <tr>\n",
              "      <th>Do you have recent closed Loan _Yes</th>\n",
              "      <td>False</td>\n",
              "    </tr>\n",
              "    <tr>\n",
              "      <th>Do you have the Demat account associated to this account._Yes</th>\n",
              "      <td>False</td>\n",
              "    </tr>\n",
              "    <tr>\n",
              "      <th>dist_from_house</th>\n",
              "      <td>True</td>\n",
              "    </tr>\n",
              "    <tr>\n",
              "      <th>city_change_True</th>\n",
              "      <td>True</td>\n",
              "    </tr>\n",
              "  </tbody>\n",
              "</table>\n",
              "</div>"
            ],
            "text/plain": [
              "                                                     Rank\n",
              "Gender                                              False\n",
              "Education qualification                              True\n",
              "Occupation                                           True\n",
              "Account Type                                         True\n",
              "Having Minimum Balance_Yes                           True\n",
              "Do you have multiple account_Yes                     True\n",
              "Do you have an active  loan _Yes                    False\n",
              "Do you have Internet Banking or mobile banking ...  False\n",
              "Do you have active Credit Card with this accoun...  False\n",
              "Did any suspicious transaction reported in your...  False\n",
              "Have you ever defaulted any loan payment_Yes        False\n",
              "Are you satisfied with the service provided by ...   True\n",
              "Received any service call from bank  in 24 mont...  False\n",
              " Transaction done in 24 month_Yes                    True\n",
              "Do you have recent closed Loan _Yes                 False\n",
              "Do you have the Demat account associated to thi...  False\n",
              "dist_from_house                                      True\n",
              "city_change_True                                     True"
            ]
          },
          "metadata": {
            "tags": []
          },
          "execution_count": 327
        }
      ]
    },
    {
      "cell_type": "code",
      "metadata": {
        "id": "ou-yC_8GJ24A",
        "colab": {
          "base_uri": "https://localhost:8080/",
          "height": 587
        },
        "outputId": "5ba54a68-bad3-4751-9683-779287dd767c"
      },
      "source": [
        "rf_df = pd.DataFrame(rfecv.ranking_,index=X.columns,columns=['Rank']).sort_values(by='Rank',ascending=True)\n",
        "rf_df.head(20)"
      ],
      "execution_count": null,
      "outputs": [
        {
          "output_type": "execute_result",
          "data": {
            "text/html": [
              "<div>\n",
              "<style scoped>\n",
              "    .dataframe tbody tr th:only-of-type {\n",
              "        vertical-align: middle;\n",
              "    }\n",
              "\n",
              "    .dataframe tbody tr th {\n",
              "        vertical-align: top;\n",
              "    }\n",
              "\n",
              "    .dataframe thead th {\n",
              "        text-align: right;\n",
              "    }\n",
              "</style>\n",
              "<table border=\"1\" class=\"dataframe\">\n",
              "  <thead>\n",
              "    <tr style=\"text-align: right;\">\n",
              "      <th></th>\n",
              "      <th>Rank</th>\n",
              "    </tr>\n",
              "  </thead>\n",
              "  <tbody>\n",
              "    <tr>\n",
              "      <th>city_change_True</th>\n",
              "      <td>1</td>\n",
              "    </tr>\n",
              "    <tr>\n",
              "      <th>Education qualification</th>\n",
              "      <td>1</td>\n",
              "    </tr>\n",
              "    <tr>\n",
              "      <th>Occupation</th>\n",
              "      <td>1</td>\n",
              "    </tr>\n",
              "    <tr>\n",
              "      <th>Account Type</th>\n",
              "      <td>1</td>\n",
              "    </tr>\n",
              "    <tr>\n",
              "      <th>Having Minimum Balance_Yes</th>\n",
              "      <td>1</td>\n",
              "    </tr>\n",
              "    <tr>\n",
              "      <th>Do you have multiple account_Yes</th>\n",
              "      <td>1</td>\n",
              "    </tr>\n",
              "    <tr>\n",
              "      <th>Transaction done in 24 month_Yes</th>\n",
              "      <td>1</td>\n",
              "    </tr>\n",
              "    <tr>\n",
              "      <th>Are you satisfied with the service provided by bank</th>\n",
              "      <td>1</td>\n",
              "    </tr>\n",
              "    <tr>\n",
              "      <th>dist_from_house</th>\n",
              "      <td>1</td>\n",
              "    </tr>\n",
              "    <tr>\n",
              "      <th>Have you ever defaulted any loan payment_Yes</th>\n",
              "      <td>2</td>\n",
              "    </tr>\n",
              "    <tr>\n",
              "      <th>Gender</th>\n",
              "      <td>3</td>\n",
              "    </tr>\n",
              "    <tr>\n",
              "      <th>Do you have active Credit Card with this account_yes</th>\n",
              "      <td>4</td>\n",
              "    </tr>\n",
              "    <tr>\n",
              "      <th>Do you have the Demat account associated to this account._Yes</th>\n",
              "      <td>5</td>\n",
              "    </tr>\n",
              "    <tr>\n",
              "      <th>Do you have Internet Banking or mobile banking with this  account_Yes</th>\n",
              "      <td>6</td>\n",
              "    </tr>\n",
              "    <tr>\n",
              "      <th>Did any suspicious transaction reported in your account_Yes</th>\n",
              "      <td>7</td>\n",
              "    </tr>\n",
              "    <tr>\n",
              "      <th>Do you have recent closed Loan _Yes</th>\n",
              "      <td>8</td>\n",
              "    </tr>\n",
              "    <tr>\n",
              "      <th>Received any service call from bank  in 24 month with reference to  your account. (EDA)_Yes</th>\n",
              "      <td>9</td>\n",
              "    </tr>\n",
              "    <tr>\n",
              "      <th>Do you have an active  loan _Yes</th>\n",
              "      <td>10</td>\n",
              "    </tr>\n",
              "  </tbody>\n",
              "</table>\n",
              "</div>"
            ],
            "text/plain": [
              "                                                    Rank\n",
              "city_change_True                                       1\n",
              "Education qualification                                1\n",
              "Occupation                                             1\n",
              "Account Type                                           1\n",
              "Having Minimum Balance_Yes                             1\n",
              "Do you have multiple account_Yes                       1\n",
              " Transaction done in 24 month_Yes                      1\n",
              "Are you satisfied with the service provided by ...     1\n",
              "dist_from_house                                        1\n",
              "Have you ever defaulted any loan payment_Yes           2\n",
              "Gender                                                 3\n",
              "Do you have active Credit Card with this accoun...     4\n",
              "Do you have the Demat account associated to thi...     5\n",
              "Do you have Internet Banking or mobile banking ...     6\n",
              "Did any suspicious transaction reported in your...     7\n",
              "Do you have recent closed Loan _Yes                    8\n",
              "Received any service call from bank  in 24 mont...     9\n",
              "Do you have an active  loan _Yes                      10"
            ]
          },
          "metadata": {
            "tags": []
          },
          "execution_count": 328
        }
      ]
    },
    {
      "cell_type": "code",
      "metadata": {
        "id": "bhvqoApeCqX7"
      },
      "source": [
        ""
      ],
      "execution_count": null,
      "outputs": []
    },
    {
      "cell_type": "code",
      "metadata": {
        "id": "bkxn7PUtqLzh"
      },
      "source": [
        "#we will discard categorical features that are irrelevant\n",
        "cat_feat = cat_data1.drop(cat_data1.columns[[9,13,15,16,18]], axis = 'columns')\n"
      ],
      "execution_count": null,
      "outputs": []
    },
    {
      "cell_type": "code",
      "metadata": {
        "colab": {
          "base_uri": "https://localhost:8080/",
          "height": 384
        },
        "id": "o-6eu6crCshc",
        "outputId": "3552113f-cf40-4efb-8a70-e8077f009e9a"
      },
      "source": [
        "cat_feat"
      ],
      "execution_count": null,
      "outputs": [
        {
          "output_type": "execute_result",
          "data": {
            "text/html": [
              "<div>\n",
              "<style scoped>\n",
              "    .dataframe tbody tr th:only-of-type {\n",
              "        vertical-align: middle;\n",
              "    }\n",
              "\n",
              "    .dataframe tbody tr th {\n",
              "        vertical-align: top;\n",
              "    }\n",
              "\n",
              "    .dataframe thead th {\n",
              "        text-align: right;\n",
              "    }\n",
              "</style>\n",
              "<table border=\"1\" class=\"dataframe\">\n",
              "  <thead>\n",
              "    <tr style=\"text-align: right;\">\n",
              "      <th></th>\n",
              "      <th>Gender</th>\n",
              "      <th>Education qualification</th>\n",
              "      <th>Occupation</th>\n",
              "      <th>Account Type</th>\n",
              "      <th>Having Minimum Balance_Yes</th>\n",
              "      <th>Do you have multiple account_Yes</th>\n",
              "      <th>Do you have an active  loan _Yes</th>\n",
              "      <th>Do you have Internet Banking or mobile banking with this  account_Yes</th>\n",
              "      <th>Do you have active Credit Card with this account_yes</th>\n",
              "      <th>Did any suspicious transaction reported in your account_Yes</th>\n",
              "      <th>Have you ever defaulted any loan payment_Yes</th>\n",
              "      <th>Are you satisfied with the service provided by bank</th>\n",
              "      <th>Current Status of your accounts (Output variable)</th>\n",
              "      <th>Received any service call from bank  in 24 month with reference to  your account. (EDA)_Yes</th>\n",
              "      <th>Transaction done in 24 month_Yes</th>\n",
              "      <th>Do you have recent closed Loan _Yes</th>\n",
              "      <th>Do you have the Demat account associated to this account._Yes</th>\n",
              "      <th>dist_from_house</th>\n",
              "      <th>city_change_True</th>\n",
              "    </tr>\n",
              "  </thead>\n",
              "  <tbody>\n",
              "    <tr>\n",
              "      <th>0</th>\n",
              "      <td>0</td>\n",
              "      <td>0.402622</td>\n",
              "      <td>0.468182</td>\n",
              "      <td>0.466981</td>\n",
              "      <td>1</td>\n",
              "      <td>1</td>\n",
              "      <td>0</td>\n",
              "      <td>1</td>\n",
              "      <td>0</td>\n",
              "      <td>1</td>\n",
              "      <td>0</td>\n",
              "      <td>1</td>\n",
              "      <td>0</td>\n",
              "      <td>0</td>\n",
              "      <td>1</td>\n",
              "      <td>0</td>\n",
              "      <td>0</td>\n",
              "      <td>0.724138</td>\n",
              "      <td>1</td>\n",
              "    </tr>\n",
              "    <tr>\n",
              "      <th>1</th>\n",
              "      <td>0</td>\n",
              "      <td>0.545455</td>\n",
              "      <td>0.468182</td>\n",
              "      <td>0.466981</td>\n",
              "      <td>1</td>\n",
              "      <td>1</td>\n",
              "      <td>1</td>\n",
              "      <td>1</td>\n",
              "      <td>0</td>\n",
              "      <td>0</td>\n",
              "      <td>0</td>\n",
              "      <td>0</td>\n",
              "      <td>0</td>\n",
              "      <td>1</td>\n",
              "      <td>1</td>\n",
              "      <td>0</td>\n",
              "      <td>0</td>\n",
              "      <td>0.427666</td>\n",
              "      <td>0</td>\n",
              "    </tr>\n",
              "    <tr>\n",
              "      <th>2</th>\n",
              "      <td>0</td>\n",
              "      <td>0.545455</td>\n",
              "      <td>0.468182</td>\n",
              "      <td>0.443439</td>\n",
              "      <td>1</td>\n",
              "      <td>1</td>\n",
              "      <td>1</td>\n",
              "      <td>0</td>\n",
              "      <td>0</td>\n",
              "      <td>0</td>\n",
              "      <td>1</td>\n",
              "      <td>1</td>\n",
              "      <td>1</td>\n",
              "      <td>0</td>\n",
              "      <td>0</td>\n",
              "      <td>0</td>\n",
              "      <td>0</td>\n",
              "      <td>0.643830</td>\n",
              "      <td>1</td>\n",
              "    </tr>\n",
              "    <tr>\n",
              "      <th>3</th>\n",
              "      <td>0</td>\n",
              "      <td>0.402622</td>\n",
              "      <td>0.403909</td>\n",
              "      <td>0.466981</td>\n",
              "      <td>1</td>\n",
              "      <td>1</td>\n",
              "      <td>0</td>\n",
              "      <td>1</td>\n",
              "      <td>1</td>\n",
              "      <td>0</td>\n",
              "      <td>0</td>\n",
              "      <td>0</td>\n",
              "      <td>0</td>\n",
              "      <td>0</td>\n",
              "      <td>1</td>\n",
              "      <td>1</td>\n",
              "      <td>1</td>\n",
              "      <td>0.427666</td>\n",
              "      <td>0</td>\n",
              "    </tr>\n",
              "    <tr>\n",
              "      <th>4</th>\n",
              "      <td>1</td>\n",
              "      <td>0.600000</td>\n",
              "      <td>0.476471</td>\n",
              "      <td>0.466981</td>\n",
              "      <td>0</td>\n",
              "      <td>1</td>\n",
              "      <td>1</td>\n",
              "      <td>1</td>\n",
              "      <td>1</td>\n",
              "      <td>1</td>\n",
              "      <td>0</td>\n",
              "      <td>0</td>\n",
              "      <td>0</td>\n",
              "      <td>0</td>\n",
              "      <td>1</td>\n",
              "      <td>1</td>\n",
              "      <td>1</td>\n",
              "      <td>0.427666</td>\n",
              "      <td>0</td>\n",
              "    </tr>\n",
              "  </tbody>\n",
              "</table>\n",
              "</div>"
            ],
            "text/plain": [
              "   Gender  Education qualification  ...  dist_from_house  city_change_True\n",
              "0       0                 0.402622  ...         0.724138                 1\n",
              "1       0                 0.545455  ...         0.427666                 0\n",
              "2       0                 0.545455  ...         0.643830                 1\n",
              "3       0                 0.402622  ...         0.427666                 0\n",
              "4       1                 0.600000  ...         0.427666                 0\n",
              "\n",
              "[5 rows x 19 columns]"
            ]
          },
          "metadata": {
            "tags": []
          },
          "execution_count": 329
        }
      ]
    },
    {
      "cell_type": "code",
      "metadata": {
        "id": "hm9u5t7LvZ6W",
        "colab": {
          "base_uri": "https://localhost:8080/"
        },
        "outputId": "1be41672-55aa-40d7-f6e3-aa988c6dfd2c"
      },
      "source": [
        "cat_feat.shape"
      ],
      "execution_count": null,
      "outputs": [
        {
          "output_type": "execute_result",
          "data": {
            "text/plain": [
              "(1084, 14)"
            ]
          },
          "metadata": {
            "tags": []
          },
          "execution_count": 111
        }
      ]
    },
    {
      "cell_type": "code",
      "metadata": {
        "id": "lCpU96T_WwzK"
      },
      "source": [
        "cat_feat.rename(columns={'Gender_Male':'Gender' ,'Education qualification':'Education', 'Having Minimum Balance_Yes': 'Having Minimum Balance',\n",
        "                         'Do you have multiple account_Yes' : 'Have multiple accounts','Do you have an active  loan _Yes': 'Have an active loan',\n",
        "                         'Do you have Internet Banking or mobile banking with this  account_Yes':'Use internet or mobile banking','Do you have active Credit Card with this account_yes':'Have an credit card',\n",
        "                         'Have you ever defaulted any loan payment_Yes': 'Ever defaulted on a loan','Are you satisfied with the service provided by bank_Yes':'Satisfied with bank service',\n",
        "                         ' Transaction done in 24 month_Yes':'Any transactions in past 24 months', 'dist_from_house':'Bank distance from residence'}, inplace=True)"
      ],
      "execution_count": null,
      "outputs": []
    },
    {
      "cell_type": "code",
      "metadata": {
        "colab": {
          "base_uri": "https://localhost:8080/",
          "height": 456
        },
        "id": "DigM7W63a8ij",
        "outputId": "02b237db-7067-43b9-86df-098a2f56af7c"
      },
      "source": [
        "cat_feat"
      ],
      "execution_count": null,
      "outputs": [
        {
          "output_type": "execute_result",
          "data": {
            "text/html": [
              "<div>\n",
              "<style scoped>\n",
              "    .dataframe tbody tr th:only-of-type {\n",
              "        vertical-align: middle;\n",
              "    }\n",
              "\n",
              "    .dataframe tbody tr th {\n",
              "        vertical-align: top;\n",
              "    }\n",
              "\n",
              "    .dataframe thead th {\n",
              "        text-align: right;\n",
              "    }\n",
              "</style>\n",
              "<table border=\"1\" class=\"dataframe\">\n",
              "  <thead>\n",
              "    <tr style=\"text-align: right;\">\n",
              "      <th></th>\n",
              "      <th>Gender</th>\n",
              "      <th>Education</th>\n",
              "      <th>Occupation</th>\n",
              "      <th>Account Type</th>\n",
              "      <th>Having Minimum Balance</th>\n",
              "      <th>Have multiple accounts</th>\n",
              "      <th>Have an active loan</th>\n",
              "      <th>Use internet or mobile banking</th>\n",
              "      <th>Have an credit card</th>\n",
              "      <th>Ever defaulted on a loan</th>\n",
              "      <th>Are you satisfied with the service provided by bank</th>\n",
              "      <th>Current Status of your accounts (Output variable)</th>\n",
              "      <th>Any transactions in past 24 months</th>\n",
              "      <th>Bank distance from residence</th>\n",
              "    </tr>\n",
              "  </thead>\n",
              "  <tbody>\n",
              "    <tr>\n",
              "      <th>0</th>\n",
              "      <td>0</td>\n",
              "      <td>0.402622</td>\n",
              "      <td>0.468182</td>\n",
              "      <td>0.466981</td>\n",
              "      <td>1</td>\n",
              "      <td>1</td>\n",
              "      <td>0</td>\n",
              "      <td>1</td>\n",
              "      <td>0</td>\n",
              "      <td>0</td>\n",
              "      <td>1</td>\n",
              "      <td>0</td>\n",
              "      <td>1</td>\n",
              "      <td>0.724138</td>\n",
              "    </tr>\n",
              "    <tr>\n",
              "      <th>1</th>\n",
              "      <td>0</td>\n",
              "      <td>0.545455</td>\n",
              "      <td>0.468182</td>\n",
              "      <td>0.466981</td>\n",
              "      <td>1</td>\n",
              "      <td>1</td>\n",
              "      <td>1</td>\n",
              "      <td>1</td>\n",
              "      <td>0</td>\n",
              "      <td>0</td>\n",
              "      <td>0</td>\n",
              "      <td>0</td>\n",
              "      <td>1</td>\n",
              "      <td>0.427666</td>\n",
              "    </tr>\n",
              "    <tr>\n",
              "      <th>2</th>\n",
              "      <td>0</td>\n",
              "      <td>0.545455</td>\n",
              "      <td>0.468182</td>\n",
              "      <td>0.443439</td>\n",
              "      <td>1</td>\n",
              "      <td>1</td>\n",
              "      <td>1</td>\n",
              "      <td>0</td>\n",
              "      <td>0</td>\n",
              "      <td>1</td>\n",
              "      <td>1</td>\n",
              "      <td>1</td>\n",
              "      <td>0</td>\n",
              "      <td>0.643830</td>\n",
              "    </tr>\n",
              "    <tr>\n",
              "      <th>3</th>\n",
              "      <td>0</td>\n",
              "      <td>0.402622</td>\n",
              "      <td>0.403909</td>\n",
              "      <td>0.466981</td>\n",
              "      <td>1</td>\n",
              "      <td>1</td>\n",
              "      <td>0</td>\n",
              "      <td>1</td>\n",
              "      <td>1</td>\n",
              "      <td>0</td>\n",
              "      <td>0</td>\n",
              "      <td>0</td>\n",
              "      <td>1</td>\n",
              "      <td>0.427666</td>\n",
              "    </tr>\n",
              "    <tr>\n",
              "      <th>4</th>\n",
              "      <td>1</td>\n",
              "      <td>0.600000</td>\n",
              "      <td>0.476471</td>\n",
              "      <td>0.466981</td>\n",
              "      <td>0</td>\n",
              "      <td>1</td>\n",
              "      <td>1</td>\n",
              "      <td>1</td>\n",
              "      <td>1</td>\n",
              "      <td>0</td>\n",
              "      <td>0</td>\n",
              "      <td>0</td>\n",
              "      <td>1</td>\n",
              "      <td>0.427666</td>\n",
              "    </tr>\n",
              "    <tr>\n",
              "      <th>...</th>\n",
              "      <td>...</td>\n",
              "      <td>...</td>\n",
              "      <td>...</td>\n",
              "      <td>...</td>\n",
              "      <td>...</td>\n",
              "      <td>...</td>\n",
              "      <td>...</td>\n",
              "      <td>...</td>\n",
              "      <td>...</td>\n",
              "      <td>...</td>\n",
              "      <td>...</td>\n",
              "      <td>...</td>\n",
              "      <td>...</td>\n",
              "      <td>...</td>\n",
              "    </tr>\n",
              "    <tr>\n",
              "      <th>1085</th>\n",
              "      <td>1</td>\n",
              "      <td>0.402622</td>\n",
              "      <td>0.403909</td>\n",
              "      <td>0.466981</td>\n",
              "      <td>1</td>\n",
              "      <td>0</td>\n",
              "      <td>0</td>\n",
              "      <td>0</td>\n",
              "      <td>0</td>\n",
              "      <td>0</td>\n",
              "      <td>2</td>\n",
              "      <td>0</td>\n",
              "      <td>1</td>\n",
              "      <td>0.427666</td>\n",
              "    </tr>\n",
              "    <tr>\n",
              "      <th>1086</th>\n",
              "      <td>0</td>\n",
              "      <td>0.402622</td>\n",
              "      <td>0.403909</td>\n",
              "      <td>0.466981</td>\n",
              "      <td>1</td>\n",
              "      <td>0</td>\n",
              "      <td>0</td>\n",
              "      <td>1</td>\n",
              "      <td>0</td>\n",
              "      <td>0</td>\n",
              "      <td>0</td>\n",
              "      <td>0</td>\n",
              "      <td>1</td>\n",
              "      <td>0.427666</td>\n",
              "    </tr>\n",
              "    <tr>\n",
              "      <th>1087</th>\n",
              "      <td>1</td>\n",
              "      <td>0.402622</td>\n",
              "      <td>0.609195</td>\n",
              "      <td>0.578947</td>\n",
              "      <td>1</td>\n",
              "      <td>0</td>\n",
              "      <td>0</td>\n",
              "      <td>0</td>\n",
              "      <td>0</td>\n",
              "      <td>0</td>\n",
              "      <td>0</td>\n",
              "      <td>0</td>\n",
              "      <td>1</td>\n",
              "      <td>0.427666</td>\n",
              "    </tr>\n",
              "    <tr>\n",
              "      <th>1088</th>\n",
              "      <td>0</td>\n",
              "      <td>0.600000</td>\n",
              "      <td>0.468182</td>\n",
              "      <td>0.454545</td>\n",
              "      <td>1</td>\n",
              "      <td>1</td>\n",
              "      <td>1</td>\n",
              "      <td>1</td>\n",
              "      <td>0</td>\n",
              "      <td>0</td>\n",
              "      <td>0</td>\n",
              "      <td>0</td>\n",
              "      <td>1</td>\n",
              "      <td>0.427666</td>\n",
              "    </tr>\n",
              "    <tr>\n",
              "      <th>1089</th>\n",
              "      <td>0</td>\n",
              "      <td>0.402622</td>\n",
              "      <td>0.476471</td>\n",
              "      <td>0.466981</td>\n",
              "      <td>0</td>\n",
              "      <td>1</td>\n",
              "      <td>0</td>\n",
              "      <td>0</td>\n",
              "      <td>0</td>\n",
              "      <td>0</td>\n",
              "      <td>1</td>\n",
              "      <td>1</td>\n",
              "      <td>0</td>\n",
              "      <td>0.427666</td>\n",
              "    </tr>\n",
              "  </tbody>\n",
              "</table>\n",
              "<p>1084 rows × 14 columns</p>\n",
              "</div>"
            ],
            "text/plain": [
              "      Gender  ...  Bank distance from residence\n",
              "0          0  ...                      0.724138\n",
              "1          0  ...                      0.427666\n",
              "2          0  ...                      0.643830\n",
              "3          0  ...                      0.427666\n",
              "4          1  ...                      0.427666\n",
              "...      ...  ...                           ...\n",
              "1085       1  ...                      0.427666\n",
              "1086       0  ...                      0.427666\n",
              "1087       1  ...                      0.427666\n",
              "1088       0  ...                      0.427666\n",
              "1089       0  ...                      0.427666\n",
              "\n",
              "[1084 rows x 14 columns]"
            ]
          },
          "metadata": {
            "tags": []
          },
          "execution_count": 332
        }
      ]
    },
    {
      "cell_type": "markdown",
      "metadata": {
        "id": "9QH4lXvzOkxW"
      },
      "source": [
        "**Continuous data**"
      ]
    },
    {
      "cell_type": "code",
      "metadata": {
        "id": "ohleTtfkJ2x2",
        "colab": {
          "base_uri": "https://localhost:8080/",
          "height": 406
        },
        "outputId": "b5126ecc-3762-4a5e-feca-6007b354687f"
      },
      "source": [
        "numeric_data"
      ],
      "execution_count": null,
      "outputs": [
        {
          "output_type": "execute_result",
          "data": {
            "text/html": [
              "<div>\n",
              "<style scoped>\n",
              "    .dataframe tbody tr th:only-of-type {\n",
              "        vertical-align: middle;\n",
              "    }\n",
              "\n",
              "    .dataframe tbody tr th {\n",
              "        vertical-align: top;\n",
              "    }\n",
              "\n",
              "    .dataframe thead th {\n",
              "        text-align: right;\n",
              "    }\n",
              "</style>\n",
              "<table border=\"1\" class=\"dataframe\">\n",
              "  <thead>\n",
              "    <tr style=\"text-align: right;\">\n",
              "      <th></th>\n",
              "      <th>Age</th>\n",
              "      <th>Opening Balance</th>\n",
              "      <th>Current Balance</th>\n",
              "      <th>Quarterly Activity Rate(no of transaction in 3 month)</th>\n",
              "      <th>no_of_months_last_transaction</th>\n",
              "    </tr>\n",
              "  </thead>\n",
              "  <tbody>\n",
              "    <tr>\n",
              "      <th>0</th>\n",
              "      <td>23</td>\n",
              "      <td>2000</td>\n",
              "      <td>2000</td>\n",
              "      <td>2</td>\n",
              "      <td>3</td>\n",
              "    </tr>\n",
              "    <tr>\n",
              "      <th>1</th>\n",
              "      <td>40</td>\n",
              "      <td>10000</td>\n",
              "      <td>15000</td>\n",
              "      <td>30</td>\n",
              "      <td>2</td>\n",
              "    </tr>\n",
              "    <tr>\n",
              "      <th>2</th>\n",
              "      <td>32</td>\n",
              "      <td>500</td>\n",
              "      <td>623</td>\n",
              "      <td>7</td>\n",
              "      <td>47</td>\n",
              "    </tr>\n",
              "    <tr>\n",
              "      <th>3</th>\n",
              "      <td>23</td>\n",
              "      <td>0</td>\n",
              "      <td>1000</td>\n",
              "      <td>5</td>\n",
              "      <td>3</td>\n",
              "    </tr>\n",
              "    <tr>\n",
              "      <th>4</th>\n",
              "      <td>40</td>\n",
              "      <td>3000</td>\n",
              "      <td>1000</td>\n",
              "      <td>5</td>\n",
              "      <td>10</td>\n",
              "    </tr>\n",
              "    <tr>\n",
              "      <th>...</th>\n",
              "      <td>...</td>\n",
              "      <td>...</td>\n",
              "      <td>...</td>\n",
              "      <td>...</td>\n",
              "      <td>...</td>\n",
              "    </tr>\n",
              "    <tr>\n",
              "      <th>1085</th>\n",
              "      <td>25</td>\n",
              "      <td>500</td>\n",
              "      <td>30000</td>\n",
              "      <td>40</td>\n",
              "      <td>1</td>\n",
              "    </tr>\n",
              "    <tr>\n",
              "      <th>1086</th>\n",
              "      <td>23</td>\n",
              "      <td>500</td>\n",
              "      <td>1000</td>\n",
              "      <td>60</td>\n",
              "      <td>1</td>\n",
              "    </tr>\n",
              "    <tr>\n",
              "      <th>1087</th>\n",
              "      <td>65</td>\n",
              "      <td>1000</td>\n",
              "      <td>400000</td>\n",
              "      <td>9</td>\n",
              "      <td>6</td>\n",
              "    </tr>\n",
              "    <tr>\n",
              "      <th>1088</th>\n",
              "      <td>66</td>\n",
              "      <td>0</td>\n",
              "      <td>9000</td>\n",
              "      <td>40</td>\n",
              "      <td>1</td>\n",
              "    </tr>\n",
              "    <tr>\n",
              "      <th>1089</th>\n",
              "      <td>30</td>\n",
              "      <td>10000</td>\n",
              "      <td>0</td>\n",
              "      <td>5</td>\n",
              "      <td>1</td>\n",
              "    </tr>\n",
              "  </tbody>\n",
              "</table>\n",
              "<p>1084 rows × 5 columns</p>\n",
              "</div>"
            ],
            "text/plain": [
              "      Age  ...  no_of_months_last_transaction\n",
              "0      23  ...                              3\n",
              "1      40  ...                              2\n",
              "2      32  ...                             47\n",
              "3      23  ...                              3\n",
              "4      40  ...                             10\n",
              "...   ...  ...                            ...\n",
              "1085   25  ...                              1\n",
              "1086   23  ...                              1\n",
              "1087   65  ...                              6\n",
              "1088   66  ...                              1\n",
              "1089   30  ...                              1\n",
              "\n",
              "[1084 rows x 5 columns]"
            ]
          },
          "metadata": {
            "tags": []
          },
          "execution_count": 333
        }
      ]
    },
    {
      "cell_type": "code",
      "metadata": {
        "colab": {
          "base_uri": "https://localhost:8080/"
        },
        "id": "LgcI8YjObHwP",
        "outputId": "131d84a5-39e3-4178-d846-11b6635a36eb"
      },
      "source": [
        "numeric_data.rename(columns={'Quarterly Activity Rate(no of transaction in 3 month)': 'Quarterly activity rate','no_of_months_last_transaction':'Months since last transaction'},\n",
        "                    inplace = True)"
      ],
      "execution_count": null,
      "outputs": [
        {
          "output_type": "stream",
          "text": [
            "/usr/local/lib/python3.7/dist-packages/pandas/core/frame.py:4308: SettingWithCopyWarning: \n",
            "A value is trying to be set on a copy of a slice from a DataFrame\n",
            "\n",
            "See the caveats in the documentation: https://pandas.pydata.org/pandas-docs/stable/user_guide/indexing.html#returning-a-view-versus-a-copy\n",
            "  errors=errors,\n"
          ],
          "name": "stderr"
        }
      ]
    },
    {
      "cell_type": "code",
      "metadata": {
        "id": "7uutDL24NJpn"
      },
      "source": [
        "#add target column from 'cat_data1' to this dataframe\n",
        "t_col = cat_data1['Current Status of your accounts (Output variable)']\n",
        "numeric_data = numeric_data.join(t_col)"
      ],
      "execution_count": null,
      "outputs": []
    },
    {
      "cell_type": "code",
      "metadata": {
        "id": "FHRrg85TNJl0",
        "colab": {
          "base_uri": "https://localhost:8080/",
          "height": 406
        },
        "outputId": "59123b5f-86c6-4e61-f201-0b54c04b288b"
      },
      "source": [
        "numeric_data"
      ],
      "execution_count": null,
      "outputs": [
        {
          "output_type": "execute_result",
          "data": {
            "text/html": [
              "<div>\n",
              "<style scoped>\n",
              "    .dataframe tbody tr th:only-of-type {\n",
              "        vertical-align: middle;\n",
              "    }\n",
              "\n",
              "    .dataframe tbody tr th {\n",
              "        vertical-align: top;\n",
              "    }\n",
              "\n",
              "    .dataframe thead th {\n",
              "        text-align: right;\n",
              "    }\n",
              "</style>\n",
              "<table border=\"1\" class=\"dataframe\">\n",
              "  <thead>\n",
              "    <tr style=\"text-align: right;\">\n",
              "      <th></th>\n",
              "      <th>Age</th>\n",
              "      <th>Opening Balance</th>\n",
              "      <th>Current Balance</th>\n",
              "      <th>Quarterly activity rate</th>\n",
              "      <th>Months since last transaction</th>\n",
              "      <th>Current Status of your accounts (Output variable)</th>\n",
              "    </tr>\n",
              "  </thead>\n",
              "  <tbody>\n",
              "    <tr>\n",
              "      <th>0</th>\n",
              "      <td>23</td>\n",
              "      <td>2000</td>\n",
              "      <td>2000</td>\n",
              "      <td>2</td>\n",
              "      <td>3</td>\n",
              "      <td>0</td>\n",
              "    </tr>\n",
              "    <tr>\n",
              "      <th>1</th>\n",
              "      <td>40</td>\n",
              "      <td>10000</td>\n",
              "      <td>15000</td>\n",
              "      <td>30</td>\n",
              "      <td>2</td>\n",
              "      <td>0</td>\n",
              "    </tr>\n",
              "    <tr>\n",
              "      <th>2</th>\n",
              "      <td>32</td>\n",
              "      <td>500</td>\n",
              "      <td>623</td>\n",
              "      <td>7</td>\n",
              "      <td>47</td>\n",
              "      <td>1</td>\n",
              "    </tr>\n",
              "    <tr>\n",
              "      <th>3</th>\n",
              "      <td>23</td>\n",
              "      <td>0</td>\n",
              "      <td>1000</td>\n",
              "      <td>5</td>\n",
              "      <td>3</td>\n",
              "      <td>0</td>\n",
              "    </tr>\n",
              "    <tr>\n",
              "      <th>4</th>\n",
              "      <td>40</td>\n",
              "      <td>3000</td>\n",
              "      <td>1000</td>\n",
              "      <td>5</td>\n",
              "      <td>10</td>\n",
              "      <td>0</td>\n",
              "    </tr>\n",
              "    <tr>\n",
              "      <th>...</th>\n",
              "      <td>...</td>\n",
              "      <td>...</td>\n",
              "      <td>...</td>\n",
              "      <td>...</td>\n",
              "      <td>...</td>\n",
              "      <td>...</td>\n",
              "    </tr>\n",
              "    <tr>\n",
              "      <th>1085</th>\n",
              "      <td>25</td>\n",
              "      <td>500</td>\n",
              "      <td>30000</td>\n",
              "      <td>40</td>\n",
              "      <td>1</td>\n",
              "      <td>0</td>\n",
              "    </tr>\n",
              "    <tr>\n",
              "      <th>1086</th>\n",
              "      <td>23</td>\n",
              "      <td>500</td>\n",
              "      <td>1000</td>\n",
              "      <td>60</td>\n",
              "      <td>1</td>\n",
              "      <td>0</td>\n",
              "    </tr>\n",
              "    <tr>\n",
              "      <th>1087</th>\n",
              "      <td>65</td>\n",
              "      <td>1000</td>\n",
              "      <td>400000</td>\n",
              "      <td>9</td>\n",
              "      <td>6</td>\n",
              "      <td>0</td>\n",
              "    </tr>\n",
              "    <tr>\n",
              "      <th>1088</th>\n",
              "      <td>66</td>\n",
              "      <td>0</td>\n",
              "      <td>9000</td>\n",
              "      <td>40</td>\n",
              "      <td>1</td>\n",
              "      <td>0</td>\n",
              "    </tr>\n",
              "    <tr>\n",
              "      <th>1089</th>\n",
              "      <td>30</td>\n",
              "      <td>10000</td>\n",
              "      <td>0</td>\n",
              "      <td>5</td>\n",
              "      <td>1</td>\n",
              "      <td>1</td>\n",
              "    </tr>\n",
              "  </tbody>\n",
              "</table>\n",
              "<p>1084 rows × 6 columns</p>\n",
              "</div>"
            ],
            "text/plain": [
              "      Age  ...  Current Status of your accounts (Output variable)\n",
              "0      23  ...                                                  0\n",
              "1      40  ...                                                  0\n",
              "2      32  ...                                                  1\n",
              "3      23  ...                                                  0\n",
              "4      40  ...                                                  0\n",
              "...   ...  ...                                                ...\n",
              "1085   25  ...                                                  0\n",
              "1086   23  ...                                                  0\n",
              "1087   65  ...                                                  0\n",
              "1088   66  ...                                                  0\n",
              "1089   30  ...                                                  1\n",
              "\n",
              "[1084 rows x 6 columns]"
            ]
          },
          "metadata": {
            "tags": []
          },
          "execution_count": 337
        }
      ]
    },
    {
      "cell_type": "markdown",
      "metadata": {
        "id": "T4oIvoqZD_b4"
      },
      "source": [
        "**We use anova test on continuous data**"
      ]
    },
    {
      "cell_type": "code",
      "metadata": {
        "id": "EAcQ5c_UNJgs"
      },
      "source": [
        "X_a = numeric_data.loc[:,numeric_data.columns != 'Current Status of your accounts (Output variable)_Dormant']\n",
        "y_a = numeric_data['Current Status of your accounts (Output variable)']"
      ],
      "execution_count": null,
      "outputs": []
    },
    {
      "cell_type": "code",
      "metadata": {
        "id": "GTqNvWRTNJb4"
      },
      "source": [
        "X_a_train,X_a_test,y_a_train,y_a_test = train_test_split(X_a, y_a, test_size=0.33, random_state=1)\n"
      ],
      "execution_count": null,
      "outputs": []
    },
    {
      "cell_type": "code",
      "metadata": {
        "id": "_bm3fLs2NJUt",
        "colab": {
          "base_uri": "https://localhost:8080/"
        },
        "outputId": "ce40529f-d89f-4125-aab8-53b6e3134dea"
      },
      "source": [
        "#Anova test\n",
        "from sklearn.feature_selection import SelectKBest\n",
        "from sklearn.feature_selection import f_classif\n",
        "\n",
        "#feature selection\n",
        "fs = SelectKBest(score_func=f_classif, k='all')\n",
        "# learn relationship from training data\n",
        "fs.fit(X_a_train, y_a_train)\n",
        "# transform train input data\n",
        "X_train_fs = fs.transform(X_a_train)\n",
        "# transform test input data\n",
        "X_test_fs = fs.transform(X_a_test)"
      ],
      "execution_count": null,
      "outputs": [
        {
          "output_type": "stream",
          "text": [
            "/usr/local/lib/python3.7/dist-packages/sklearn/feature_selection/_univariate_selection.py:115: RuntimeWarning: divide by zero encountered in true_divide\n",
            "  f = msb / msw\n"
          ],
          "name": "stderr"
        }
      ]
    },
    {
      "cell_type": "code",
      "metadata": {
        "id": "fFPYs8QDR7Y0",
        "colab": {
          "base_uri": "https://localhost:8080/",
          "height": 371
        },
        "outputId": "72b6677a-4a4c-4178-afce-ff2f95d86085"
      },
      "source": [
        "for i in range(len(fs.scores_)):\n",
        "  print('Feature %d: %f' % (i, fs.scores_[i]))\n",
        "\n",
        "# plot the scores\n",
        "plt.bar([i for i in range(len(fs.scores_))], fs.scores_)\n",
        "plt.show()\n",
        "\n",
        "\n"
      ],
      "execution_count": null,
      "outputs": [
        {
          "output_type": "stream",
          "text": [
            "Feature 0: 8.901922\n",
            "Feature 1: 0.284106\n",
            "Feature 2: 0.575212\n",
            "Feature 3: 0.565797\n",
            "Feature 4: 11.879425\n",
            "Feature 5: inf\n"
          ],
          "name": "stdout"
        },
        {
          "output_type": "display_data",
          "data": {
            "image/png": "[encoded data removed]",
            "text/plain": [
              "<Figure size 432x288 with 1 Axes>"
            ]
          },
          "metadata": {
            "tags": [],
            "needs_background": "light"
          }
        }
      ]
    },
    {
      "cell_type": "markdown",
      "metadata": {
        "id": "D6B28cytaqce"
      },
      "source": [
        "Feature 4 - no_of_months_last_transaction ,    \n",
        "Feature 0 - Age,\n",
        "Feature 3- Quarterly activity rate"
      ]
    },
    {
      "cell_type": "code",
      "metadata": {
        "id": "hl0pOtwd-PXV",
        "colab": {
          "base_uri": "https://localhost:8080/"
        },
        "outputId": "c0f99dcd-730a-4fd1-ca23-fcb585a91b6f"
      },
      "source": [
        "#also using normality test on continuous dataset\n",
        "\n",
        "# Shapiro-Wilk Test\n",
        "from numpy.random import seed\n",
        "from numpy.random import randn\n",
        "from scipy.stats import shapiro \n",
        "#set seed\n",
        "seed(1)\n",
        "# normality test\n",
        "stat, p = shapiro(numeric_data['Months since last transaction'])\n",
        "#stat, p =shapiro(numeric_data['Age'])\n",
        "#stat,p = shapiro(numeric_data['Current Balance'])\n",
        "# interpret\n",
        "alpha = 0.05\n",
        "if p > alpha:\n",
        "\tprint('Sample looks Gaussian (fail to reject H0)')\n",
        "else:\n",
        "\tprint('Sample does not look Gaussian (reject H0)')\n",
        "\n"
      ],
      "execution_count": null,
      "outputs": [
        {
          "output_type": "stream",
          "text": [
            "Sample does not look Gaussian (reject H0)\n"
          ],
          "name": "stdout"
        }
      ]
    },
    {
      "cell_type": "code",
      "metadata": {
        "id": "yAI1g1RlCaE4"
      },
      "source": [
        "cont_feat = numeric_data.drop(columns =['Current Status of your accounts (Output variable)' ], axis = 1)"
      ],
      "execution_count": null,
      "outputs": []
    },
    {
      "cell_type": "code",
      "metadata": {
        "id": "n4-Qj3f1DDiB",
        "colab": {
          "base_uri": "https://localhost:8080/",
          "height": 406
        },
        "outputId": "4ac60475-2f7e-4002-fb54-d34044f2bddd"
      },
      "source": [
        "cont_feat"
      ],
      "execution_count": null,
      "outputs": [
        {
          "output_type": "execute_result",
          "data": {
            "text/html": [
              "<div>\n",
              "<style scoped>\n",
              "    .dataframe tbody tr th:only-of-type {\n",
              "        vertical-align: middle;\n",
              "    }\n",
              "\n",
              "    .dataframe tbody tr th {\n",
              "        vertical-align: top;\n",
              "    }\n",
              "\n",
              "    .dataframe thead th {\n",
              "        text-align: right;\n",
              "    }\n",
              "</style>\n",
              "<table border=\"1\" class=\"dataframe\">\n",
              "  <thead>\n",
              "    <tr style=\"text-align: right;\">\n",
              "      <th></th>\n",
              "      <th>Age</th>\n",
              "      <th>Opening Balance</th>\n",
              "      <th>Current Balance</th>\n",
              "      <th>Quarterly activity rate</th>\n",
              "      <th>Months since last transaction</th>\n",
              "    </tr>\n",
              "  </thead>\n",
              "  <tbody>\n",
              "    <tr>\n",
              "      <th>0</th>\n",
              "      <td>23</td>\n",
              "      <td>2000</td>\n",
              "      <td>2000</td>\n",
              "      <td>2</td>\n",
              "      <td>3</td>\n",
              "    </tr>\n",
              "    <tr>\n",
              "      <th>1</th>\n",
              "      <td>40</td>\n",
              "      <td>10000</td>\n",
              "      <td>15000</td>\n",
              "      <td>30</td>\n",
              "      <td>2</td>\n",
              "    </tr>\n",
              "    <tr>\n",
              "      <th>2</th>\n",
              "      <td>32</td>\n",
              "      <td>500</td>\n",
              "      <td>623</td>\n",
              "      <td>7</td>\n",
              "      <td>47</td>\n",
              "    </tr>\n",
              "    <tr>\n",
              "      <th>3</th>\n",
              "      <td>23</td>\n",
              "      <td>0</td>\n",
              "      <td>1000</td>\n",
              "      <td>5</td>\n",
              "      <td>3</td>\n",
              "    </tr>\n",
              "    <tr>\n",
              "      <th>4</th>\n",
              "      <td>40</td>\n",
              "      <td>3000</td>\n",
              "      <td>1000</td>\n",
              "      <td>5</td>\n",
              "      <td>10</td>\n",
              "    </tr>\n",
              "    <tr>\n",
              "      <th>...</th>\n",
              "      <td>...</td>\n",
              "      <td>...</td>\n",
              "      <td>...</td>\n",
              "      <td>...</td>\n",
              "      <td>...</td>\n",
              "    </tr>\n",
              "    <tr>\n",
              "      <th>1085</th>\n",
              "      <td>25</td>\n",
              "      <td>500</td>\n",
              "      <td>30000</td>\n",
              "      <td>40</td>\n",
              "      <td>1</td>\n",
              "    </tr>\n",
              "    <tr>\n",
              "      <th>1086</th>\n",
              "      <td>23</td>\n",
              "      <td>500</td>\n",
              "      <td>1000</td>\n",
              "      <td>60</td>\n",
              "      <td>1</td>\n",
              "    </tr>\n",
              "    <tr>\n",
              "      <th>1087</th>\n",
              "      <td>65</td>\n",
              "      <td>1000</td>\n",
              "      <td>400000</td>\n",
              "      <td>9</td>\n",
              "      <td>6</td>\n",
              "    </tr>\n",
              "    <tr>\n",
              "      <th>1088</th>\n",
              "      <td>66</td>\n",
              "      <td>0</td>\n",
              "      <td>9000</td>\n",
              "      <td>40</td>\n",
              "      <td>1</td>\n",
              "    </tr>\n",
              "    <tr>\n",
              "      <th>1089</th>\n",
              "      <td>30</td>\n",
              "      <td>10000</td>\n",
              "      <td>0</td>\n",
              "      <td>5</td>\n",
              "      <td>1</td>\n",
              "    </tr>\n",
              "  </tbody>\n",
              "</table>\n",
              "<p>1084 rows × 5 columns</p>\n",
              "</div>"
            ],
            "text/plain": [
              "      Age  ...  Months since last transaction\n",
              "0      23  ...                              3\n",
              "1      40  ...                              2\n",
              "2      32  ...                             47\n",
              "3      23  ...                              3\n",
              "4      40  ...                             10\n",
              "...   ...  ...                            ...\n",
              "1085   25  ...                              1\n",
              "1086   23  ...                              1\n",
              "1087   65  ...                              6\n",
              "1088   66  ...                              1\n",
              "1089   30  ...                              1\n",
              "\n",
              "[1084 rows x 5 columns]"
            ]
          },
          "metadata": {
            "tags": []
          },
          "execution_count": 346
        }
      ]
    },
    {
      "cell_type": "code",
      "metadata": {
        "id": "RRHa3Vt9VOAo",
        "colab": {
          "base_uri": "https://localhost:8080/"
        },
        "outputId": "9ab066d8-d470-4674-a88b-63743337c9a7"
      },
      "source": [
        "cont_feat.shape"
      ],
      "execution_count": null,
      "outputs": [
        {
          "output_type": "execute_result",
          "data": {
            "text/plain": [
              "(1084, 5)"
            ]
          },
          "metadata": {
            "tags": []
          },
          "execution_count": 134
        }
      ]
    },
    {
      "cell_type": "code",
      "metadata": {
        "id": "oPGejbdRVV2B",
        "colab": {
          "base_uri": "https://localhost:8080/"
        },
        "outputId": "54b6c215-2d9a-444e-895f-858368d2e078"
      },
      "source": [
        "cat_feat.shape"
      ],
      "execution_count": null,
      "outputs": [
        {
          "output_type": "execute_result",
          "data": {
            "text/plain": [
              "(1084, 14)"
            ]
          },
          "metadata": {
            "tags": []
          },
          "execution_count": 135
        }
      ]
    },
    {
      "cell_type": "code",
      "metadata": {
        "id": "tMU9_7B4YtRc"
      },
      "source": [
        "new_df = cat_feat.join(cont_feat)"
      ],
      "execution_count": null,
      "outputs": []
    },
    {
      "cell_type": "markdown",
      "metadata": {
        "id": "Vi9GR0GFyOos"
      },
      "source": [
        "**Building our model**"
      ]
    },
    {
      "cell_type": "code",
      "metadata": {
        "colab": {
          "base_uri": "https://localhost:8080/"
        },
        "id": "-UomFp5OMg6S",
        "outputId": "4b3f6065-b5c9-42ba-b8f6-79552d05a350"
      },
      "source": [
        "new_df.columns"
      ],
      "execution_count": null,
      "outputs": [
        {
          "output_type": "execute_result",
          "data": {
            "text/plain": [
              "Index(['Current Status of your accounts (Output variable)', 'Gender',\n",
              "       'Education', 'Occupation', 'Account Type', 'Having Minimum Balance',\n",
              "       'Have multiple accounts', 'Have an active loan',\n",
              "       'Use internet or mobile banking', 'Have an credit card',\n",
              "       'Ever defaulted on a loan',\n",
              "       'Are you satisfied with the service provided by bank',\n",
              "       'Any transactions in past 24 months', 'Bank distance from residence',\n",
              "       'Age', 'Opening Balance', 'Current Balance', 'Quarterly activity rate',\n",
              "       'Months since last transaction'],\n",
              "      dtype='object')"
            ]
          },
          "metadata": {
            "tags": []
          },
          "execution_count": 366
        }
      ]
    },
    {
      "cell_type": "code",
      "metadata": {
        "id": "-2pVBDXuV4r1",
        "colab": {
          "base_uri": "https://localhost:8080/",
          "height": 510
        },
        "outputId": "473eeb36-77c4-41b0-f37e-e39baa38b3b9"
      },
      "source": [
        "new_df"
      ],
      "execution_count": null,
      "outputs": [
        {
          "output_type": "execute_result",
          "data": {
            "text/html": [
              "<div>\n",
              "<style scoped>\n",
              "    .dataframe tbody tr th:only-of-type {\n",
              "        vertical-align: middle;\n",
              "    }\n",
              "\n",
              "    .dataframe tbody tr th {\n",
              "        vertical-align: top;\n",
              "    }\n",
              "\n",
              "    .dataframe thead th {\n",
              "        text-align: right;\n",
              "    }\n",
              "</style>\n",
              "<table border=\"1\" class=\"dataframe\">\n",
              "  <thead>\n",
              "    <tr style=\"text-align: right;\">\n",
              "      <th></th>\n",
              "      <th>Gender</th>\n",
              "      <th>Education</th>\n",
              "      <th>Occupation</th>\n",
              "      <th>Account Type</th>\n",
              "      <th>Having Minimum Balance</th>\n",
              "      <th>Have multiple accounts</th>\n",
              "      <th>Have an active loan</th>\n",
              "      <th>Use internet or mobile banking</th>\n",
              "      <th>Have an credit card</th>\n",
              "      <th>Ever defaulted on a loan</th>\n",
              "      <th>Are you satisfied with the service provided by bank</th>\n",
              "      <th>Current Status of your accounts (Output variable)</th>\n",
              "      <th>Any transactions in past 24 months</th>\n",
              "      <th>Bank distance from residence</th>\n",
              "      <th>Age</th>\n",
              "      <th>Opening Balance</th>\n",
              "      <th>Current Balance</th>\n",
              "      <th>Quarterly activity rate</th>\n",
              "      <th>Months since last transaction</th>\n",
              "    </tr>\n",
              "  </thead>\n",
              "  <tbody>\n",
              "    <tr>\n",
              "      <th>0</th>\n",
              "      <td>0</td>\n",
              "      <td>0.402622</td>\n",
              "      <td>0.468182</td>\n",
              "      <td>0.466981</td>\n",
              "      <td>1</td>\n",
              "      <td>1</td>\n",
              "      <td>0</td>\n",
              "      <td>1</td>\n",
              "      <td>0</td>\n",
              "      <td>0</td>\n",
              "      <td>1</td>\n",
              "      <td>0</td>\n",
              "      <td>1</td>\n",
              "      <td>0.724138</td>\n",
              "      <td>23</td>\n",
              "      <td>2000</td>\n",
              "      <td>2000</td>\n",
              "      <td>2</td>\n",
              "      <td>3</td>\n",
              "    </tr>\n",
              "    <tr>\n",
              "      <th>1</th>\n",
              "      <td>0</td>\n",
              "      <td>0.545455</td>\n",
              "      <td>0.468182</td>\n",
              "      <td>0.466981</td>\n",
              "      <td>1</td>\n",
              "      <td>1</td>\n",
              "      <td>1</td>\n",
              "      <td>1</td>\n",
              "      <td>0</td>\n",
              "      <td>0</td>\n",
              "      <td>0</td>\n",
              "      <td>0</td>\n",
              "      <td>1</td>\n",
              "      <td>0.427666</td>\n",
              "      <td>40</td>\n",
              "      <td>10000</td>\n",
              "      <td>15000</td>\n",
              "      <td>30</td>\n",
              "      <td>2</td>\n",
              "    </tr>\n",
              "    <tr>\n",
              "      <th>2</th>\n",
              "      <td>0</td>\n",
              "      <td>0.545455</td>\n",
              "      <td>0.468182</td>\n",
              "      <td>0.443439</td>\n",
              "      <td>1</td>\n",
              "      <td>1</td>\n",
              "      <td>1</td>\n",
              "      <td>0</td>\n",
              "      <td>0</td>\n",
              "      <td>1</td>\n",
              "      <td>1</td>\n",
              "      <td>1</td>\n",
              "      <td>0</td>\n",
              "      <td>0.643830</td>\n",
              "      <td>32</td>\n",
              "      <td>500</td>\n",
              "      <td>623</td>\n",
              "      <td>7</td>\n",
              "      <td>47</td>\n",
              "    </tr>\n",
              "    <tr>\n",
              "      <th>3</th>\n",
              "      <td>0</td>\n",
              "      <td>0.402622</td>\n",
              "      <td>0.403909</td>\n",
              "      <td>0.466981</td>\n",
              "      <td>1</td>\n",
              "      <td>1</td>\n",
              "      <td>0</td>\n",
              "      <td>1</td>\n",
              "      <td>1</td>\n",
              "      <td>0</td>\n",
              "      <td>0</td>\n",
              "      <td>0</td>\n",
              "      <td>1</td>\n",
              "      <td>0.427666</td>\n",
              "      <td>23</td>\n",
              "      <td>0</td>\n",
              "      <td>1000</td>\n",
              "      <td>5</td>\n",
              "      <td>3</td>\n",
              "    </tr>\n",
              "    <tr>\n",
              "      <th>4</th>\n",
              "      <td>1</td>\n",
              "      <td>0.600000</td>\n",
              "      <td>0.476471</td>\n",
              "      <td>0.466981</td>\n",
              "      <td>0</td>\n",
              "      <td>1</td>\n",
              "      <td>1</td>\n",
              "      <td>1</td>\n",
              "      <td>1</td>\n",
              "      <td>0</td>\n",
              "      <td>0</td>\n",
              "      <td>0</td>\n",
              "      <td>1</td>\n",
              "      <td>0.427666</td>\n",
              "      <td>40</td>\n",
              "      <td>3000</td>\n",
              "      <td>1000</td>\n",
              "      <td>5</td>\n",
              "      <td>10</td>\n",
              "    </tr>\n",
              "    <tr>\n",
              "      <th>...</th>\n",
              "      <td>...</td>\n",
              "      <td>...</td>\n",
              "      <td>...</td>\n",
              "      <td>...</td>\n",
              "      <td>...</td>\n",
              "      <td>...</td>\n",
              "      <td>...</td>\n",
              "      <td>...</td>\n",
              "      <td>...</td>\n",
              "      <td>...</td>\n",
              "      <td>...</td>\n",
              "      <td>...</td>\n",
              "      <td>...</td>\n",
              "      <td>...</td>\n",
              "      <td>...</td>\n",
              "      <td>...</td>\n",
              "      <td>...</td>\n",
              "      <td>...</td>\n",
              "      <td>...</td>\n",
              "    </tr>\n",
              "    <tr>\n",
              "      <th>1085</th>\n",
              "      <td>1</td>\n",
              "      <td>0.402622</td>\n",
              "      <td>0.403909</td>\n",
              "      <td>0.466981</td>\n",
              "      <td>1</td>\n",
              "      <td>0</td>\n",
              "      <td>0</td>\n",
              "      <td>0</td>\n",
              "      <td>0</td>\n",
              "      <td>0</td>\n",
              "      <td>2</td>\n",
              "      <td>0</td>\n",
              "      <td>1</td>\n",
              "      <td>0.427666</td>\n",
              "      <td>25</td>\n",
              "      <td>500</td>\n",
              "      <td>30000</td>\n",
              "      <td>40</td>\n",
              "      <td>1</td>\n",
              "    </tr>\n",
              "    <tr>\n",
              "      <th>1086</th>\n",
              "      <td>0</td>\n",
              "      <td>0.402622</td>\n",
              "      <td>0.403909</td>\n",
              "      <td>0.466981</td>\n",
              "      <td>1</td>\n",
              "      <td>0</td>\n",
              "      <td>0</td>\n",
              "      <td>1</td>\n",
              "      <td>0</td>\n",
              "      <td>0</td>\n",
              "      <td>0</td>\n",
              "      <td>0</td>\n",
              "      <td>1</td>\n",
              "      <td>0.427666</td>\n",
              "      <td>23</td>\n",
              "      <td>500</td>\n",
              "      <td>1000</td>\n",
              "      <td>60</td>\n",
              "      <td>1</td>\n",
              "    </tr>\n",
              "    <tr>\n",
              "      <th>1087</th>\n",
              "      <td>1</td>\n",
              "      <td>0.402622</td>\n",
              "      <td>0.609195</td>\n",
              "      <td>0.578947</td>\n",
              "      <td>1</td>\n",
              "      <td>0</td>\n",
              "      <td>0</td>\n",
              "      <td>0</td>\n",
              "      <td>0</td>\n",
              "      <td>0</td>\n",
              "      <td>0</td>\n",
              "      <td>0</td>\n",
              "      <td>1</td>\n",
              "      <td>0.427666</td>\n",
              "      <td>65</td>\n",
              "      <td>1000</td>\n",
              "      <td>400000</td>\n",
              "      <td>9</td>\n",
              "      <td>6</td>\n",
              "    </tr>\n",
              "    <tr>\n",
              "      <th>1088</th>\n",
              "      <td>0</td>\n",
              "      <td>0.600000</td>\n",
              "      <td>0.468182</td>\n",
              "      <td>0.454545</td>\n",
              "      <td>1</td>\n",
              "      <td>1</td>\n",
              "      <td>1</td>\n",
              "      <td>1</td>\n",
              "      <td>0</td>\n",
              "      <td>0</td>\n",
              "      <td>0</td>\n",
              "      <td>0</td>\n",
              "      <td>1</td>\n",
              "      <td>0.427666</td>\n",
              "      <td>66</td>\n",
              "      <td>0</td>\n",
              "      <td>9000</td>\n",
              "      <td>40</td>\n",
              "      <td>1</td>\n",
              "    </tr>\n",
              "    <tr>\n",
              "      <th>1089</th>\n",
              "      <td>0</td>\n",
              "      <td>0.402622</td>\n",
              "      <td>0.476471</td>\n",
              "      <td>0.466981</td>\n",
              "      <td>0</td>\n",
              "      <td>1</td>\n",
              "      <td>0</td>\n",
              "      <td>0</td>\n",
              "      <td>0</td>\n",
              "      <td>0</td>\n",
              "      <td>1</td>\n",
              "      <td>1</td>\n",
              "      <td>0</td>\n",
              "      <td>0.427666</td>\n",
              "      <td>30</td>\n",
              "      <td>10000</td>\n",
              "      <td>0</td>\n",
              "      <td>5</td>\n",
              "      <td>1</td>\n",
              "    </tr>\n",
              "  </tbody>\n",
              "</table>\n",
              "<p>1084 rows × 19 columns</p>\n",
              "</div>"
            ],
            "text/plain": [
              "      Gender  Education  ...  Quarterly activity rate  Months since last transaction\n",
              "0          0   0.402622  ...                        2                              3\n",
              "1          0   0.545455  ...                       30                              2\n",
              "2          0   0.545455  ...                        7                             47\n",
              "3          0   0.402622  ...                        5                              3\n",
              "4          1   0.600000  ...                        5                             10\n",
              "...      ...        ...  ...                      ...                            ...\n",
              "1085       1   0.402622  ...                       40                              1\n",
              "1086       0   0.402622  ...                       60                              1\n",
              "1087       1   0.402622  ...                        9                              6\n",
              "1088       0   0.600000  ...                       40                              1\n",
              "1089       0   0.402622  ...                        5                              1\n",
              "\n",
              "[1084 rows x 19 columns]"
            ]
          },
          "metadata": {
            "tags": []
          },
          "execution_count": 348
        }
      ]
    },
    {
      "cell_type": "code",
      "metadata": {
        "id": "kiR91Q2bayww"
      },
      "source": [
        "new_df = new_df[['Current Status of your accounts (Output variable)','Gender', 'Education', 'Occupation', 'Account Type',\n",
        "       'Having Minimum Balance', 'Have multiple accounts',\n",
        "       'Have an active loan', 'Use internet or mobile banking',\n",
        "       'Have an credit card', 'Ever defaulted on a loan',\n",
        "       'Are you satisfied with the service provided by bank',\n",
        "       'Any transactions in past 24 months', 'Bank distance from residence',\n",
        "       'Age', 'Opening Balance', 'Current Balance', 'Quarterly activity rate',\n",
        "       'Months since last transaction']]\n"
      ],
      "execution_count": null,
      "outputs": []
    },
    {
      "cell_type": "code",
      "metadata": {
        "id": "nGR4gelD-IkG"
      },
      "source": [
        "#import lazypredict\n",
        "#from lazypredict.Supervised import LazyClassifier\n"
      ],
      "execution_count": null,
      "outputs": []
    },
    {
      "cell_type": "code",
      "metadata": {
        "colab": {
          "base_uri": "https://localhost:8080/",
          "height": 493
        },
        "id": "MiIaCrpVhJGZ",
        "outputId": "63425b05-5145-46c7-8d97-e53077b1318b"
      },
      "source": [
        "new_df"
      ],
      "execution_count": null,
      "outputs": [
        {
          "output_type": "execute_result",
          "data": {
            "text/html": [
              "<div>\n",
              "<style scoped>\n",
              "    .dataframe tbody tr th:only-of-type {\n",
              "        vertical-align: middle;\n",
              "    }\n",
              "\n",
              "    .dataframe tbody tr th {\n",
              "        vertical-align: top;\n",
              "    }\n",
              "\n",
              "    .dataframe thead th {\n",
              "        text-align: right;\n",
              "    }\n",
              "</style>\n",
              "<table border=\"1\" class=\"dataframe\">\n",
              "  <thead>\n",
              "    <tr style=\"text-align: right;\">\n",
              "      <th></th>\n",
              "      <th>Current Status of your accounts (Output variable)_Dormant</th>\n",
              "      <th>Gender</th>\n",
              "      <th>Education</th>\n",
              "      <th>Occupation</th>\n",
              "      <th>Account Type</th>\n",
              "      <th>Having Minimum Balance</th>\n",
              "      <th>Have multiple accounts</th>\n",
              "      <th>Have an active loan</th>\n",
              "      <th>Use internet or mobile banking</th>\n",
              "      <th>Have an credit card</th>\n",
              "      <th>Ever defaulted on a loan</th>\n",
              "      <th>Satisfied with bank service</th>\n",
              "      <th>Any transactions in past 24 months</th>\n",
              "      <th>Bank distance from residence</th>\n",
              "      <th>Age</th>\n",
              "      <th>Opening Balance</th>\n",
              "      <th>Current Balance</th>\n",
              "      <th>Quarterly activity rate</th>\n",
              "      <th>Months since last transaction</th>\n",
              "    </tr>\n",
              "  </thead>\n",
              "  <tbody>\n",
              "    <tr>\n",
              "      <th>0</th>\n",
              "      <td>0</td>\n",
              "      <td>1</td>\n",
              "      <td>0.222846</td>\n",
              "      <td>0.286364</td>\n",
              "      <td>0.253145</td>\n",
              "      <td>1</td>\n",
              "      <td>1</td>\n",
              "      <td>0</td>\n",
              "      <td>1</td>\n",
              "      <td>0</td>\n",
              "      <td>0</td>\n",
              "      <td>0</td>\n",
              "      <td>1</td>\n",
              "      <td>0.448276</td>\n",
              "      <td>23</td>\n",
              "      <td>2000</td>\n",
              "      <td>2000</td>\n",
              "      <td>2</td>\n",
              "      <td>3</td>\n",
              "    </tr>\n",
              "    <tr>\n",
              "      <th>1</th>\n",
              "      <td>0</td>\n",
              "      <td>1</td>\n",
              "      <td>0.311688</td>\n",
              "      <td>0.286364</td>\n",
              "      <td>0.253145</td>\n",
              "      <td>1</td>\n",
              "      <td>1</td>\n",
              "      <td>1</td>\n",
              "      <td>1</td>\n",
              "      <td>0</td>\n",
              "      <td>0</td>\n",
              "      <td>1</td>\n",
              "      <td>1</td>\n",
              "      <td>0.224921</td>\n",
              "      <td>40</td>\n",
              "      <td>10000</td>\n",
              "      <td>15000</td>\n",
              "      <td>30</td>\n",
              "      <td>2</td>\n",
              "    </tr>\n",
              "    <tr>\n",
              "      <th>2</th>\n",
              "      <td>1</td>\n",
              "      <td>1</td>\n",
              "      <td>0.311688</td>\n",
              "      <td>0.286364</td>\n",
              "      <td>0.271493</td>\n",
              "      <td>1</td>\n",
              "      <td>1</td>\n",
              "      <td>1</td>\n",
              "      <td>0</td>\n",
              "      <td>0</td>\n",
              "      <td>1</td>\n",
              "      <td>0</td>\n",
              "      <td>0</td>\n",
              "      <td>0.617879</td>\n",
              "      <td>32</td>\n",
              "      <td>500</td>\n",
              "      <td>623</td>\n",
              "      <td>7</td>\n",
              "      <td>47</td>\n",
              "    </tr>\n",
              "    <tr>\n",
              "      <th>3</th>\n",
              "      <td>0</td>\n",
              "      <td>1</td>\n",
              "      <td>0.222846</td>\n",
              "      <td>0.136808</td>\n",
              "      <td>0.253145</td>\n",
              "      <td>1</td>\n",
              "      <td>1</td>\n",
              "      <td>0</td>\n",
              "      <td>1</td>\n",
              "      <td>1</td>\n",
              "      <td>0</td>\n",
              "      <td>1</td>\n",
              "      <td>1</td>\n",
              "      <td>0.224921</td>\n",
              "      <td>23</td>\n",
              "      <td>0</td>\n",
              "      <td>1000</td>\n",
              "      <td>5</td>\n",
              "      <td>3</td>\n",
              "    </tr>\n",
              "    <tr>\n",
              "      <th>4</th>\n",
              "      <td>0</td>\n",
              "      <td>0</td>\n",
              "      <td>0.294118</td>\n",
              "      <td>0.264706</td>\n",
              "      <td>0.253145</td>\n",
              "      <td>0</td>\n",
              "      <td>1</td>\n",
              "      <td>1</td>\n",
              "      <td>1</td>\n",
              "      <td>1</td>\n",
              "      <td>0</td>\n",
              "      <td>1</td>\n",
              "      <td>1</td>\n",
              "      <td>0.224921</td>\n",
              "      <td>40</td>\n",
              "      <td>3000</td>\n",
              "      <td>1000</td>\n",
              "      <td>5</td>\n",
              "      <td>10</td>\n",
              "    </tr>\n",
              "    <tr>\n",
              "      <th>...</th>\n",
              "      <td>...</td>\n",
              "      <td>...</td>\n",
              "      <td>...</td>\n",
              "      <td>...</td>\n",
              "      <td>...</td>\n",
              "      <td>...</td>\n",
              "      <td>...</td>\n",
              "      <td>...</td>\n",
              "      <td>...</td>\n",
              "      <td>...</td>\n",
              "      <td>...</td>\n",
              "      <td>...</td>\n",
              "      <td>...</td>\n",
              "      <td>...</td>\n",
              "      <td>...</td>\n",
              "      <td>...</td>\n",
              "      <td>...</td>\n",
              "      <td>...</td>\n",
              "      <td>...</td>\n",
              "    </tr>\n",
              "    <tr>\n",
              "      <th>1085</th>\n",
              "      <td>0</td>\n",
              "      <td>0</td>\n",
              "      <td>0.222846</td>\n",
              "      <td>0.136808</td>\n",
              "      <td>0.253145</td>\n",
              "      <td>1</td>\n",
              "      <td>0</td>\n",
              "      <td>0</td>\n",
              "      <td>0</td>\n",
              "      <td>0</td>\n",
              "      <td>0</td>\n",
              "      <td>0</td>\n",
              "      <td>1</td>\n",
              "      <td>0.224921</td>\n",
              "      <td>25</td>\n",
              "      <td>500</td>\n",
              "      <td>30000</td>\n",
              "      <td>40</td>\n",
              "      <td>1</td>\n",
              "    </tr>\n",
              "    <tr>\n",
              "      <th>1086</th>\n",
              "      <td>0</td>\n",
              "      <td>1</td>\n",
              "      <td>0.222846</td>\n",
              "      <td>0.136808</td>\n",
              "      <td>0.253145</td>\n",
              "      <td>1</td>\n",
              "      <td>0</td>\n",
              "      <td>0</td>\n",
              "      <td>1</td>\n",
              "      <td>0</td>\n",
              "      <td>0</td>\n",
              "      <td>1</td>\n",
              "      <td>1</td>\n",
              "      <td>0.224921</td>\n",
              "      <td>23</td>\n",
              "      <td>500</td>\n",
              "      <td>1000</td>\n",
              "      <td>60</td>\n",
              "      <td>1</td>\n",
              "    </tr>\n",
              "    <tr>\n",
              "      <th>1087</th>\n",
              "      <td>0</td>\n",
              "      <td>0</td>\n",
              "      <td>0.222846</td>\n",
              "      <td>0.333333</td>\n",
              "      <td>0.368421</td>\n",
              "      <td>1</td>\n",
              "      <td>0</td>\n",
              "      <td>0</td>\n",
              "      <td>0</td>\n",
              "      <td>0</td>\n",
              "      <td>0</td>\n",
              "      <td>1</td>\n",
              "      <td>1</td>\n",
              "      <td>0.224921</td>\n",
              "      <td>65</td>\n",
              "      <td>1000</td>\n",
              "      <td>400000</td>\n",
              "      <td>9</td>\n",
              "      <td>6</td>\n",
              "    </tr>\n",
              "    <tr>\n",
              "      <th>1088</th>\n",
              "      <td>0</td>\n",
              "      <td>1</td>\n",
              "      <td>0.294118</td>\n",
              "      <td>0.286364</td>\n",
              "      <td>0.151515</td>\n",
              "      <td>1</td>\n",
              "      <td>1</td>\n",
              "      <td>1</td>\n",
              "      <td>1</td>\n",
              "      <td>0</td>\n",
              "      <td>0</td>\n",
              "      <td>1</td>\n",
              "      <td>1</td>\n",
              "      <td>0.224921</td>\n",
              "      <td>66</td>\n",
              "      <td>0</td>\n",
              "      <td>9000</td>\n",
              "      <td>40</td>\n",
              "      <td>1</td>\n",
              "    </tr>\n",
              "    <tr>\n",
              "      <th>1089</th>\n",
              "      <td>1</td>\n",
              "      <td>1</td>\n",
              "      <td>0.222846</td>\n",
              "      <td>0.264706</td>\n",
              "      <td>0.253145</td>\n",
              "      <td>0</td>\n",
              "      <td>1</td>\n",
              "      <td>0</td>\n",
              "      <td>0</td>\n",
              "      <td>0</td>\n",
              "      <td>0</td>\n",
              "      <td>0</td>\n",
              "      <td>0</td>\n",
              "      <td>0.224921</td>\n",
              "      <td>30</td>\n",
              "      <td>10000</td>\n",
              "      <td>0</td>\n",
              "      <td>5</td>\n",
              "      <td>1</td>\n",
              "    </tr>\n",
              "  </tbody>\n",
              "</table>\n",
              "<p>1084 rows × 19 columns</p>\n",
              "</div>"
            ],
            "text/plain": [
              "      Current Status of your accounts (Output variable)_Dormant  ...  Months since last transaction\n",
              "0                                                     0          ...                              3\n",
              "1                                                     0          ...                              2\n",
              "2                                                     1          ...                             47\n",
              "3                                                     0          ...                              3\n",
              "4                                                     0          ...                             10\n",
              "...                                                 ...          ...                            ...\n",
              "1085                                                  0          ...                              1\n",
              "1086                                                  0          ...                              1\n",
              "1087                                                  0          ...                              6\n",
              "1088                                                  0          ...                              1\n",
              "1089                                                  1          ...                              1\n",
              "\n",
              "[1084 rows x 19 columns]"
            ]
          },
          "metadata": {
            "tags": []
          },
          "execution_count": 142
        }
      ]
    },
    {
      "cell_type": "code",
      "metadata": {
        "id": "rjaEA5ef-IdS"
      },
      "source": [
        "X_df = new_df.iloc[0:1084,1:19]\n"
      ],
      "execution_count": null,
      "outputs": []
    },
    {
      "cell_type": "code",
      "metadata": {
        "id": "3OvP67E-cQK3"
      },
      "source": [
        "y_df = new_df['Current Status of your accounts (Output variable)']"
      ],
      "execution_count": null,
      "outputs": []
    },
    {
      "cell_type": "code",
      "metadata": {
        "id": "9hFIcAPYtHpU"
      },
      "source": [
        "#!pip install catboost"
      ],
      "execution_count": null,
      "outputs": []
    },
    {
      "cell_type": "code",
      "metadata": {
        "id": "vsg45Sm1tCKG"
      },
      "source": [
        "import catboost as cb\n",
        "from catboost import CatBoostClassifier"
      ],
      "execution_count": null,
      "outputs": []
    },
    {
      "cell_type": "code",
      "metadata": {
        "id": "D6xvHBgCulqR"
      },
      "source": [
        "#cat_feat1 = cat_feat.drop(columns = ['Current Status of your accounts (Output variable)_Dormant'], axis = 1)"
      ],
      "execution_count": null,
      "outputs": []
    },
    {
      "cell_type": "code",
      "metadata": {
        "id": "NT4gVMmYs6BJ"
      },
      "source": [
        "X_df_train, X_df_test, y_df_train, y_df_test = train_test_split(X_df, y_df, test_size = 0.30)\n"
      ],
      "execution_count": null,
      "outputs": []
    },
    {
      "cell_type": "code",
      "metadata": {
        "id": "fzcMlKtKeJma"
      },
      "source": [
        "model_cbc = cb.CatBoostClassifier()\n",
        "model_cbc.fit(X_df_train, y_df_train)\n",
        "#print(model_cbc)"
      ],
      "execution_count": null,
      "outputs": []
    },
    {
      "cell_type": "code",
      "metadata": {
        "id": "xVkMwgCZeJZL"
      },
      "source": [
        "expected_y = y_df_test\n",
        "predicted_y = model_cbc.predict(X_df_test)"
      ],
      "execution_count": null,
      "outputs": []
    },
    {
      "cell_type": "code",
      "metadata": {
        "id": "H_OP6rzw73Nk"
      },
      "source": [
        "from sklearn import metrics\n",
        "from sklearn.metrics import classification_report, confusion_matrix"
      ],
      "execution_count": null,
      "outputs": []
    },
    {
      "cell_type": "code",
      "metadata": {
        "id": "s42WoJlSXuFn",
        "colab": {
          "base_uri": "https://localhost:8080/"
        },
        "outputId": "7cd33275-bbd9-43f0-a4a9-587062dbe8aa"
      },
      "source": [
        "print(metrics.classification_report(expected_y, predicted_y))"
      ],
      "execution_count": null,
      "outputs": [
        {
          "output_type": "stream",
          "text": [
            "              precision    recall  f1-score   support\n",
            "\n",
            "           0       0.93      0.95      0.94       248\n",
            "           1       0.82      0.78      0.80        78\n",
            "\n",
            "    accuracy                           0.91       326\n",
            "   macro avg       0.88      0.86      0.87       326\n",
            "weighted avg       0.91      0.91      0.91       326\n",
            "\n"
          ],
          "name": "stdout"
        }
      ]
    },
    {
      "cell_type": "code",
      "metadata": {
        "id": "wmT9qrCTXt8M",
        "colab": {
          "base_uri": "https://localhost:8080/"
        },
        "outputId": "ac5ba4e7-21ca-4d93-f140-d28bf4cd4b2b"
      },
      "source": [
        "print(metrics.confusion_matrix(expected_y, predicted_y))"
      ],
      "execution_count": null,
      "outputs": [
        {
          "output_type": "stream",
          "text": [
            "[[235  13]\n",
            " [ 17  61]]\n"
          ],
          "name": "stdout"
        }
      ]
    },
    {
      "cell_type": "code",
      "metadata": {
        "id": "B2-jLheAhYA2"
      },
      "source": [
        "#random forest classifier\n",
        "from sklearn.ensemble import RandomForestClassifier\n"
      ],
      "execution_count": null,
      "outputs": []
    },
    {
      "cell_type": "code",
      "metadata": {
        "id": "MTVtotEhiip3"
      },
      "source": [
        "from sklearn.model_selection import RandomizedSearchCV"
      ],
      "execution_count": null,
      "outputs": []
    },
    {
      "cell_type": "code",
      "metadata": {
        "id": "xWIuP6M1otY7"
      },
      "source": [
        "from scipy.stats import uniform, truncnorm, randint"
      ],
      "execution_count": null,
      "outputs": []
    },
    {
      "cell_type": "code",
      "metadata": {
        "id": "lvBBkPJ2kYaJ"
      },
      "source": [
        "model_params = {\n",
        "    # randomly sample numbers from 4 to 204 estimators\n",
        "    'n_estimators': randint(4,200),\n",
        "    # normally distributed max_features, with mean .25 stddev 0.1, bounded between 0 and 1\n",
        "    'max_features': truncnorm(a=0, b=1, loc=0.25, scale=0.1),\n",
        "    # uniform distribution from 0.01 to 0.2 (0.01 + 0.199)\n",
        "    'min_samples_split': uniform(0.01, 0.199)\n",
        "}"
      ],
      "execution_count": null,
      "outputs": []
    },
    {
      "cell_type": "code",
      "metadata": {
        "id": "nQtHH3nQkbQ-"
      },
      "source": [
        "rf_model = RandomForestClassifier()"
      ],
      "execution_count": null,
      "outputs": []
    },
    {
      "cell_type": "code",
      "metadata": {
        "id": "WnJhdHUKkbJG"
      },
      "source": [
        "# set up random search meta-estimator\n",
        "# this will train 100 models over 5 folds of cross validation (500 models total)\n",
        "\n",
        "clf  =RandomizedSearchCV(rf_model, model_params, n_iter=100, cv=5, random_state=1)"
      ],
      "execution_count": null,
      "outputs": []
    },
    {
      "cell_type": "code",
      "metadata": {
        "id": "7f_9cNMakbDI"
      },
      "source": [
        "model = clf.fit(X_df, y_df)"
      ],
      "execution_count": null,
      "outputs": []
    },
    {
      "cell_type": "code",
      "metadata": {
        "colab": {
          "base_uri": "https://localhost:8080/"
        },
        "id": "hv9KFY-dqMB6",
        "outputId": "91c826c2-d96b-4ab3-d3d4-d46185f119c8"
      },
      "source": [
        "# print winning set of hyperparameters\n",
        "from pprint import pprint\n",
        "pprint(model.best_estimator_.get_params())"
      ],
      "execution_count": null,
      "outputs": [
        {
          "output_type": "stream",
          "text": [
            "{'bootstrap': True,\n",
            " 'ccp_alpha': 0.0,\n",
            " 'class_weight': None,\n",
            " 'criterion': 'gini',\n",
            " 'max_depth': None,\n",
            " 'max_features': 0.2606530421228426,\n",
            " 'max_leaf_nodes': None,\n",
            " 'max_samples': None,\n",
            " 'min_impurity_decrease': 0.0,\n",
            " 'min_impurity_split': None,\n",
            " 'min_samples_leaf': 1,\n",
            " 'min_samples_split': 0.013956146634119322,\n",
            " 'min_weight_fraction_leaf': 0.0,\n",
            " 'n_estimators': 105,\n",
            " 'n_jobs': None,\n",
            " 'oob_score': False,\n",
            " 'random_state': None,\n",
            " 'verbose': 0,\n",
            " 'warm_start': False}\n"
          ],
          "name": "stdout"
        }
      ]
    },
    {
      "cell_type": "code",
      "metadata": {
        "id": "o6brXJTkmuHY"
      },
      "source": [
        "expected_y = y_df_test\n",
        "predicted_y = clf.predict(X_df_test)"
      ],
      "execution_count": null,
      "outputs": []
    },
    {
      "cell_type": "code",
      "metadata": {
        "id": "W3X5g4Vbmt6V"
      },
      "source": [
        "from sklearn import metrics\n",
        "from sklearn.metrics import classification_report, confusion_matrix"
      ],
      "execution_count": null,
      "outputs": []
    },
    {
      "cell_type": "code",
      "metadata": {
        "colab": {
          "base_uri": "https://localhost:8080/"
        },
        "id": "GqfD-lrJmtvh",
        "outputId": "1eaab4f9-cb8a-4d17-a134-380b07f5a0a1"
      },
      "source": [
        "print(metrics.classification_report(expected_y,predicted_y))"
      ],
      "execution_count": null,
      "outputs": [
        {
          "output_type": "stream",
          "text": [
            "              precision    recall  f1-score   support\n",
            "\n",
            "           0       0.87      0.99      0.92       205\n",
            "           1       0.92      0.83      0.87        78\n",
            "           2       1.00      0.49      0.66        43\n",
            "\n",
            "    accuracy                           0.89       326\n",
            "   macro avg       0.93      0.77      0.82       326\n",
            "weighted avg       0.90      0.89      0.88       326\n",
            "\n"
          ],
          "name": "stdout"
        }
      ]
    },
    {
      "cell_type": "code",
      "metadata": {
        "id": "UDnne3m8sDmG"
      },
      "source": [
        ""
      ],
      "execution_count": null,
      "outputs": []
    },
    {
      "cell_type": "code",
      "metadata": {
        "id": "CbBT6qxRsDfv"
      },
      "source": [
        ""
      ],
      "execution_count": null,
      "outputs": []
    },
    {
      "cell_type": "code",
      "metadata": {
        "id": "V4JOuN1gsDYO"
      },
      "source": [
        ""
      ],
      "execution_count": null,
      "outputs": []
    },
    {
      "cell_type": "code",
      "metadata": {
        "id": "lZaheBiZ-IHd"
      },
      "source": [
        "#import pickle\n",
        "# open a file, where you ant to store the data\n",
        "##file = open('model_cbc_trial.pkl', 'wb')\n",
        "\n",
        "# dump information to that file\n",
        "#pickle.dump(model_cbc, file)"
      ],
      "execution_count": null,
      "outputs": []
    },
    {
      "cell_type": "code",
      "metadata": {
        "colab": {
          "base_uri": "https://localhost:8080/",
          "height": 17
        },
        "id": "ii_izV6T-h-z",
        "outputId": "81fd56da-567f-467a-c0e1-586dd21ff8c2"
      },
      "source": [
        "#files.download('model_cbc_trial.pkl')"
      ],
      "execution_count": null,
      "outputs": [
        {
          "output_type": "display_data",
          "data": {
            "application/javascript": [
              "\n",
              "    async function download(id, filename, size) {\n",
              "      if (!google.colab.kernel.accessAllowed) {\n",
              "        return;\n",
              "      }\n",
              "      const div = document.createElement('div');\n",
              "      const label = document.createElement('label');\n",
              "      label.textContent = `Downloading \"${filename}\": `;\n",
              "      div.appendChild(label);\n",
              "      const progress = document.createElement('progress');\n",
              "      progress.max = size;\n",
              "      div.appendChild(progress);\n",
              "      document.body.appendChild(div);\n",
              "\n",
              "      const buffers = [];\n",
              "      let downloaded = 0;\n",
              "\n",
              "      const channel = await google.colab.kernel.comms.open(id);\n",
              "      // Send a message to notify the kernel that we're ready.\n",
              "      channel.send({})\n",
              "\n",
              "      for await (const message of channel.messages) {\n",
              "        // Send a message to notify the kernel that we're ready.\n",
              "        channel.send({})\n",
              "        if (message.buffers) {\n",
              "          for (const buffer of message.buffers) {\n",
              "            buffers.push(buffer);\n",
              "            downloaded += buffer.byteLength;\n",
              "            progress.value = downloaded;\n",
              "          }\n",
              "        }\n",
              "      }\n",
              "      const blob = new Blob(buffers, {type: 'application/binary'});\n",
              "      const a = document.createElement('a');\n",
              "      a.href = window.URL.createObjectURL(blob);\n",
              "      a.download = filename;\n",
              "      div.appendChild(a);\n",
              "      a.click();\n",
              "      div.remove();\n",
              "    }\n",
              "  "
            ],
            "text/plain": [
              "<IPython.core.display.Javascript object>"
            ]
          },
          "metadata": {
            "tags": []
          }
        },
        {
          "output_type": "display_data",
          "data": {
            "application/javascript": [
              "download(\"download_3bd88e24-e6a4-4720-89d5-579c9d316e69\", \"model_cbc_trial.pkl\", 1051481)"
            ],
            "text/plain": [
              "<IPython.core.display.Javascript object>"
            ]
          },
          "metadata": {
            "tags": []
          }
        }
      ]
    }
  ]
}